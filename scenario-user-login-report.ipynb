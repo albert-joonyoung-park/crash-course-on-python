{
 "cells": [
  {
   "cell_type": "code",
   "execution_count": 1,
   "id": "0ccfa2e3",
   "metadata": {
    "_cell_guid": "b1076dfc-b9ad-4769-8c92-a6c4dae69d19",
    "_uuid": "8f2839f25d086af736a60e9eeb907d3b93b6e0e5",
    "execution": {
     "iopub.execute_input": "2023-06-28T03:52:49.117622Z",
     "iopub.status.busy": "2023-06-28T03:52:49.117195Z",
     "iopub.status.idle": "2023-06-28T03:52:49.127301Z",
     "shell.execute_reply": "2023-06-28T03:52:49.126410Z"
    },
    "papermill": {
     "duration": 0.01814,
     "end_time": "2023-06-28T03:52:49.129601",
     "exception": false,
     "start_time": "2023-06-28T03:52:49.111461",
     "status": "completed"
    },
    "tags": []
   },
   "outputs": [],
   "source": [
    "# This Python 3 environment comes with many helpful analytics libraries installed\n",
    "# It is defined by the kaggle/python Docker image: https://github.com/kaggle/docker-python\n",
    "# For example, here's several helpful packages to load\n",
    "\n",
    "import numpy as np # linear algebra\n",
    "import pandas as pd # data processing, CSV file I/O (e.g. pd.read_csv)\n",
    "\n",
    "# Input data files are available in the read-only \"../input/\" directory\n",
    "# For example, running this (by clicking run or pressing Shift+Enter) will list all files under the input directory\n",
    "\n",
    "import os\n",
    "for dirname, _, filenames in os.walk('/kaggle/input'):\n",
    "    for filename in filenames:\n",
    "        print(os.path.join(dirname, filename))\n",
    "\n",
    "# You can write up to 20GB to the current directory (/kaggle/working/) that gets preserved as output when you create a version using \"Save & Run All\" \n",
    "# You can also write temporary files to /kaggle/temp/, but they won't be saved outside of the current session"
   ]
  },
  {
   "cell_type": "markdown",
   "id": "bd9b2bc9",
   "metadata": {
    "papermill": {
     "duration": 0.002936,
     "end_time": "2023-06-28T03:52:49.135988",
     "exception": false,
     "start_time": "2023-06-28T03:52:49.133052",
     "status": "completed"
    },
    "tags": []
   },
   "source": [
    "## Process Event objects to find out login/logout users for each associated machine."
   ]
  },
  {
   "cell_type": "markdown",
   "id": "ac20c44c",
   "metadata": {
    "papermill": {
     "duration": 0.002855,
     "end_time": "2023-06-28T03:52:49.142008",
     "exception": false,
     "start_time": "2023-06-28T03:52:49.139153",
     "status": "completed"
    },
    "tags": []
   },
   "source": [
    "### Define functions as designed at the stage of Research, Solution planning"
   ]
  },
  {
   "cell_type": "code",
   "execution_count": 2,
   "id": "af69e661",
   "metadata": {
    "execution": {
     "iopub.execute_input": "2023-06-28T03:52:49.150610Z",
     "iopub.status.busy": "2023-06-28T03:52:49.149701Z",
     "iopub.status.idle": "2023-06-28T03:52:49.157523Z",
     "shell.execute_reply": "2023-06-28T03:52:49.156717Z"
    },
    "papermill": {
     "duration": 0.014597,
     "end_time": "2023-06-28T03:52:49.159789",
     "exception": false,
     "start_time": "2023-06-28T03:52:49.145192",
     "status": "completed"
    },
    "tags": []
   },
   "outputs": [],
   "source": [
    "# extract date attribute from event object\n",
    "# To be used as decorator in list.sort(key)\n",
    "def get_event_date(event):\n",
    "    return event.date\n",
    "\n",
    "# process the list of event object that contains machine, user, date and type\n",
    "def current_users(events):\n",
    "    # sort the events by date, important when deciding user login/logout status\n",
    "    events.sort(key=get_event_date)\n",
    "    machines = {}  # dictionary to store all the machines from events as keys\n",
    "    \n",
    "    for event in events:\n",
    "        if event.machine not in machines:\n",
    "            machines[event.machine] = set()   # if encounted first, add the machine:empty_set pair\n",
    "        if event.type == \"login\":\n",
    "            machines[event.machine].add(event.user)  # add 'login' type to the value set of the machine\n",
    "        elif event.type == \"logout\" and event.user in machines[event.machine]:\n",
    "            machines[event.machine].remove(event.user)   # remove 'logout' type from the value set of the machine\n",
    "    return machines\n",
    "\n",
    "def generate_report(machines):\n",
    "    for machine, users in machines.items():\n",
    "        if len(users) > 0:   # process only the machines with user(s)\n",
    "            user_list = \", \".join(users)\n",
    "            print(\"{}: {}\".format(machine, user_list))\n",
    "    \n"
   ]
  },
  {
   "cell_type": "markdown",
   "id": "4cf8d335",
   "metadata": {
    "papermill": {
     "duration": 0.002802,
     "end_time": "2023-06-28T03:52:49.165842",
     "exception": false,
     "start_time": "2023-06-28T03:52:49.163040",
     "status": "completed"
    },
    "tags": []
   },
   "source": [
    "### Define Event class for simulation"
   ]
  },
  {
   "cell_type": "code",
   "execution_count": 3,
   "id": "5c03f615",
   "metadata": {
    "execution": {
     "iopub.execute_input": "2023-06-28T03:52:49.173921Z",
     "iopub.status.busy": "2023-06-28T03:52:49.173097Z",
     "iopub.status.idle": "2023-06-28T03:52:49.178851Z",
     "shell.execute_reply": "2023-06-28T03:52:49.178129Z"
    },
    "papermill": {
     "duration": 0.012087,
     "end_time": "2023-06-28T03:52:49.180928",
     "exception": false,
     "start_time": "2023-06-28T03:52:49.168841",
     "status": "completed"
    },
    "tags": []
   },
   "outputs": [],
   "source": [
    "class Event:\n",
    "  def __init__(self, event_date, event_type, machine_name, user):\n",
    "    self.date = event_date\n",
    "    self.type = event_type\n",
    "    self.machine = machine_name\n",
    "    self.user = user"
   ]
  },
  {
   "cell_type": "markdown",
   "id": "6a05473e",
   "metadata": {
    "papermill": {
     "duration": 0.002819,
     "end_time": "2023-06-28T03:52:49.186855",
     "exception": false,
     "start_time": "2023-06-28T03:52:49.184036",
     "status": "completed"
    },
    "tags": []
   },
   "source": [
    "### Create sample instances of Event class for testing"
   ]
  },
  {
   "cell_type": "code",
   "execution_count": 4,
   "id": "9ab4a6a7",
   "metadata": {
    "execution": {
     "iopub.execute_input": "2023-06-28T03:52:49.195099Z",
     "iopub.status.busy": "2023-06-28T03:52:49.194072Z",
     "iopub.status.idle": "2023-06-28T03:52:49.199633Z",
     "shell.execute_reply": "2023-06-28T03:52:49.198858Z"
    },
    "papermill": {
     "duration": 0.012047,
     "end_time": "2023-06-28T03:52:49.201872",
     "exception": false,
     "start_time": "2023-06-28T03:52:49.189825",
     "status": "completed"
    },
    "tags": []
   },
   "outputs": [],
   "source": [
    "events = [\n",
    "    Event('2020-01-21 12:45:56', 'login', 'myworkstation.local', 'jordan'),\n",
    "    Event('2020-01-22 15:53:42', 'logout', 'webserver.local', 'jordan'),\n",
    "    Event('2020-01-21 18:53:21', 'login', 'webserver.local', 'lane'),\n",
    "    Event('2020-01-22 10:25:34', 'logout', 'myworkstation.local', 'jordan'),\n",
    "    Event('2020-01-21 08:20:01', 'login', 'webserver.local', 'jordan'),\n",
    "    Event('2020-01-23 11:24:35', 'login', 'mailserver.local', 'chris'),\n",
    "    Event('2020-01-24 10:14:15', 'logout', 'webserver.local', 'chris'),\n",
    "]"
   ]
  },
  {
   "cell_type": "markdown",
   "id": "6d1e58ce",
   "metadata": {
    "papermill": {
     "duration": 0.002852,
     "end_time": "2023-06-28T03:52:49.208038",
     "exception": false,
     "start_time": "2023-06-28T03:52:49.205186",
     "status": "completed"
    },
    "tags": []
   },
   "source": [
    "### Test"
   ]
  },
  {
   "cell_type": "code",
   "execution_count": 5,
   "id": "122c77be",
   "metadata": {
    "execution": {
     "iopub.execute_input": "2023-06-28T03:52:49.217818Z",
     "iopub.status.busy": "2023-06-28T03:52:49.217140Z",
     "iopub.status.idle": "2023-06-28T03:52:49.222513Z",
     "shell.execute_reply": "2023-06-28T03:52:49.221718Z"
    },
    "papermill": {
     "duration": 0.013648,
     "end_time": "2023-06-28T03:52:49.224746",
     "exception": false,
     "start_time": "2023-06-28T03:52:49.211098",
     "status": "completed"
    },
    "tags": []
   },
   "outputs": [
    {
     "name": "stdout",
     "output_type": "stream",
     "text": [
      "{'webserver.local': {'lane'}, 'myworkstation.local': set(), 'mailserver.local': {'chris'}}\n"
     ]
    }
   ],
   "source": [
    "users = current_users(events)\n",
    "print(users)"
   ]
  },
  {
   "cell_type": "code",
   "execution_count": 6,
   "id": "176a6b7c",
   "metadata": {
    "execution": {
     "iopub.execute_input": "2023-06-28T03:52:49.234120Z",
     "iopub.status.busy": "2023-06-28T03:52:49.233492Z",
     "iopub.status.idle": "2023-06-28T03:52:49.238533Z",
     "shell.execute_reply": "2023-06-28T03:52:49.237226Z"
    },
    "papermill": {
     "duration": 0.012479,
     "end_time": "2023-06-28T03:52:49.241047",
     "exception": false,
     "start_time": "2023-06-28T03:52:49.228568",
     "status": "completed"
    },
    "tags": []
   },
   "outputs": [
    {
     "name": "stdout",
     "output_type": "stream",
     "text": [
      "webserver.local: lane\n",
      "mailserver.local: chris\n"
     ]
    }
   ],
   "source": [
    "generate_report(users)"
   ]
  }
 ],
 "metadata": {
  "kernelspec": {
   "display_name": "Python 3",
   "language": "python",
   "name": "python3"
  },
  "language_info": {
   "codemirror_mode": {
    "name": "ipython",
    "version": 3
   },
   "file_extension": ".py",
   "mimetype": "text/x-python",
   "name": "python",
   "nbconvert_exporter": "python",
   "pygments_lexer": "ipython3",
   "version": "3.10.10"
  },
  "papermill": {
   "default_parameters": {},
   "duration": 13.113797,
   "end_time": "2023-06-28T03:52:50.066843",
   "environment_variables": {},
   "exception": null,
   "input_path": "__notebook__.ipynb",
   "output_path": "__notebook__.ipynb",
   "parameters": {},
   "start_time": "2023-06-28T03:52:36.953046",
   "version": "2.4.0"
  }
 },
 "nbformat": 4,
 "nbformat_minor": 5
}
