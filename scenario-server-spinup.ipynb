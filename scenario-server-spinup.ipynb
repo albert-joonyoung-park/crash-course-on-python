{
 "cells": [
  {
   "cell_type": "code",
   "execution_count": 1,
   "id": "790d573e",
   "metadata": {
    "_cell_guid": "b1076dfc-b9ad-4769-8c92-a6c4dae69d19",
    "_uuid": "8f2839f25d086af736a60e9eeb907d3b93b6e0e5",
    "execution": {
     "iopub.execute_input": "2023-06-27T20:25:10.088466Z",
     "iopub.status.busy": "2023-06-27T20:25:10.088004Z",
     "iopub.status.idle": "2023-06-27T20:25:10.100443Z",
     "shell.execute_reply": "2023-06-27T20:25:10.099157Z"
    },
    "papermill": {
     "duration": 0.021023,
     "end_time": "2023-06-27T20:25:10.102975",
     "exception": false,
     "start_time": "2023-06-27T20:25:10.081952",
     "status": "completed"
    },
    "tags": []
   },
   "outputs": [],
   "source": [
    "# This Python 3 environment comes with many helpful analytics libraries installed\n",
    "# It is defined by the kaggle/python Docker image: https://github.com/kaggle/docker-python\n",
    "# For example, here's several helpful packages to load\n",
    "\n",
    "import numpy as np # linear algebra\n",
    "import pandas as pd # data processing, CSV file I/O (e.g. pd.read_csv)\n",
    "\n",
    "# Input data files are available in the read-only \"../input/\" directory\n",
    "# For example, running this (by clicking run or pressing Shift+Enter) will list all files under the input directory\n",
    "\n",
    "import os\n",
    "for dirname, _, filenames in os.walk('/kaggle/input'):\n",
    "    for filename in filenames:\n",
    "        print(os.path.join(dirname, filename))\n",
    "\n",
    "# You can write up to 20GB to the current directory (/kaggle/working/) that gets preserved as output when you create a version using \"Save & Run All\" \n",
    "# You can also write temporary files to /kaggle/temp/, but they won't be saved outside of the current session"
   ]
  },
  {
   "cell_type": "markdown",
   "id": "070d5529",
   "metadata": {
    "papermill": {
     "duration": 0.003666,
     "end_time": "2023-06-27T20:25:10.110865",
     "exception": false,
     "start_time": "2023-06-27T20:25:10.107199",
     "status": "completed"
    },
    "tags": []
   },
   "source": [
    "### assessment - object-oriented programming\n",
    "1. simulate a server that's taking connections from the outside\n",
    "1. simulate a load balancer that ensures that there are enough servers to serve those connections"
   ]
  },
  {
   "cell_type": "markdown",
   "id": "a0b100b9",
   "metadata": {
    "papermill": {
     "duration": 0.003699,
     "end_time": "2023-06-27T20:25:10.118646",
     "exception": false,
     "start_time": "2023-06-27T20:25:10.114947",
     "status": "completed"
    },
    "tags": []
   },
   "source": [
    "**Define a Server class for simulation**\n",
    "* Take care of the connections, represented by an id,(e.g. IP address of the device connecting to the server)\n",
    "* For simulation, each connection creates a random amount of load in the server, between 1 and 10."
   ]
  },
  {
   "cell_type": "code",
   "execution_count": 2,
   "id": "a58d2747",
   "metadata": {
    "execution": {
     "iopub.execute_input": "2023-06-27T20:25:10.128333Z",
     "iopub.status.busy": "2023-06-27T20:25:10.127937Z",
     "iopub.status.idle": "2023-06-27T20:25:10.135654Z",
     "shell.execute_reply": "2023-06-27T20:25:10.134237Z"
    },
    "papermill": {
     "duration": 0.015329,
     "end_time": "2023-06-27T20:25:10.137941",
     "exception": false,
     "start_time": "2023-06-27T20:25:10.122612",
     "status": "completed"
    },
    "tags": []
   },
   "outputs": [],
   "source": [
    "import random\n",
    "\n",
    "class Server:\n",
    "    def __init__(self):\n",
    "        \"\"\"Creates a new server instance, with no active connections.\"\"\"\n",
    "        self.connections = {}\n",
    "\n",
    "    def add_connection(self, connection_id):\n",
    "        \"\"\"Adds a new connection to this server.\"\"\"\n",
    "        connection_load = random.random()*10+1\n",
    "        # Add the connection to the dictionary with the calculated load\n",
    "        self.connections[connection_id] = connection_load\n",
    "\n",
    "    def close_connection(self, connection_id):\n",
    "        \"\"\"Closes a connection on this server.\"\"\"\n",
    "        # Remove the connection from the dictionary\n",
    "        del self.connections[connection_id]\n",
    "\n",
    "    def load(self):\n",
    "        \"\"\"Calculates the current load for all connections.\"\"\"\n",
    "        total = 0\n",
    "        # Add up the load for each of the connections\n",
    "        for load in self.connections.values():\n",
    "            total += load\n",
    "        return total\n",
    "\n",
    "    def __str__(self):\n",
    "        \"\"\"Returns a string with the current load of the server\"\"\"\n",
    "        return \"{:.2f}%\".format(self.load())\n",
    "    "
   ]
  },
  {
   "cell_type": "markdown",
   "id": "98c4c8ea",
   "metadata": {
    "papermill": {
     "duration": 0.003612,
     "end_time": "2023-06-27T20:25:10.145670",
     "exception": false,
     "start_time": "2023-06-27T20:25:10.142058",
     "status": "completed"
    },
    "tags": []
   },
   "source": [
    "**Test some Server instances**   \n",
    "* Create a Server instance   \n",
    "* Add a connection to the server manually   \n",
    "* Invoke methods to check the load values\n"
   ]
  },
  {
   "cell_type": "code",
   "execution_count": 3,
   "id": "c717158e",
   "metadata": {
    "execution": {
     "iopub.execute_input": "2023-06-27T20:25:10.156651Z",
     "iopub.status.busy": "2023-06-27T20:25:10.155341Z",
     "iopub.status.idle": "2023-06-27T20:25:10.163193Z",
     "shell.execute_reply": "2023-06-27T20:25:10.161530Z"
    },
    "papermill": {
     "duration": 0.015734,
     "end_time": "2023-06-27T20:25:10.165162",
     "exception": false,
     "start_time": "2023-06-27T20:25:10.149428",
     "status": "completed"
    },
    "tags": []
   },
   "outputs": [
    {
     "name": "stdout",
     "output_type": "stream",
     "text": [
      "8.174625199549567\n",
      "8.17%\n"
     ]
    }
   ],
   "source": [
    "server = Server()\n",
    "server.add_connection(\"192.168.1.1\")\n",
    "\n",
    "print(server.load())\n",
    "\n",
    "print(server)"
   ]
  },
  {
   "cell_type": "markdown",
   "id": "684c49f2",
   "metadata": {
    "papermill": {
     "duration": 0.003967,
     "end_time": "2023-06-27T20:25:10.177339",
     "exception": false,
     "start_time": "2023-06-27T20:25:10.173372",
     "status": "completed"
    },
    "tags": []
   },
   "source": [
    "**Test closing a connection**   \n",
    "* Close the connection added earlier using the Server class method   \n",
    "* Check load values, should be 0"
   ]
  },
  {
   "cell_type": "code",
   "execution_count": 4,
   "id": "a2c779a4",
   "metadata": {
    "execution": {
     "iopub.execute_input": "2023-06-27T20:25:10.190077Z",
     "iopub.status.busy": "2023-06-27T20:25:10.189756Z",
     "iopub.status.idle": "2023-06-27T20:25:10.195903Z",
     "shell.execute_reply": "2023-06-27T20:25:10.194377Z"
    },
    "papermill": {
     "duration": 0.01455,
     "end_time": "2023-06-27T20:25:10.197904",
     "exception": false,
     "start_time": "2023-06-27T20:25:10.183354",
     "status": "completed"
    },
    "tags": []
   },
   "outputs": [
    {
     "name": "stdout",
     "output_type": "stream",
     "text": [
      "0\n"
     ]
    }
   ],
   "source": [
    "server.close_connection(\"192.168.1.1\")\n",
    "print(server.load())"
   ]
  },
  {
   "cell_type": "markdown",
   "id": "652a8cfc",
   "metadata": {
    "papermill": {
     "duration": 0.004478,
     "end_time": "2023-06-27T20:25:10.207474",
     "exception": false,
     "start_time": "2023-06-27T20:25:10.202996",
     "status": "completed"
    },
    "tags": []
   },
   "source": [
    "**Define a LoadBalancing class for simulation**\n",
    "* Start with one server\n",
    "* When a connection gets added, it randomly selects an available server to serve that connection\n",
    "* Pass the connection to the selected server\n",
    "* Keep track of the ongoing connections to be able to close them"
   ]
  },
  {
   "cell_type": "code",
   "execution_count": 5,
   "id": "7a13e72f",
   "metadata": {
    "execution": {
     "iopub.execute_input": "2023-06-27T20:25:10.219035Z",
     "iopub.status.busy": "2023-06-27T20:25:10.218415Z",
     "iopub.status.idle": "2023-06-27T20:25:10.229616Z",
     "shell.execute_reply": "2023-06-27T20:25:10.228596Z"
    },
    "papermill": {
     "duration": 0.019777,
     "end_time": "2023-06-27T20:25:10.231838",
     "exception": false,
     "start_time": "2023-06-27T20:25:10.212061",
     "status": "completed"
    },
    "tags": []
   },
   "outputs": [],
   "source": [
    "class LoadBalancing:\n",
    "    def __init__(self):\n",
    "        \"\"\"Initialize the load balancing system with one server\"\"\"\n",
    "        self.connections = {}\n",
    "        self.servers = [Server()]\n",
    "\n",
    "    def add_connection(self, connection_id):\n",
    "        \"\"\"Randomly selects a server and adds a connection to it.\"\"\"\n",
    "        self.ensure_availability()\n",
    "        \n",
    "        server = random.choice(self.servers)\n",
    "        # Add the connection to the dictionary with the selected server\n",
    "        self.connections[connection_id] = server\n",
    "        # Add the connection to the server\n",
    "        server.add_connection(connection_id)\n",
    "        \n",
    "    def close_connection(self, connection_id):\n",
    "        \"\"\"Closes the connection on the the server corresponding to connection_id.\"\"\"\n",
    "        # Find out the right server\n",
    "        close_server = self.connections[connection_id]\n",
    "        # Close the connection on the server\n",
    "        close_server.close_connection(connection_id)\n",
    "        # Remove the connection from the load balancer\n",
    "        del self.connections[connection_id]\n",
    "\n",
    "    def avg_load(self):\n",
    "        \"\"\"Calculates the average load of all servers\"\"\"\n",
    "        # Sum the load of each server and divide by the amount of servers\n",
    "        total_load = 0\n",
    "        no_servers = len(self.servers)\n",
    "        if no_servers > 0:\n",
    "            for server in self.servers:\n",
    "                for load in server.connections.values():\n",
    "                    total_load += load\n",
    "            return total_load / no_servers\n",
    "        else:\n",
    "            return 0\n",
    "\n",
    "    def ensure_availability(self):\n",
    "        \"\"\"If the average load is higher than 50, spin up a new server\"\"\"\n",
    "        if self.avg_load() > 50:\n",
    "            print(\"Avg. server load {}, adding a server...\".format(self.avg_load()))\n",
    "            self.servers.append(Server())\n",
    "\n",
    "    def __str__(self):\n",
    "        \"\"\"Returns a string with the load for each server.\"\"\"\n",
    "        loads = [str(server) for server in self.servers]\n",
    "        return \"[{}]\".format(\",\".join(loads))"
   ]
  },
  {
   "cell_type": "markdown",
   "id": "a24be68a",
   "metadata": {
    "papermill": {
     "duration": 0.003674,
     "end_time": "2023-06-27T20:25:10.240074",
     "exception": false,
     "start_time": "2023-06-27T20:25:10.236400",
     "status": "completed"
    },
    "tags": []
   },
   "source": [
    "**Test with one incoming connection**\n",
    "* Create an instance of LoadBalancing\n",
    "* Add a connection to the LoadBalancing\n",
    "* Use the class method to check the calculated output of loads from the server(s)"
   ]
  },
  {
   "cell_type": "code",
   "execution_count": 6,
   "id": "012b2197",
   "metadata": {
    "execution": {
     "iopub.execute_input": "2023-06-27T20:25:10.249557Z",
     "iopub.status.busy": "2023-06-27T20:25:10.249193Z",
     "iopub.status.idle": "2023-06-27T20:25:10.254479Z",
     "shell.execute_reply": "2023-06-27T20:25:10.253311Z"
    },
    "papermill": {
     "duration": 0.012171,
     "end_time": "2023-06-27T20:25:10.256125",
     "exception": false,
     "start_time": "2023-06-27T20:25:10.243954",
     "status": "completed"
    },
    "tags": []
   },
   "outputs": [
    {
     "name": "stdout",
     "output_type": "stream",
     "text": [
      "4.934077787764557\n"
     ]
    }
   ],
   "source": [
    "l = LoadBalancing()\n",
    "l.add_connection(\"fdca:83d2::f20d\")\n",
    "print(l.avg_load())"
   ]
  },
  {
   "cell_type": "markdown",
   "id": "029be53b",
   "metadata": {
    "papermill": {
     "duration": 0.003596,
     "end_time": "2023-06-27T20:25:10.263822",
     "exception": false,
     "start_time": "2023-06-27T20:25:10.260226",
     "status": "completed"
    },
    "tags": []
   },
   "source": [
    "**Add another server to the LoadBalancing**   \n",
    "* Use the LoadBalancing class method and add another server    \n",
    "* Check the output of average loads"
   ]
  },
  {
   "cell_type": "code",
   "execution_count": 7,
   "id": "d8a49197",
   "metadata": {
    "execution": {
     "iopub.execute_input": "2023-06-27T20:25:10.273086Z",
     "iopub.status.busy": "2023-06-27T20:25:10.272718Z",
     "iopub.status.idle": "2023-06-27T20:25:10.278473Z",
     "shell.execute_reply": "2023-06-27T20:25:10.276877Z"
    },
    "papermill": {
     "duration": 0.013364,
     "end_time": "2023-06-27T20:25:10.280974",
     "exception": false,
     "start_time": "2023-06-27T20:25:10.267610",
     "status": "completed"
    },
    "tags": []
   },
   "outputs": [
    {
     "name": "stdout",
     "output_type": "stream",
     "text": [
      "2.4670388938822785\n"
     ]
    }
   ],
   "source": [
    "l.servers.append(Server())\n",
    "print(l.avg_load())"
   ]
  },
  {
   "cell_type": "markdown",
   "id": "c55294d1",
   "metadata": {
    "papermill": {
     "duration": 0.00401,
     "end_time": "2023-06-27T20:25:10.289388",
     "exception": false,
     "start_time": "2023-06-27T20:25:10.285378",
     "status": "completed"
    },
    "tags": []
   },
   "source": [
    "**Close the connection**   \n",
    "* Close the connection from the server assigned to\n",
    "* Remove the connection information from the LoadBalancing   \n",
    "* Check the output of average load value"
   ]
  },
  {
   "cell_type": "code",
   "execution_count": 8,
   "id": "a206fa81",
   "metadata": {
    "execution": {
     "iopub.execute_input": "2023-06-27T20:25:10.299844Z",
     "iopub.status.busy": "2023-06-27T20:25:10.299135Z",
     "iopub.status.idle": "2023-06-27T20:25:10.303312Z",
     "shell.execute_reply": "2023-06-27T20:25:10.302670Z"
    },
    "papermill": {
     "duration": 0.012473,
     "end_time": "2023-06-27T20:25:10.306040",
     "exception": false,
     "start_time": "2023-06-27T20:25:10.293567",
     "status": "completed"
    },
    "tags": []
   },
   "outputs": [
    {
     "name": "stdout",
     "output_type": "stream",
     "text": [
      "0.0\n"
     ]
    }
   ],
   "source": [
    "l.close_connection(\"fdca:83d2::f20d\")\n",
    "print(l.avg_load())"
   ]
  },
  {
   "cell_type": "markdown",
   "id": "b5ef14a8",
   "metadata": {
    "papermill": {
     "duration": 0.004007,
     "end_time": "2023-06-27T20:25:10.315067",
     "exception": false,
     "start_time": "2023-06-27T20:25:10.311060",
     "status": "completed"
    },
    "tags": []
   },
   "source": [
    "**Automate the server addition**   \n",
    "* Add a server to LoadBalancing automatically when the average load is more than 50%   \n",
    "* Implement the automation in the class methods:   \n",
    "    * ensure_availability()\n",
    "    * add_connection(connection_id)"
   ]
  },
  {
   "cell_type": "markdown",
   "id": "4f9f839c",
   "metadata": {
    "papermill": {
     "duration": 0.003917,
     "end_time": "2023-06-27T20:25:10.323035",
     "exception": false,
     "start_time": "2023-06-27T20:25:10.319118",
     "status": "completed"
    },
    "tags": []
   },
   "source": [
    "**Test the automation**   \n",
    "* Add 50 connections\n",
    "* Check each server's load for each addition\n",
    "* Verify the automation condition(50) by checking the result of average load for LoadBalancing (entire server fleet) - should display <= 50"
   ]
  },
  {
   "cell_type": "code",
   "execution_count": 9,
   "id": "d4358df0",
   "metadata": {
    "execution": {
     "iopub.execute_input": "2023-06-27T20:25:10.332609Z",
     "iopub.status.busy": "2023-06-27T20:25:10.332218Z",
     "iopub.status.idle": "2023-06-27T20:25:10.338526Z",
     "shell.execute_reply": "2023-06-27T20:25:10.337627Z"
    },
    "papermill": {
     "duration": 0.013735,
     "end_time": "2023-06-27T20:25:10.340760",
     "exception": false,
     "start_time": "2023-06-27T20:25:10.327025",
     "status": "completed"
    },
    "tags": []
   },
   "outputs": [
    {
     "name": "stdout",
     "output_type": "stream",
     "text": [
      "[4.74%,0.00%]\n",
      "[12.86%,0.00%]\n",
      "[12.86%,5.60%]\n",
      "[21.77%,5.60%]\n",
      "[21.77%,7.69%]\n",
      "[22.92%,7.69%]\n",
      "[22.92%,15.09%]\n",
      "[24.23%,15.09%]\n",
      "[32.28%,15.09%]\n",
      "[41.84%,15.09%]\n",
      "[49.12%,15.09%]\n",
      "[49.12%,23.29%]\n",
      "[58.70%,23.29%]\n",
      "[68.44%,23.29%]\n",
      "[75.14%,23.29%]\n",
      "[75.14%,28.15%]\n",
      "Avg. server load 51.648004806181085, adding a server...\n",
      "[82.85%,28.15%,0.00%]\n",
      "[82.85%,34.70%,0.00%]\n",
      "[93.23%,34.70%,0.00%]\n",
      "[97.67%,34.70%,0.00%]\n",
      "[97.67%,45.24%,0.00%]\n",
      "[99.52%,45.24%,0.00%]\n",
      "[99.52%,45.24%,3.35%]\n",
      "[103.66%,45.24%,3.35%]\n",
      "Avg. server load 50.74908884980726, adding a server...\n",
      "[107.39%,45.24%,3.35%,0.00%]\n",
      "[109.35%,45.24%,3.35%,0.00%]\n",
      "[109.35%,45.24%,11.36%,0.00%]\n",
      "[118.01%,45.24%,11.36%,0.00%]\n",
      "[122.73%,45.24%,11.36%,0.00%]\n",
      "[122.73%,52.45%,11.36%,0.00%]\n",
      "[122.73%,52.45%,21.30%,0.00%]\n",
      "[122.73%,52.45%,22.34%,0.00%]\n",
      "[122.73%,61.68%,22.34%,0.00%]\n",
      "Avg. server load 51.68641530017986, adding a server...\n",
      "[122.73%,61.68%,29.21%,0.00%,0.00%]\n",
      "[122.73%,61.68%,29.21%,6.13%,0.00%]\n",
      "[122.73%,61.68%,29.21%,6.13%,9.01%]\n",
      "[122.73%,61.68%,29.21%,6.13%,10.83%]\n",
      "[122.73%,63.53%,29.21%,6.13%,10.83%]\n",
      "[129.35%,63.53%,29.21%,6.13%,10.83%]\n",
      "[139.59%,63.53%,29.21%,6.13%,10.83%]\n",
      "[139.59%,67.99%,29.21%,6.13%,10.83%]\n",
      "Avg. server load 50.75148497071073, adding a server...\n",
      "[139.59%,67.99%,29.21%,12.17%,10.83%,0.00%]\n",
      "[139.59%,67.99%,29.21%,18.45%,10.83%,0.00%]\n",
      "[139.59%,67.99%,29.21%,20.94%,10.83%,0.00%]\n",
      "[139.59%,67.99%,32.54%,20.94%,10.83%,0.00%]\n",
      "[139.59%,67.99%,42.55%,20.94%,10.83%,0.00%]\n",
      "[139.59%,69.94%,42.55%,20.94%,10.83%,0.00%]\n",
      "[139.59%,69.94%,49.35%,20.94%,10.83%,0.00%]\n",
      "[139.59%,72.46%,49.35%,20.94%,10.83%,0.00%]\n",
      "[139.59%,77.35%,49.35%,20.94%,10.83%,0.00%]\n",
      "All connections added..\n",
      "Current avg. server load is 49.67850925324557\n"
     ]
    }
   ],
   "source": [
    "# testing by adding 50 connections \n",
    "for connection in range(50):\n",
    "    l.add_connection(connection)\n",
    "    print(l) # for each addition of connection\n",
    "\n",
    "print(\"All connections added..\")\n",
    "print(\"Current avg. server load is {}\".format(l.avg_load()))\n"
   ]
  }
 ],
 "metadata": {
  "kernelspec": {
   "display_name": "Python 3",
   "language": "python",
   "name": "python3"
  },
  "language_info": {
   "codemirror_mode": {
    "name": "ipython",
    "version": 3
   },
   "file_extension": ".py",
   "mimetype": "text/x-python",
   "name": "python",
   "nbconvert_exporter": "python",
   "pygments_lexer": "ipython3",
   "version": "3.10.10"
  },
  "papermill": {
   "default_parameters": {},
   "duration": 10.470402,
   "end_time": "2023-06-27T20:25:11.167183",
   "environment_variables": {},
   "exception": null,
   "input_path": "__notebook__.ipynb",
   "output_path": "__notebook__.ipynb",
   "parameters": {},
   "start_time": "2023-06-27T20:25:00.696781",
   "version": "2.4.0"
  }
 },
 "nbformat": 4,
 "nbformat_minor": 5
}
