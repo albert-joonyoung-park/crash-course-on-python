{
 "cells": [
  {
   "cell_type": "code",
   "execution_count": 1,
   "id": "23888f4b",
   "metadata": {
    "_cell_guid": "b1076dfc-b9ad-4769-8c92-a6c4dae69d19",
    "_uuid": "8f2839f25d086af736a60e9eeb907d3b93b6e0e5",
    "execution": {
     "iopub.execute_input": "2023-06-27T19:26:39.164349Z",
     "iopub.status.busy": "2023-06-27T19:26:39.163646Z",
     "iopub.status.idle": "2023-06-27T19:26:39.176712Z",
     "shell.execute_reply": "2023-06-27T19:26:39.175763Z"
    },
    "papermill": {
     "duration": 0.05943,
     "end_time": "2023-06-27T19:26:39.179970",
     "exception": false,
     "start_time": "2023-06-27T19:26:39.120540",
     "status": "completed"
    },
    "tags": []
   },
   "outputs": [],
   "source": [
    "# This Python 3 environment comes with many helpful analytics libraries installed\n",
    "# It is defined by the kaggle/python Docker image: https://github.com/kaggle/docker-python\n",
    "# For example, here's several helpful packages to load\n",
    "\n",
    "import numpy as np # linear algebra\n",
    "import pandas as pd # data processing, CSV file I/O (e.g. pd.read_csv)\n",
    "\n",
    "# Input data files are available in the read-only \"../input/\" directory\n",
    "# For example, running this (by clicking run or pressing Shift+Enter) will list all files under the input directory\n",
    "\n",
    "import os\n",
    "for dirname, _, filenames in os.walk('/kaggle/input'):\n",
    "    for filename in filenames:\n",
    "        print(os.path.join(dirname, filename))\n",
    "\n",
    "# You can write up to 20GB to the current directory (/kaggle/working/) that gets preserved as output when you create a version using \"Save & Run All\" \n",
    "# You can also write temporary files to /kaggle/temp/, but they won't be saved outside of the current session"
   ]
  },
  {
   "cell_type": "markdown",
   "id": "0985ce65",
   "metadata": {
    "papermill": {
     "duration": 0.04181,
     "end_time": "2023-06-27T19:26:39.263516",
     "exception": false,
     "start_time": "2023-06-27T19:26:39.221706",
     "status": "completed"
    },
    "tags": []
   },
   "source": [
    "## While Loops"
   ]
  },
  {
   "cell_type": "code",
   "execution_count": 2,
   "id": "2c1886fb",
   "metadata": {
    "execution": {
     "iopub.execute_input": "2023-06-27T19:26:39.349483Z",
     "iopub.status.busy": "2023-06-27T19:26:39.348648Z",
     "iopub.status.idle": "2023-06-27T19:26:39.362928Z",
     "shell.execute_reply": "2023-06-27T19:26:39.361676Z"
    },
    "papermill": {
     "duration": 0.062506,
     "end_time": "2023-06-27T19:26:39.365598",
     "exception": false,
     "start_time": "2023-06-27T19:26:39.303092",
     "status": "completed"
    },
    "tags": []
   },
   "outputs": [
    {
     "name": "stdout",
     "output_type": "stream",
     "text": [
      "0\n",
      "(2, [1, 3])\n",
      "(4, [1, 2, 5, 10])\n",
      "(8, [1, 2, 3, 4, 6, 8, 12, 24])\n"
     ]
    }
   ],
   "source": [
    "# This function counts the number of integer factors for a \n",
    "# \"given_number\" variable, passed through the function’s parameters.\n",
    "# The \"count\" return value includes the \"given_number\" itself as a \n",
    "# factor (n*1). \n",
    "\n",
    "def count_factors(given_number):\n",
    "    factor = 1\n",
    "    count = 1\n",
    "    list_factors = []\n",
    "    \n",
    "    if given_number == 0:\n",
    "        return 0\n",
    "    \n",
    "    while factor < given_number:\n",
    "        if given_number % factor == 0:\n",
    "            count += 1\n",
    "            list_factors.append(factor)\n",
    "        factor += 1\n",
    "    list_factors.append(given_number)\n",
    "    return count, list_factors\n",
    "\n",
    "print(count_factors(0))\n",
    "print(count_factors(3))\n",
    "print(count_factors(10))\n",
    "print(count_factors(24))"
   ]
  },
  {
   "cell_type": "code",
   "execution_count": 3,
   "id": "931ba747",
   "metadata": {
    "execution": {
     "iopub.execute_input": "2023-06-27T19:26:39.453985Z",
     "iopub.status.busy": "2023-06-27T19:26:39.453347Z",
     "iopub.status.idle": "2023-06-27T19:26:39.463477Z",
     "shell.execute_reply": "2023-06-27T19:26:39.461744Z"
    },
    "papermill": {
     "duration": 0.05759,
     "end_time": "2023-06-27T19:26:39.466347",
     "exception": false,
     "start_time": "2023-06-27T19:26:39.408757",
     "status": "completed"
    },
    "tags": []
   },
   "outputs": [
    {
     "name": "stdout",
     "output_type": "stream",
     "text": [
      "5 + 1 = 6\n",
      "5 + 2 = 7\n",
      "5 + 3 = 8\n",
      "5 + 4 = 9\n",
      "5 + 5 = 10\n",
      "17 + 1 = 18\n",
      "17 + 2 = 19\n",
      "17 + 3 = 20\n"
     ]
    }
   ],
   "source": [
    "# This function outputs an addition table. It is written to end after\n",
    "# printing 5 lines of the addition table, but it will break out of the\n",
    "# loop if the \"my_sum\" variable exceeds 20. \n",
    " \n",
    "# The function accepts a \"given_number\" variable through its \n",
    "# parameters.\n",
    "def addition_table(given_number):\n",
    " \n",
    "    # The \"iterated_number\" and \"my_sum\" variables are initialized with\n",
    "    # the value of 1. Although the \"my_sum\" variable does not need any\n",
    "    # specific initial value, it still must be assigned a data type\n",
    "    # before being used in the while loop. By initializing \"my_sum\"\n",
    "    # with any integer, the data type will be set to int.\n",
    "    iterated_number = 1\n",
    "    my_sum = 1\n",
    " \n",
    "    # The while loop will run while it is True that the   \n",
    "    # \"iterated_number\" is less than or equal to 5.\n",
    "    while iterated_number <= 5:\n",
    " \n",
    "        # The \"my_sum\" variable is assigned the value of the\n",
    "        # \"given_number\" plus the \"iterated_number\" variables.\n",
    "        my_sum = given_number + iterated_number\n",
    " \n",
    "        # Test to see if the \"my_sum\" variable is greater than 20.\n",
    "        if my_sum > 20:\n",
    "            # If True, then use the break keyword to exit the loop. \n",
    "            break\n",
    "        # If False, the Python interpreter will move to the next line \n",
    "        # in the while loop after the if-statement has ended.  \n",
    " \n",
    "        # The print function will output the \"given_number\" plus\n",
    "        # the \"iterated_number\" equals \"my_sum\".\n",
    "        print(str(given_number), \"+\", str(iterated_number), \"=\", str(my_sum))\n",
    " \n",
    "        # Increment the \"iterated_number\" before the while loop starts\n",
    "        # over again to print a new \"my_sum\" value.\n",
    "        iterated_number += 1\n",
    " \n",
    " \n",
    "addition_table(5)\n",
    "addition_table(17)\n",
    "addition_table(30)\n",
    "\n"
   ]
  },
  {
   "cell_type": "markdown",
   "id": "0fc3e77b",
   "metadata": {
    "papermill": {
     "duration": 0.040079,
     "end_time": "2023-06-27T19:26:39.547750",
     "exception": false,
     "start_time": "2023-06-27T19:26:39.507671",
     "status": "completed"
    },
    "tags": []
   },
   "source": [
    "### Multiplication table\n"
   ]
  },
  {
   "cell_type": "code",
   "execution_count": 4,
   "id": "9eeffead",
   "metadata": {
    "execution": {
     "iopub.execute_input": "2023-06-27T19:26:39.633078Z",
     "iopub.status.busy": "2023-06-27T19:26:39.632407Z",
     "iopub.status.idle": "2023-06-27T19:26:39.642559Z",
     "shell.execute_reply": "2023-06-27T19:26:39.640325Z"
    },
    "papermill": {
     "duration": 0.056686,
     "end_time": "2023-06-27T19:26:39.645103",
     "exception": false,
     "start_time": "2023-06-27T19:26:39.588417",
     "status": "completed"
    },
    "tags": []
   },
   "outputs": [
    {
     "name": "stdout",
     "output_type": "stream",
     "text": [
      "3x1=3\n",
      "3x2=6\n",
      "3x3=9\n",
      "3x4=12\n",
      "3x5=15\n",
      "5x1=5\n",
      "5x2=10\n",
      "5x3=15\n",
      "5x4=20\n",
      "5x5=25\n",
      "8x1=8\n",
      "8x2=16\n",
      "8x3=24\n"
     ]
    }
   ],
   "source": [
    "def multiplication_table(number):\n",
    "    # Initialize the appropriate variable\n",
    "    multiplier = 1\n",
    "\n",
    "    # Complete the while loop condition.\n",
    "    while multiplier <= 5:\n",
    "        result = number * multiplier \n",
    "        if  result > 25 :\n",
    "            # Enter the action to take if the result is greater than 25\n",
    "            break\n",
    "            ___\n",
    "        print(str(number) + \"x\" + str(multiplier) + \"=\" + str(result))\n",
    "        \n",
    "        # Increment the appropriate variable\n",
    "        multiplier += 1\n",
    "\n",
    "\n",
    "multiplication_table(3) \n",
    "# Should print: \n",
    "# 3x1=3 \n",
    "# 3x2=6 \n",
    "# 3x3=9 \n",
    "# 3x4=12 \n",
    "# 3x5=15\n",
    "\n",
    "multiplication_table(5) \n",
    "# Should print: \n",
    "# 5x1=5\n",
    "# 5x2=10\n",
    "# 5x3=15\n",
    "# 5x4=20\n",
    "# 5x5=25\n",
    "\n",
    "multiplication_table(8) \n",
    "# Should print:\n",
    "# 8x1=8\n",
    "# 8x2=16\n",
    "# 8x3=24"
   ]
  },
  {
   "cell_type": "markdown",
   "id": "60b3e229",
   "metadata": {
    "papermill": {
     "duration": 0.039346,
     "end_time": "2023-06-27T19:26:39.727994",
     "exception": false,
     "start_time": "2023-06-27T19:26:39.688648",
     "status": "completed"
    },
    "tags": []
   },
   "source": [
    "## Recursion\n",
    "Defining a problem in terms of itself.\n",
    "* Base Case\n",
    "* Work toward Base Case\n",
    "* Recursive Case"
   ]
  },
  {
   "cell_type": "code",
   "execution_count": 5,
   "id": "b31497b0",
   "metadata": {
    "execution": {
     "iopub.execute_input": "2023-06-27T19:26:39.815486Z",
     "iopub.status.busy": "2023-06-27T19:26:39.814715Z",
     "iopub.status.idle": "2023-06-27T19:26:39.821964Z",
     "shell.execute_reply": "2023-06-27T19:26:39.820706Z"
    },
    "papermill": {
     "duration": 0.054199,
     "end_time": "2023-06-27T19:26:39.824791",
     "exception": false,
     "start_time": "2023-06-27T19:26:39.770592",
     "status": "completed"
    },
    "tags": []
   },
   "outputs": [
    {
     "name": "stdout",
     "output_type": "stream",
     "text": [
      "True\n",
      "True\n",
      "False\n"
     ]
    }
   ],
   "source": [
    "# The function to return whether the number is a power of the given number.\n",
    "\n",
    "def is_power_of(number, base):\n",
    "  # Base case: when number is smaller than base.\n",
    "  if number < base:\n",
    "    # If number is equal to 1, it's a power (base**0).\n",
    "    return number == 1\n",
    "\n",
    "  # Recursive case: keep dividing number by base.\n",
    "  return is_power_of(number / base, base)\n",
    "\n",
    "print(is_power_of(8,2)) # Should be True\n",
    "print(is_power_of(64,4)) # Should be True\n",
    "print(is_power_of(70,10)) # Should be False"
   ]
  },
  {
   "cell_type": "code",
   "execution_count": 6,
   "id": "6ee3112c",
   "metadata": {
    "execution": {
     "iopub.execute_input": "2023-06-27T19:26:39.913187Z",
     "iopub.status.busy": "2023-06-27T19:26:39.912805Z",
     "iopub.status.idle": "2023-06-27T19:26:39.927870Z",
     "shell.execute_reply": "2023-06-27T19:26:39.926145Z"
    },
    "papermill": {
     "duration": 0.065289,
     "end_time": "2023-06-27T19:26:39.931235",
     "exception": false,
     "start_time": "2023-06-27T19:26:39.865946",
     "status": "completed"
    },
    "tags": []
   },
   "outputs": [
    {
     "name": "stdout",
     "output_type": "stream",
     "text": [
      "['Rory', 'Tony', 'Charly']\n",
      "['development', 'testing', 'Randall', 'Suzanne']\n",
      "['engineering', 'engagement', 'CEO', 'CFO']\n",
      "['test1', 'test2', 'test3']\n",
      "['eng1', 'eng2', 'eng3', 'eng4', 'eng5', 'eng6', 'eng7', 'eng8']\n",
      "['sales', 'engineering', 'everyone', 'development', 'testing', 'engagement']\n",
      " \n",
      "Evaluating member(s) Rory if he/she belongs to a group: ['sales', 'engineering', 'everyone', 'development', 'testing', 'engagement']\n",
      "Evaluating member(s) Tony if he/she belongs to a group: ['sales', 'engineering', 'everyone', 'development', 'testing', 'engagement']\n",
      "Evaluating member(s) Charly if he/she belongs to a group: ['sales', 'engineering', 'everyone', 'development', 'testing', 'engagement']\n",
      "3\n",
      "Evaluating member(s) development if he/she belongs to a group: ['sales', 'engineering', 'everyone', 'development', 'testing', 'engagement']\n",
      "Evaluating member(s) dev1 if he/she belongs to a group: ['sales', 'engineering', 'everyone', 'development', 'testing', 'engagement']\n",
      "Evaluating member(s) dev2 if he/she belongs to a group: ['sales', 'engineering', 'everyone', 'development', 'testing', 'engagement']\n",
      "Evaluating member(s) dev3 if he/she belongs to a group: ['sales', 'engineering', 'everyone', 'development', 'testing', 'engagement']\n",
      "Evaluating member(s) testing if he/she belongs to a group: ['sales', 'engineering', 'everyone', 'development', 'testing', 'engagement']\n",
      "Evaluating member(s) test1 if he/she belongs to a group: ['sales', 'engineering', 'everyone', 'development', 'testing', 'engagement']\n",
      "Evaluating member(s) test2 if he/she belongs to a group: ['sales', 'engineering', 'everyone', 'development', 'testing', 'engagement']\n",
      "Evaluating member(s) test3 if he/she belongs to a group: ['sales', 'engineering', 'everyone', 'development', 'testing', 'engagement']\n",
      "Evaluating member(s) Randall if he/she belongs to a group: ['sales', 'engineering', 'everyone', 'development', 'testing', 'engagement']\n",
      "Evaluating member(s) Suzanne if he/she belongs to a group: ['sales', 'engineering', 'everyone', 'development', 'testing', 'engagement']\n",
      "8\n",
      "Evaluating member(s) engineering if he/she belongs to a group: ['sales', 'engineering', 'everyone', 'development', 'testing', 'engagement']\n",
      "Evaluating member(s) development if he/she belongs to a group: ['sales', 'engineering', 'everyone', 'development', 'testing', 'engagement']\n",
      "Evaluating member(s) dev1 if he/she belongs to a group: ['sales', 'engineering', 'everyone', 'development', 'testing', 'engagement']\n",
      "Evaluating member(s) dev2 if he/she belongs to a group: ['sales', 'engineering', 'everyone', 'development', 'testing', 'engagement']\n",
      "Evaluating member(s) dev3 if he/she belongs to a group: ['sales', 'engineering', 'everyone', 'development', 'testing', 'engagement']\n",
      "Evaluating member(s) testing if he/she belongs to a group: ['sales', 'engineering', 'everyone', 'development', 'testing', 'engagement']\n",
      "Evaluating member(s) test1 if he/she belongs to a group: ['sales', 'engineering', 'everyone', 'development', 'testing', 'engagement']\n",
      "Evaluating member(s) test2 if he/she belongs to a group: ['sales', 'engineering', 'everyone', 'development', 'testing', 'engagement']\n",
      "Evaluating member(s) test3 if he/she belongs to a group: ['sales', 'engineering', 'everyone', 'development', 'testing', 'engagement']\n",
      "Evaluating member(s) Randall if he/she belongs to a group: ['sales', 'engineering', 'everyone', 'development', 'testing', 'engagement']\n",
      "Evaluating member(s) Suzanne if he/she belongs to a group: ['sales', 'engineering', 'everyone', 'development', 'testing', 'engagement']\n",
      "Evaluating member(s) engagement if he/she belongs to a group: ['sales', 'engineering', 'everyone', 'development', 'testing', 'engagement']\n",
      "Evaluating member(s) eng1 if he/she belongs to a group: ['sales', 'engineering', 'everyone', 'development', 'testing', 'engagement']\n",
      "Evaluating member(s) eng2 if he/she belongs to a group: ['sales', 'engineering', 'everyone', 'development', 'testing', 'engagement']\n",
      "Evaluating member(s) eng3 if he/she belongs to a group: ['sales', 'engineering', 'everyone', 'development', 'testing', 'engagement']\n",
      "Evaluating member(s) eng4 if he/she belongs to a group: ['sales', 'engineering', 'everyone', 'development', 'testing', 'engagement']\n",
      "Evaluating member(s) eng5 if he/she belongs to a group: ['sales', 'engineering', 'everyone', 'development', 'testing', 'engagement']\n",
      "Evaluating member(s) eng6 if he/she belongs to a group: ['sales', 'engineering', 'everyone', 'development', 'testing', 'engagement']\n",
      "Evaluating member(s) eng7 if he/she belongs to a group: ['sales', 'engineering', 'everyone', 'development', 'testing', 'engagement']\n",
      "Evaluating member(s) eng8 if he/she belongs to a group: ['sales', 'engineering', 'everyone', 'development', 'testing', 'engagement']\n",
      "Evaluating member(s) CEO if he/she belongs to a group: ['sales', 'engineering', 'everyone', 'development', 'testing', 'engagement']\n",
      "Evaluating member(s) CFO if he/she belongs to a group: ['sales', 'engineering', 'everyone', 'development', 'testing', 'engagement']\n",
      "18\n"
     ]
    }
   ],
   "source": [
    "# Create some data lists for the the code snippets\n",
    "# simple group lists containing the list of groups or people\n",
    "\n",
    "# sales ['Rory', 'Tony', 'Charly']\n",
    "# engineering ['development', 'testing', 'Randall', 'Suzanne']\n",
    "# everyone ['engineering', 'engagement', 'CEO', 'CFO']\n",
    "\n",
    "sales = ['Rory', 'Tony', 'Charly']\n",
    "engineering = ['development', 'testing', 'Randall', 'Suzanne']\n",
    "everyone = ['engineering', 'engagement', 'CEO', 'CFO']\n",
    "development = ['dev1', 'dev2', 'dev3']\n",
    "testing = ['test1', 'test2', 'test3']\n",
    "engagement = ['eng1','eng2','eng3', 'eng4','eng5', 'eng6','eng7','eng8']\n",
    "groups = ['sales', 'engineering', 'everyone', 'development', 'testing', 'engagement']\n",
    "\n",
    "def get_members(group):\n",
    "    return eval(group)\n",
    "\n",
    "def is_group(member):\n",
    "    if member in groups:\n",
    "        return True\n",
    "    return False\n",
    "\n",
    "def is_group(member):\n",
    "    group_membership = []\n",
    "    print(\"Evaluating member(s) \" + member + \" if he/she belongs to a group: \" + str(groups))\n",
    "    if member in groups:\n",
    "        # group_membership.append(member)\n",
    "        return True\n",
    "    else:\n",
    "        return False\n",
    "    # return \"Member(s) belong(s) to: groups \" + str(group_membership)\n",
    "\n",
    "def count_users(group):\n",
    "  count = 0\n",
    "  for member in get_members(group):\n",
    "    if is_group(member):\n",
    "      count += count_users(member)\n",
    "    else:\n",
    "      count += 1\n",
    "  return count\n",
    "print(get_members(\"sales\"))\n",
    "print(get_members(\"engineering\"))\n",
    "print(get_members(\"everyone\"))\n",
    "print(get_members('testing'))\n",
    "print(get_members('engagement'))\n",
    "print(get_members('groups'))\n",
    "print(\" \")\n",
    "\n",
    "print(count_users(\"sales\")) # Should be 3\n",
    "print(count_users(\"engineering\")) # Should be 8\n",
    "print(count_users(\"everyone\")) # Should be 18"
   ]
  },
  {
   "cell_type": "code",
   "execution_count": 7,
   "id": "771bdbd4",
   "metadata": {
    "execution": {
     "iopub.execute_input": "2023-06-27T19:26:40.019608Z",
     "iopub.status.busy": "2023-06-27T19:26:40.018916Z",
     "iopub.status.idle": "2023-06-27T19:26:40.028043Z",
     "shell.execute_reply": "2023-06-27T19:26:40.026390Z"
    },
    "papermill": {
     "duration": 0.05663,
     "end_time": "2023-06-27T19:26:40.031045",
     "exception": false,
     "start_time": "2023-06-27T19:26:39.974415",
     "status": "completed"
    },
    "tags": []
   },
   "outputs": [
    {
     "name": "stdout",
     "output_type": "stream",
     "text": [
      "6\n",
      "15\n"
     ]
    }
   ],
   "source": [
    "# Implement the sum_positive_numbers functions, as a recursive that returns the sum of all positive numbers between\n",
    "# the number n received, and 1. \n",
    "\n",
    "def sum_positive_numbers(n):\n",
    "  sum_of_positive_num = 0\n",
    "  if n >= 0:\n",
    "    #print(\"N is :\" + str(n))\n",
    "    return n + sum_positive_numbers(n = n-1)\n",
    "  else:\n",
    "     return 0\n",
    "\n",
    "print(sum_positive_numbers(3)) # Should be 6\n",
    "print(sum_positive_numbers(5)) # Should be 15"
   ]
  },
  {
   "cell_type": "code",
   "execution_count": 8,
   "id": "fbb76a3a",
   "metadata": {
    "execution": {
     "iopub.execute_input": "2023-06-27T19:26:40.114161Z",
     "iopub.status.busy": "2023-06-27T19:26:40.113787Z",
     "iopub.status.idle": "2023-06-27T19:26:40.126385Z",
     "shell.execute_reply": "2023-06-27T19:26:40.124522Z"
    },
    "papermill": {
     "duration": 0.057752,
     "end_time": "2023-06-27T19:26:40.129196",
     "exception": false,
     "start_time": "2023-06-27T19:26:40.071444",
     "status": "completed"
    },
    "tags": []
   },
   "outputs": [
    {
     "name": "stdout",
     "output_type": "stream",
     "text": [
      "Returning 1\n",
      "Returning 2 for factorial of 2\n",
      "Returning 6 for factorial of 3\n",
      "Returning 24 for factorial of 4\n"
     ]
    },
    {
     "data": {
      "text/plain": [
       "24"
      ]
     },
     "execution_count": 8,
     "metadata": {},
     "output_type": "execute_result"
    }
   ],
   "source": [
    "# Implement factorial calcualtion using recursion\n",
    "def factorial(n):\n",
    "    if n < 2:\n",
    "        print(\"Returning 1\")\n",
    "        return 1\n",
    "    result = n * factorial(n-1)\n",
    "    print(\"Returning \" + str(result) + \" for factorial of \" + str(n) )\n",
    "    return result\n",
    "\n",
    "factorial(4)"
   ]
  },
  {
   "cell_type": "markdown",
   "id": "f3acaeae",
   "metadata": {
    "papermill": {
     "duration": 0.042566,
     "end_time": "2023-06-27T19:26:40.215325",
     "exception": false,
     "start_time": "2023-06-27T19:26:40.172759",
     "status": "completed"
    },
    "tags": []
   },
   "source": [
    "## for-in-range(start, end, step)"
   ]
  },
  {
   "cell_type": "code",
   "execution_count": 9,
   "id": "27709823",
   "metadata": {
    "execution": {
     "iopub.execute_input": "2023-06-27T19:26:40.304564Z",
     "iopub.status.busy": "2023-06-27T19:26:40.304149Z",
     "iopub.status.idle": "2023-06-27T19:26:40.312230Z",
     "shell.execute_reply": "2023-06-27T19:26:40.310708Z"
    },
    "papermill": {
     "duration": 0.057545,
     "end_time": "2023-06-27T19:26:40.315369",
     "exception": false,
     "start_time": "2023-06-27T19:26:40.257824",
     "status": "completed"
    },
    "tags": []
   },
   "outputs": [
    {
     "name": "stdout",
     "output_type": "stream",
     "text": [
      "0 10 20 30 40 50 60 70 80 90 100 110 120 130 140 150 160 170 180 190 200 210 220 230 240 250 260 270 280 290 300 310 320 330 340 350 360 370 380 390 400\n"
     ]
    }
   ],
   "source": [
    "# Accept an integer variable \"end\" and count by 10\n",
    "# from 0 to the \"end\" value.\n",
    "\n",
    "def count_by_10(end):\n",
    "    count = \"\"\n",
    "    \n",
    "    for number in range(0, end+1, 10): # end value is inclusive, 0 - 10, stepping by 10\n",
    "        count += str(number) + \" \"\n",
    "\n",
    "    return count.strip() # remove the last \" \" attached to the count string.\n",
    "\n",
    "print(count_by_10(400))"
   ]
  },
  {
   "cell_type": "code",
   "execution_count": 10,
   "id": "72d6dee4",
   "metadata": {
    "execution": {
     "iopub.execute_input": "2023-06-27T19:26:40.406694Z",
     "iopub.status.busy": "2023-06-27T19:26:40.406275Z",
     "iopub.status.idle": "2023-06-27T19:26:40.414028Z",
     "shell.execute_reply": "2023-06-27T19:26:40.412633Z"
    },
    "papermill": {
     "duration": 0.056655,
     "end_time": "2023-06-27T19:26:40.416653",
     "exception": false,
     "start_time": "2023-06-27T19:26:40.359998",
     "status": "completed"
    },
    "tags": []
   },
   "outputs": [
    {
     "name": "stdout",
     "output_type": "stream",
     "text": [
      "1 2 3 4 \n",
      "2 4 6 8 \n",
      "3 6 9 12 \n",
      "4 8 12 16 \n"
     ]
    }
   ],
   "source": [
    "# Create a function to use nested for loops and implement matrix. \n",
    "# Use y+1 to inlcude the upper-end range.\n",
    "# Call the function with 2 integer parameters. \n",
    "#\n",
    "# matrix(1, 4)\n",
    "# Should print:\n",
    "# 1 2 3 4 \n",
    "# 2 4 6 8 \n",
    "# 3 6 9 12 \n",
    "# 4 8 12 16 \n",
    "\n",
    "# x: initial number, y: upper-end number\n",
    "def matrix(x, y):\n",
    "    for column in range(x, y+1):  # column creation loop\n",
    "        for row in range(x, y+1): # row creation loop\n",
    "            print(str(column*row), end=\" \") # add space for readibility, print on the same line\n",
    "        print() # create a new line to print the next next row\n",
    "    \n",
    "matrix(1, 4)"
   ]
  },
  {
   "cell_type": "code",
   "execution_count": 11,
   "id": "21585d40",
   "metadata": {
    "execution": {
     "iopub.execute_input": "2023-06-27T19:26:40.526286Z",
     "iopub.status.busy": "2023-06-27T19:26:40.525623Z",
     "iopub.status.idle": "2023-06-27T19:26:40.533788Z",
     "shell.execute_reply": "2023-06-27T19:26:40.532387Z"
    },
    "papermill": {
     "duration": 0.071183,
     "end_time": "2023-06-27T19:26:40.538787",
     "exception": false,
     "start_time": "2023-06-27T19:26:40.467604",
     "status": "completed"
    },
    "tags": []
   },
   "outputs": [
    {
     "name": "stdout",
     "output_type": "stream",
     "text": [
      "\n",
      "0 \n",
      "0 1 \n",
      "0 1 2 \n",
      "0 1 2 3 \n",
      "0 1 2 3 4 \n",
      "0 1 2 3 4 5 \n",
      "\n",
      "0 \n",
      "0 1 \n",
      "0 1 2 \n",
      "0 1 2 3 \n",
      "0 1 2 3 4 \n",
      "0 1 2 3 4 5 \n",
      "0 1 2 3 4 5 6 \n",
      "0 1 2 3 4 5 6 7 \n",
      "0 1 2 3 4 5 6 7 8 \n",
      "0 1 2 3 4 5 6 7 8 9 \n",
      "0 1 2 3 4 5 6 7 8 9 10 \n"
     ]
    }
   ],
   "source": [
    "# range() upper-end value examination\n",
    "\n",
    "def number_tree(number):\n",
    "    for outer_loop in range(number):\n",
    "        for inner_loop in range(outer_loop):\n",
    "            print(inner_loop, end=\" \")\n",
    "        print()\n",
    "\n",
    "number_tree(7)\n",
    "number_tree(12)"
   ]
  },
  {
   "cell_type": "markdown",
   "id": "039289ea",
   "metadata": {
    "papermill": {
     "duration": 0.043339,
     "end_time": "2023-06-27T19:26:40.630963",
     "exception": false,
     "start_time": "2023-06-27T19:26:40.587624",
     "status": "completed"
    },
    "tags": []
   },
   "source": [
    "## while - loop to count the number of digits in a numerical value"
   ]
  },
  {
   "cell_type": "code",
   "execution_count": 12,
   "id": "56821cc8",
   "metadata": {
    "execution": {
     "iopub.execute_input": "2023-06-27T19:26:40.728072Z",
     "iopub.status.busy": "2023-06-27T19:26:40.727583Z",
     "iopub.status.idle": "2023-06-27T19:26:40.736606Z",
     "shell.execute_reply": "2023-06-27T19:26:40.735080Z"
    },
    "papermill": {
     "duration": 0.059418,
     "end_time": "2023-06-27T19:26:40.739307",
     "exception": false,
     "start_time": "2023-06-27T19:26:40.679889",
     "status": "completed"
    },
    "tags": []
   },
   "outputs": [
    {
     "name": "stdout",
     "output_type": "stream",
     "text": [
      "The person in inquiry makes a 6-figure salary.\n"
     ]
    }
   ],
   "source": [
    "# Use a while loop to count the number of digits in a numericla value\n",
    "\n",
    "def X_figure(salary):\n",
    "    if salary == 1:\n",
    "        digit_count = 1\n",
    "        return digit_count\n",
    "    \n",
    "    digit_count = 0\n",
    "    while salary >= 1:        \n",
    "        salary = salary / 10\n",
    "        digit_count += 1\n",
    "        # print(str(salary) + \" digit count: \" + str(digit_count))\n",
    "    return digit_count\n",
    "\n",
    "# Enter numerical value for the salary in the function's argument\n",
    "print(\"The person in inquiry makes a \" + str(X_figure(234000)) + \"-figure salary.\")\n"
   ]
  },
  {
   "cell_type": "markdown",
   "id": "7537bdf5",
   "metadata": {
    "papermill": {
     "duration": 0.048209,
     "end_time": "2023-06-27T19:26:40.831767",
     "exception": false,
     "start_time": "2023-06-27T19:26:40.783558",
     "status": "completed"
    },
    "tags": []
   },
   "source": [
    "## while loops with if-else statements"
   ]
  },
  {
   "cell_type": "code",
   "execution_count": 13,
   "id": "ba39246b",
   "metadata": {
    "execution": {
     "iopub.execute_input": "2023-06-27T19:26:40.928500Z",
     "iopub.status.busy": "2023-06-27T19:26:40.927750Z",
     "iopub.status.idle": "2023-06-27T19:26:40.938441Z",
     "shell.execute_reply": "2023-06-27T19:26:40.937543Z"
    },
    "papermill": {
     "duration": 0.060887,
     "end_time": "2023-06-27T19:26:40.941128",
     "exception": false,
     "start_time": "2023-06-27T19:26:40.880241",
     "status": "completed"
    },
    "tags": []
   },
   "outputs": [
    {
     "name": "stdout",
     "output_type": "stream",
     "text": [
      "Going Up: 1 | 2 | 3 | 4\n",
      "Going Down: 6 | 5 | 4 | 3 | 2\n",
      "Elevator stays at floor number 2\n"
     ]
    }
   ],
   "source": [
    "# Create a function to accept two variable integers\n",
    "# Use nested if-else statements to count up or count down from the first variable to the second variable.\n",
    "# Call the function with 2 integer parameters. \n",
    "# print(elevator_floor(1,4)) # Should print Going up: 1 | 2 | 3 | 4\n",
    "# print(elevator_floor(6,2)) # Should print Going down: 6 | 5 | 4 | 3 | 2\n",
    "\n",
    "def elevator_floor(enter, exit):\n",
    "    elevator_movements = \"\"\n",
    "    # decide if the elevator should go UP or DOWN or STAY\n",
    "    if enter < exit:\n",
    "        elevator_movements += \"Going Up: \"  # initialize the elevator tracks for Going Up\n",
    "    elif enter > exit:\n",
    "        elevator_movements += \"Going Down: \"  # initialize the elevator tracks for Going Down\n",
    "    else:\n",
    "        elevator_movements += \"Elevator stays at floor number \" + str(enter)\n",
    "        return elevator_movements\n",
    "    \n",
    "    while enter != exit:  # repeat whilte the elevator has not reached the exit floor yet\n",
    "        if enter < exit:  # if the elevator needs to move up\n",
    "            elevator_movements = elevator_movements + str(enter) + \" | \" \n",
    "            # print(\"Tracking elevator_movements: \" + elevator_movements)\n",
    "            enter += 1  # move up the elevator\n",
    "        elif enter > exit: # if the elevator needs to move down\n",
    "            elevator_movements = elevator_movements + str(enter) + \" | \" \n",
    "            #print(\"Tracking elevator_movements: \" + elevator_movements)\n",
    "            enter -= 1  # move down the elevator\n",
    "\n",
    "    elevator_movements += str(exit) # elevator at exit floor, add the floor info to the track. \n",
    "\n",
    "    return elevator_movements\n",
    "\n",
    "print(elevator_floor(1,4))\n",
    "print(elevator_floor(6, 2))\n",
    "print(elevator_floor(2,2))\n",
    "        "
   ]
  },
  {
   "cell_type": "code",
   "execution_count": 14,
   "id": "4d242495",
   "metadata": {
    "execution": {
     "iopub.execute_input": "2023-06-27T19:26:41.038643Z",
     "iopub.status.busy": "2023-06-27T19:26:41.038147Z",
     "iopub.status.idle": "2023-06-27T19:26:41.049420Z",
     "shell.execute_reply": "2023-06-27T19:26:41.048329Z"
    },
    "papermill": {
     "duration": 0.060704,
     "end_time": "2023-06-27T19:26:41.051819",
     "exception": false,
     "start_time": "2023-06-27T19:26:40.991115",
     "status": "completed"
    },
    "tags": []
   },
   "outputs": [
    {
     "name": "stdout",
     "output_type": "stream",
     "text": [
      "Counting up: 1,2,3,4,5,6,7,8,9,10\n",
      "Counting down: 2,1\n",
      "Counting up: 5\n"
     ]
    }
   ],
   "source": [
    "# Complete the counter function.\n",
    "# It should either count down or count up depending on the input arguments\n",
    "# print(counter(1, 10)) # Should be \"Counting up: 1,2,3,4,5,6,7,8,9,10\"\n",
    "# print(counter(2, 1)) # Should be \"Counting down: 2,1\"\n",
    "# print(counter(5, 5)) # Should be \"Counting up: 5\"\n",
    "\n",
    "def counter(start, stop):\n",
    "    if start > stop:\n",
    "        return_string = \"Counting down: \"\n",
    "        while start >= stop: # Complete the while loop\n",
    "            return_string += str(start) # Add the numbers to the \"return_string\"\n",
    "            if start > stop:\n",
    "                return_string += \",\"\n",
    "            start = start - 1 # Increment the appropriate variable\n",
    "    else:\n",
    "        return_string = \"Counting up: \"\n",
    "        while start <= stop: # Complete the while loop\n",
    "            return_string += str(start) # Add the numbers to the \"return_string\"\n",
    "            if start < stop:\n",
    "                return_string += \",\"\n",
    "            start = start + 1 # Increment the appropriate variable\n",
    "    return return_string\n",
    "\n",
    "\n",
    "print(counter(1, 10)) # Should be \"Counting up: 1,2,3,4,5,6,7,8,9,10\"\n",
    "print(counter(2, 1)) # Should be \"Counting down: 2,1\"\n",
    "print(counter(5, 5)) # Should be \"Counting up: 5\""
   ]
  },
  {
   "cell_type": "code",
   "execution_count": 15,
   "id": "761acab0",
   "metadata": {
    "execution": {
     "iopub.execute_input": "2023-06-27T19:26:41.141676Z",
     "iopub.status.busy": "2023-06-27T19:26:41.141162Z",
     "iopub.status.idle": "2023-06-27T19:26:41.152342Z",
     "shell.execute_reply": "2023-06-27T19:26:41.150921Z"
    },
    "papermill": {
     "duration": 0.059055,
     "end_time": "2023-06-27T19:26:41.155427",
     "exception": false,
     "start_time": "2023-06-27T19:26:41.096372",
     "status": "completed"
    },
    "tags": []
   },
   "outputs": [
    {
     "name": "stdout",
     "output_type": "stream",
     "text": [
      "1 3 5\n",
      "1 3 5 7 9\n",
      "1\n",
      "1 3\n",
      "\n"
     ]
    }
   ],
   "source": [
    "# Complete the \"odd_numbers\" function. This function should return a space-separated string aof all\n",
    "# odd positive numbers, up to and including the \"maximum\" variable that's passwed into the function.\n",
    "# print(odd_numbers(6))  # Should be 1 3 5\n",
    "# print(odd_numbers(10)) # Should be 1 3 5 7 9\n",
    "# print(odd_numbers(1))  # Should be 1\n",
    "# print(odd_numbers(3))  # Should be 1 3\n",
    "# print(odd_numbers(0))  # No numbers displayed\n",
    "\n",
    "def odd_numbers(maximum):\n",
    "    \n",
    "    return_string = \"\" # Initializes variable as a string\n",
    "\n",
    "    # Complete the for loop with a range that includes all \n",
    "    # odd numbers up to and including the \"maximum\" value.\n",
    "    for number in range(1, maximum+1, 2): \n",
    "\n",
    "        # Complete the body of the loop by appending the odd number\n",
    "        # followed by a space to the \"return_string\" variable.\n",
    "        return_string = return_string + str(number)   + \" \"\n",
    "\n",
    "    # This .strip command will remove the final \" \" space \n",
    "    # at the end of the \"return_string\".\n",
    "    return return_string.strip()\n",
    "\n",
    "print(odd_numbers(6))  # Should be 1 3 5\n",
    "print(odd_numbers(10)) # Should be 1 3 5 7 9\n",
    "print(odd_numbers(1))  # Should be 1\n",
    "print(odd_numbers(3))  # Should be 1 3\n",
    "print(odd_numbers(0))  # No numbers displayed"
   ]
  },
  {
   "cell_type": "code",
   "execution_count": 16,
   "id": "a09e7623",
   "metadata": {
    "execution": {
     "iopub.execute_input": "2023-06-27T19:26:41.244379Z",
     "iopub.status.busy": "2023-06-27T19:26:41.243860Z",
     "iopub.status.idle": "2023-06-27T19:26:41.252714Z",
     "shell.execute_reply": "2023-06-27T19:26:41.251584Z"
    },
    "papermill": {
     "duration": 0.057213,
     "end_time": "2023-06-27T19:26:41.257024",
     "exception": false,
     "start_time": "2023-06-27T19:26:41.199811",
     "status": "completed"
    },
    "tags": []
   },
   "outputs": [
    {
     "name": "stdout",
     "output_type": "stream",
     "text": [
      "\n",
      "* \n",
      "* * \n",
      "* * * \n",
      "* * * * \n",
      "* * * * * \n"
     ]
    }
   ],
   "source": [
    "# Cmplete the \"rows_asterisks\" function. This function should print rows fo asterisks(*),\n",
    "# where the number of rows is equal to the \"rows\" variable. The number of asterisks per row\n",
    "# should correspond to the row number.\n",
    "#\n",
    "#* \n",
    "#* * \n",
    "#* * * \n",
    "#* * * * \n",
    "#* * * * * \n",
    "\n",
    "def rows_asterisks(rows):\n",
    "    # Complete the outer loop range to control the number of rows\n",
    "    for x in range(rows+1): \n",
    "        # Complete the inner loop range to control the number of \n",
    "        # asterisks per row\n",
    "        for y in range(x): \n",
    "            # Prints one asterisk and one space\n",
    "            print(\"*\", end=\" \")\n",
    "        # An empty print() function inserts a line break at the \n",
    "        # end of the row \n",
    "        print()\n",
    "\n",
    "rows_asterisks(5)\n",
    "# Should print the asterisk rows shown above"
   ]
  },
  {
   "cell_type": "markdown",
   "id": "93dfb922",
   "metadata": {
    "papermill": {
     "duration": 0.044158,
     "end_time": "2023-06-27T19:26:41.344327",
     "exception": false,
     "start_time": "2023-06-27T19:26:41.300169",
     "status": "completed"
    },
    "tags": []
   },
   "source": [
    "## String"
   ]
  },
  {
   "cell_type": "code",
   "execution_count": 17,
   "id": "38f6d302",
   "metadata": {
    "execution": {
     "iopub.execute_input": "2023-06-27T19:26:41.434941Z",
     "iopub.status.busy": "2023-06-27T19:26:41.434404Z",
     "iopub.status.idle": "2023-06-27T19:26:41.444729Z",
     "shell.execute_reply": "2023-06-27T19:26:41.443551Z"
    },
    "papermill": {
     "duration": 0.057794,
     "end_time": "2023-06-27T19:26:41.447582",
     "exception": false,
     "start_time": "2023-06-27T19:26:41.389788",
     "status": "completed"
    },
    "tags": []
   },
   "outputs": [
    {
     "name": "stdout",
     "output_type": "stream",
     "text": [
      "abc@google.com\n",
      "jump@hotmail.com\n"
     ]
    }
   ],
   "source": [
    "# Construct a function that returns new company email address\n",
    "# by replacing the old domain part with new domain part\n",
    "# The use case of automating the domain name change scenario\n",
    "# for a company\n",
    "\n",
    "def replace_domain(email, old_domain, new_domain):\n",
    "    if \"@\" + old_domain in email:\n",
    "        index = email.index(\"@\" + old_domain)\n",
    "        new_email = email[:index] + \"@\" + new_domain\n",
    "        return new_email\n",
    "    return email\n",
    "\n",
    "print(replace_domain(\"abc@fox.com\", \"fox.com\", \"google.com\"))\n",
    "print(replace_domain(\"jump@hotmail.com\", \"fox.com\", \"google.com\"))\n",
    "\n",
    "\n",
    "            "
   ]
  },
  {
   "cell_type": "code",
   "execution_count": 18,
   "id": "bfe22fd5",
   "metadata": {
    "execution": {
     "iopub.execute_input": "2023-06-27T19:26:41.539078Z",
     "iopub.status.busy": "2023-06-27T19:26:41.538677Z",
     "iopub.status.idle": "2023-06-27T19:26:41.551806Z",
     "shell.execute_reply": "2023-06-27T19:26:41.550346Z"
    },
    "papermill": {
     "duration": 0.06333,
     "end_time": "2023-06-27T19:26:41.554161",
     "exception": false,
     "start_time": "2023-06-27T19:26:41.490831",
     "status": "completed"
    },
    "tags": []
   },
   "outputs": [
    {
     "name": "stdout",
     "output_type": "stream",
     "text": [
      "Processing string :99 bottles of beer on the wall, 99 bottles of beer. if one of those bottles should happen to fall\n",
      "Looking for \"bottles\", found in the substring at: 3\n",
      "Processing string : of beer on the wall, 99 bottles of beer. if one of those bottles should happen to fall\n",
      "Looking for \"bottles\", found in the substring at: 25\n",
      "Processing string : of beer. if one of those bottles should happen to fall\n",
      "Looking for \"bottles\", found in the substring at: 26\n"
     ]
    },
    {
     "data": {
      "text/plain": [
       "[3, 35, 68]"
      ]
     },
     "execution_count": 18,
     "metadata": {},
     "output_type": "execute_result"
    }
   ],
   "source": [
    "# Implement a function with arguments: search string and search keyword.\n",
    "# then returns a list of indices where the search keyword is found. \n",
    "\n",
    "def keyword_index(s, str_search):\n",
    "# s: Original string for search\n",
    "# str_search: Keyword to look for in the string\n",
    "\n",
    "    s_idx = 0               # index for the search word found in a string\n",
    "    s_idx_list = []         # list of indices where search word found in the origianl string\n",
    "    s_slice = s             # copy of original string for processing, will be sliced many times        \n",
    "\n",
    "    while s_slice.count(str_search) > 0:\n",
    "    \n",
    "        s_idx = s_slice.index(str_search)     # find the index where the search word is found in the current string in processing\n",
    "    \n",
    "        print(\"Processing string :\" + str(s_slice))\n",
    "        print(\"Looking for \\\"\" + str_search + \"\\\", found in the substring at: \" + str(s_idx))\n",
    "   \n",
    "        if s_idx >= 0:\n",
    "            loc = s.index(s_slice[s_idx:])     # get index for the found word, ensure it's relative to the original string, \n",
    "                                           # not the crrent string in processing\n",
    "            s_idx_list.append(loc)             # add the index location to the list\n",
    "            s_slice = s[loc+len(str_search):]  # slice the string for next search\n",
    "\n",
    "    return s_idx_list\n",
    "\n",
    "\n",
    "beer_string = \"99 bottles of beer on the wall, 99 bottles of beer. if one of those bottles should happen to fall\"\n",
    "keyword_index(beer_string, \"bottles\")\n",
    "\n",
    "    "
   ]
  },
  {
   "cell_type": "markdown",
   "id": "6c09d290",
   "metadata": {
    "papermill": {
     "duration": 0.041825,
     "end_time": "2023-06-27T19:26:41.637703",
     "exception": false,
     "start_time": "2023-06-27T19:26:41.595878",
     "status": "completed"
    },
    "tags": []
   },
   "source": [
    "## String Reference Guide\n",
    "In Python, there are a lot of things you can do with strings. In this guide, you’ll find the most common string operations and string methods.\n",
    "\n",
    "[Complete String Reference Documentation](https://docs.python.org/3/library/stdtypes.html#string-methods)\n",
    "\n",
    "### String operations\n",
    "**len(string)** - Returns the length of the string\n",
    "\n",
    "**for character in string** - Iterates over each character in the string\n",
    "\n",
    "**if substring in string** - Checks whether the substring is part of the string\n",
    "\n",
    "**string[i]** - Accesses the character at index i of the string, starting at zero\n",
    "\n",
    "**string[i:j]** - Accesses the substring starting at index i, ending at index j minus 1. If i is omitted, its value defaults to 0. If j is omitted, the value will default to len(string).\n",
    "\n",
    "\n",
    "### String methods\n",
    "**string.lower()** - Returns a copy of the string with all lowercase characters\n",
    "\n",
    "**string.upper()** - Returns a copy of the string with all uppercase characters\n",
    "\n",
    "**string.lstrip()** - Returns a copy of the string with the left-side whitespace removed\n",
    "\n",
    "**string.rstrip()** - Returns a copy of the string with the right-side whitespace removed\n",
    "\n",
    "**string.strip()** - Returns a copy of the string with both the left and right-side whitespace removed\n",
    "\n",
    "**string.count(substring)** - Returns the number of times substring is present in the string\n",
    "\n",
    "**string.isnumeric()** - Returns True if there are only numeric characters in the string. If not, returns False.\n",
    "\n",
    "**string.isalpha()** - Returns True if there are only alphabetic characters in the string. If not, returns False.\n",
    "\n",
    "**string.split()** - Returns a list of substrings that were separated by whitespace (whitespace can be a space, tab, or new line)\n",
    "\n",
    "**string.split(delimiter)** - Returns a list of substrings that were separated by whitespace or a delimiter\n",
    "\n",
    "**string.replace(old, new)** - Returns a new string where all occurrences of old have been replaced by new.\n",
    "\n",
    "**delimiter.join(list of strings)** - Returns a new string with all the strings joined by the delimiter "
   ]
  },
  {
   "cell_type": "markdown",
   "id": "62283c5e",
   "metadata": {
    "papermill": {
     "duration": 0.04341,
     "end_time": "2023-06-27T19:26:41.726000",
     "exception": false,
     "start_time": "2023-06-27T19:26:41.682590",
     "status": "completed"
    },
    "tags": []
   },
   "source": [
    "## String Coding Skills"
   ]
  },
  {
   "cell_type": "markdown",
   "id": "272aa998",
   "metadata": {
    "papermill": {
     "duration": 0.042132,
     "end_time": "2023-06-27T19:26:41.813635",
     "exception": false,
     "start_time": "2023-06-27T19:26:41.771503",
     "status": "completed"
    },
    "tags": []
   },
   "source": [
    "### Skill Group 1\n",
    "* Use a for loop to iterate through each letter of a string.\n",
    "* Add a character to the front of a string.\n",
    "* Add a character to the end of a string.\n",
    "* Use the .lower() string method to convert the case (uppercase/lowercase) of the letters within a string variable. This method is often used to eliminate cases as a factor when comparing two strings. For example, all lowercase “cat” is not equal to “Cat” because “Cat” contains an uppercase letter. To be able to compare the two strings to see if they are the same word, you can use the .lower() string method to remove capitalization as a factor in the string comparison."
   ]
  },
  {
   "cell_type": "code",
   "execution_count": 19,
   "id": "3fb1e803",
   "metadata": {
    "execution": {
     "iopub.execute_input": "2023-06-27T19:26:41.900917Z",
     "iopub.status.busy": "2023-06-27T19:26:41.900406Z",
     "iopub.status.idle": "2023-06-27T19:26:41.911616Z",
     "shell.execute_reply": "2023-06-27T19:26:41.910465Z"
    },
    "papermill": {
     "duration": 0.058417,
     "end_time": "2023-06-27T19:26:41.914145",
     "exception": false,
     "start_time": "2023-06-27T19:26:41.855728",
     "status": "completed"
    },
    "tags": []
   },
   "outputs": [
    {
     "name": "stdout",
     "output_type": "stream",
     "text": [
      "Noon\n",
      "nooN\n",
      "True\n",
      "WasitacarorcatIsaw\n",
      "wasItacroracatisaW\n",
      "False\n",
      "eveMadamEve\n",
      "evEmadaMeve\n",
      "True\n"
     ]
    }
   ],
   "source": [
    "# This function accepts a given string and checks each character of \n",
    "# the string to see if it is a letter or not. If the character is a\n",
    "# letter, that letter is added to the end of the string variable\n",
    "# \"forwards\" and to the beginning of the string variable \"backwards\".\n",
    "def mirrored_string(my_string):\n",
    "\n",
    "    # Two variables are initialized as string data types using empty \n",
    "    # quotes. The variable \"forwards\" will hold the \"my_string\"\n",
    "    # minus any character that is not a letter. The \"backwards\" \n",
    "    # variable will hold the same letters as \"forwards\", but in  \n",
    "    # in reverse order.\n",
    "    forwards = \"\"\n",
    "    backwards = \"\"\n",
    "\n",
    "    # The for loop iterates through each character of the \"my_string\"\n",
    "    for character in my_string:\n",
    "\n",
    "        # The if-statement checks if the character is not a space, number or special character\n",
    "        if character.isalpha():\n",
    "\n",
    "            # If True, the body of the loop adds the character to the\n",
    "            # to the end of \"forwards\" and to the front of\n",
    "            # \"backwards\". \n",
    "            forwards += character\n",
    "            backwards = character + backwards\n",
    "\n",
    "        # If False (meaning the character is not a letter), no action\n",
    "        # is needed. This coding approach results prevents any \n",
    "        # non-alphabetical characters from being written to the\n",
    "        # \"forwards\" and \"backwards\" variables. The for loop will \n",
    "        # restart until all characters in \"my_string\" have been\n",
    "        # processed.\n",
    "        \n",
    "    # The final if-statement compares the \"forwards\" and \"backwards\"\n",
    "    # strings to see if the letters are the same both forwards and\n",
    "    # backwards. Since Python is case sensitive, the two strings will \n",
    "    # need to be converted to use the same case for this comparison. \n",
    "    if forwards.lower() == backwards.lower():\n",
    "        print(forwards)\n",
    "        print(backwards)\n",
    "        return True\n",
    "    \n",
    "    print(forwards)\n",
    "    print(backwards)\n",
    "    \n",
    "    return False\n",
    " \n",
    "print(mirrored_string(\"12 Noon\")) # Should be True\n",
    "\n",
    "print(mirrored_string(\"Was it a car or cat I saw\")) # Should be False\n",
    "print(mirrored_string(\"'eve, Madam Eve\")) # Should be True"
   ]
  },
  {
   "cell_type": "markdown",
   "id": "40c6e75b",
   "metadata": {
    "papermill": {
     "duration": 0.044527,
     "end_time": "2023-06-27T19:26:42.001390",
     "exception": false,
     "start_time": "2023-06-27T19:26:41.956863",
     "status": "completed"
    },
    "tags": []
   },
   "source": [
    "### Skill Group 2\n",
    "* Use the format() method, with {} placeholders for variable data, to create a new string.\n",
    "* Use a formatting expression, like {:.2f}, to format a float variable and configure the number of decimal places to display for the float. "
   ]
  },
  {
   "cell_type": "code",
   "execution_count": 20,
   "id": "a4776638",
   "metadata": {
    "execution": {
     "iopub.execute_input": "2023-06-27T19:26:42.088903Z",
     "iopub.status.busy": "2023-06-27T19:26:42.088382Z",
     "iopub.status.idle": "2023-06-27T19:26:42.096273Z",
     "shell.execute_reply": "2023-06-27T19:26:42.095011Z"
    },
    "papermill": {
     "duration": 0.05623,
     "end_time": "2023-06-27T19:26:42.099301",
     "exception": false,
     "start_time": "2023-06-27T19:26:42.043071",
     "status": "completed"
    },
    "tags": []
   },
   "outputs": [
    {
     "name": "stdout",
     "output_type": "stream",
     "text": [
      "12 ounces equals   0.750 pounds\n",
      "50.5 ounces equals   3.156 pounds\n",
      "16 ounces equals   1.000 pounds\n"
     ]
    }
   ],
   "source": [
    "# This function converts measurement equivalents. Output is formatted \n",
    "# as, \"x ounces equals y pounds\", with y limited to 3 decimal places. \n",
    "def convert_weight(ounces):\n",
    "\n",
    "    # Conversion formula: 1 pound = 16 ounces\n",
    "    pounds = ounces/16 \n",
    "    \n",
    "    # The result is composed using the .format() method. There are two\n",
    "    # placeholders in the string: the first is for the \"ounces\" \n",
    "    # variable and the second is for the \"pounds\" variable. The second\n",
    "    # placeholder formats the float result of the conversion \n",
    "    # calculation to be limited to 3 decimal places. \n",
    "    #result = \"{} ounces equals {:.3f} pounds\".format(ounces,pounds)\n",
    "    \n",
    "    # another formatting, 7 spaces for the whole number and 3 decimal.\n",
    "    result = \"{} ounces equals {:>7.3f} pounds\".format(ounces,pounds)\n",
    "    \n",
    "    return result\n",
    "\n",
    "\n",
    "print(convert_weight(12)) # Should be: 12 ounces equals 0.75 pounds\n",
    "print(convert_weight(50.5)) # Should be: 50.5 ounces equals 3.16 pounds\n",
    "print(convert_weight(16)) # Should be: 16 ounces equals 1.00 pounds"
   ]
  },
  {
   "cell_type": "markdown",
   "id": "a95e68aa",
   "metadata": {
    "papermill": {
     "duration": 0.044006,
     "end_time": "2023-06-27T19:26:42.186135",
     "exception": false,
     "start_time": "2023-06-27T19:26:42.142129",
     "status": "completed"
    },
    "tags": []
   },
   "source": [
    "## Skill Group 3\n",
    "* Within the format() parameters, select characters at specific index [ ] positions from a variable string.  \n",
    "* Use the format() method, with {} placeholders for variable data, to create a new string."
   ]
  },
  {
   "cell_type": "code",
   "execution_count": 21,
   "id": "7ca4e82a",
   "metadata": {
    "execution": {
     "iopub.execute_input": "2023-06-27T19:26:42.276048Z",
     "iopub.status.busy": "2023-06-27T19:26:42.275668Z",
     "iopub.status.idle": "2023-06-27T19:26:42.282879Z",
     "shell.execute_reply": "2023-06-27T19:26:42.281572Z"
    },
    "papermill": {
     "duration": 0.057309,
     "end_time": "2023-06-27T19:26:42.285911",
     "exception": false,
     "start_time": "2023-06-27T19:26:42.228602",
     "status": "completed"
    },
    "tags": []
   },
   "outputs": [
    {
     "name": "stdout",
     "output_type": "stream",
     "text": [
      "Iva1985\n",
      "Rod2000\n",
      "Den1991\n"
     ]
    }
   ],
   "source": [
    "# This function generates a username using the first 3 letters of a\n",
    "# user’s last name plus their birth year. \n",
    "def username(last_name, birth_year):\n",
    "    \n",
    "    # The .format() method will use the first 3 letters at index \n",
    "    # positions [0,1,2] of the \"last_name\" variable for the first\n",
    "    # {} placeholder. The second {} placeholder concatenates the user’s \n",
    "    #  \"birth_year\" to that string to form a new string username.\n",
    "    return(\"{}{}\".format(last_name[0:3],birth_year))\n",
    "\n",
    "\n",
    "print(username(\"Ivanov\", \"1985\")) \n",
    "# Should display \"Iva1985\" \n",
    "print(username(\"Rodríguez\", \"2000\")) \n",
    "# Should display \"Rod2000\" \n",
    "print(username(\"Deng\", \"1991\")) \n",
    "# Should display \"Den1991\"\n"
   ]
  },
  {
   "cell_type": "code",
   "execution_count": 22,
   "id": "59382462",
   "metadata": {
    "execution": {
     "iopub.execute_input": "2023-06-27T19:26:42.374802Z",
     "iopub.status.busy": "2023-06-27T19:26:42.374437Z",
     "iopub.status.idle": "2023-06-27T19:26:42.382546Z",
     "shell.execute_reply": "2023-06-27T19:26:42.381335Z"
    },
    "papermill": {
     "duration": 0.056763,
     "end_time": "2023-06-27T19:26:42.385418",
     "exception": false,
     "start_time": "2023-06-27T19:26:42.328655",
     "status": "completed"
    },
    "tags": []
   },
   "outputs": [
    {
     "name": "stdout",
     "output_type": "stream",
     "text": [
      "45XX-2346-XXXX-39XX\n",
      "87XX-9878-XXXX-87XX\n"
     ]
    }
   ],
   "source": [
    "# Another function to mask parts of  credit card number with 'x'\n",
    "def cc_mask(cc_numbers):\n",
    "    \n",
    "    cc = cc_numbers\n",
    "    \n",
    "    if(cc_numbers.count(\"-\") >= 1):\n",
    "        cc = cc_numbers.replace(\"-\", \"\")\n",
    "        #print(cc)\n",
    "        \n",
    "    masked_number = \"{}{}{}{}{}{}\".format(cc[0:2],\"XX-\", cc[4:8],\"-XXXX-\",cc[14:16],\"XX\")\n",
    "    return masked_number\n",
    "\n",
    "print(cc_mask(\"4563-2346-4479-1239\"))\n",
    "print(cc_mask(\"8783987822398587\"))\n"
   ]
  },
  {
   "cell_type": "markdown",
   "id": "df82afd6",
   "metadata": {
    "papermill": {
     "duration": 0.045281,
     "end_time": "2023-06-27T19:26:42.473921",
     "exception": false,
     "start_time": "2023-06-27T19:26:42.428640",
     "status": "completed"
    },
    "tags": []
   },
   "source": [
    "## Skill Group 4\n",
    "* Use the **.replace()** method to replace part of a string.  \n",
    "* Use the **len()** function to get the number of index positions in a string.\n",
    "* Slice a string at a specific index position."
   ]
  },
  {
   "cell_type": "code",
   "execution_count": 23,
   "id": "2feebeac",
   "metadata": {
    "execution": {
     "iopub.execute_input": "2023-06-27T19:26:42.579904Z",
     "iopub.status.busy": "2023-06-27T19:26:42.579520Z",
     "iopub.status.idle": "2023-06-27T19:26:42.589989Z",
     "shell.execute_reply": "2023-06-27T19:26:42.588726Z"
    },
    "papermill": {
     "duration": 0.063327,
     "end_time": "2023-06-27T19:26:42.592704",
     "exception": false,
     "start_time": "2023-06-27T19:26:42.529377",
     "status": "completed"
    },
    "tags": []
   },
   "outputs": [
    {
     "name": "stdout",
     "output_type": "stream",
     "text": [
      "Last year’s annual report will be released in March 2024\n",
      "In April, the CEO will hold a conference\n",
      "The convention is scheduled for June\n"
     ]
    }
   ],
   "source": [
    "# This function checks a given schedule entry for an old date and, if \n",
    "# found, the function replaces it with a new date. \n",
    "def replace_date(schedule, old_date, new_date):\n",
    "\n",
    "    # Check if the given \"old_date\" appears at the end of the given \n",
    "    # string variable \"schedule\". \n",
    "    if schedule.endswith(old_date):\n",
    "\n",
    "        # If True, the body of the if-block will run. The variable \"n\" is\n",
    "        # used to hold the slicing index position. The len() function\n",
    "        # is used to measure the length of the string \"new_date\".\n",
    "        p = len(old_date)\n",
    "\n",
    "        # The \"new_schedule\" string holds the updated string with the \n",
    "        # old date replaced by the new date. The schedule[:-p] part of \n",
    "        # the code trims the \"old_date\" substring from \"schedule\" \n",
    "        # starting at the final index position (or right-side) counting\n",
    "        # towards the left the same number of index positions as \n",
    "        # calculated from len(old_date). Then, the code schedule[-p:]\n",
    "        # starts the indexing position at the slot where the first\n",
    "        # character of the \"old_date\" used to be positioned. The \n",
    "        # .replace(old_date, new_date) code inserts the \"new_date\" into\n",
    "        # the position where the \"old_date\" used to exist.  \n",
    "       \n",
    "        new_schedule = schedule[:-p] + schedule[-p:].replace(old_date, new_date)\n",
    "\n",
    "        # Returns the schedule with the new date.\n",
    "        return new_schedule\n",
    "        \n",
    "    # If the schedule does not end with the old date, then return the\n",
    "    # original sentence without any modifications.\n",
    "    return schedule\n",
    " \n",
    " \n",
    "print(replace_date(\"Last year’s annual report will be released in March 2023\", \"2023\", \"2024\")) \n",
    "# Should display \"Last year’s annual report will be released in March 2024\"\n",
    "print(replace_date(\"In April, the CEO will hold a conference\", \"April\", \"May\")) \n",
    "# Should display \"In April, the CEO will hold a conference\"\n",
    "print(replace_date(\"The convention is scheduled for October\", \"October\", \"June\")) \n",
    "# Should display \"The convention is scheduled for June\""
   ]
  },
  {
   "cell_type": "code",
   "execution_count": 24,
   "id": "2e59e328",
   "metadata": {
    "execution": {
     "iopub.execute_input": "2023-06-27T19:26:42.682922Z",
     "iopub.status.busy": "2023-06-27T19:26:42.682469Z",
     "iopub.status.idle": "2023-06-27T19:26:42.692034Z",
     "shell.execute_reply": "2023-06-27T19:26:42.690783Z"
    },
    "papermill": {
     "duration": 0.056896,
     "end_time": "2023-06-27T19:26:42.695031",
     "exception": false,
     "start_time": "2023-06-27T19:26:42.638135",
     "status": "completed"
    },
    "tags": []
   },
   "outputs": [
    {
     "name": "stdout",
     "output_type": "stream",
     "text": [
      "True\n",
      "False\n",
      "True\n"
     ]
    }
   ],
   "source": [
    "# Palindrome function\n",
    "# Ignore blank spaces and capitalizations\n",
    "# Return True or False\n",
    "\n",
    "def is_palindrome(input_string):\n",
    "    # Two variables are initialized as string date types using empty \n",
    "    # quotes: \"reverse_string\" to hold the \"input_string\" in reverse\n",
    "    # order and \"new_string\" to hold the \"input_string\" minus the \n",
    "    # spaces between words, if any are found.\n",
    "    new_string = \"\"\n",
    "    reverse_string = \"\"\n",
    "\n",
    "    # Complete the for loop to iterate through each letter of the\n",
    "    # \"input_string\"\n",
    "    for letter in input_string:\n",
    "\n",
    "        # The if-statement checks if the \"letter\" is not a space.\n",
    "        if letter != \" \":\n",
    "\n",
    "            # If True, add the \"letter\" to the end of \"new_string\" and\n",
    "            # to the front of \"reverse_string\". If False (if a space\n",
    "            # is detected), no action is needed. Exit the if-block.\n",
    "            new_string = new_string + letter\n",
    "            reverse_string = letter + reverse_string\n",
    "\n",
    "    # Complete the if-statement to compare the \"new_string\" to the\n",
    "    # \"reverse_string\". Remember that Python is case-sensitive when\n",
    "    # creating the string comparison code. \n",
    "    if new_string.lower() == reverse_string.lower():\n",
    "\n",
    "        # If True, the \"input_string\" contains a palindrome.\n",
    "        return True\n",
    "    \n",
    "    # Otherwise, return False.\n",
    "    return False\n",
    "\n",
    "\n",
    "print(is_palindrome(\"Never Odd or Even\")) # Should be True\n",
    "print(is_palindrome(\"abc\")) # Should be False\n",
    "print(is_palindrome(\"kayak\")) # Should be True"
   ]
  },
  {
   "cell_type": "code",
   "execution_count": 25,
   "id": "1e47f171",
   "metadata": {
    "execution": {
     "iopub.execute_input": "2023-06-27T19:26:42.787909Z",
     "iopub.status.busy": "2023-06-27T19:26:42.787535Z",
     "iopub.status.idle": "2023-06-27T19:26:42.794734Z",
     "shell.execute_reply": "2023-06-27T19:26:42.793484Z"
    },
    "papermill": {
     "duration": 0.05871,
     "end_time": "2023-06-27T19:26:42.798175",
     "exception": false,
     "start_time": "2023-06-27T19:26:42.739465",
     "status": "completed"
    },
    "tags": []
   },
   "outputs": [
    {
     "name": "stdout",
     "output_type": "stream",
     "text": [
      "12 miles equals 19.2 km\n",
      "5.5 miles equals 8.8 km\n",
      "11 miles equals 17.6 km\n"
     ]
    }
   ],
   "source": [
    "def convert_distance(miles):\n",
    "    km = miles * 1.6 \n",
    "    result = \"{} miles equals {:.1f} km\".format(miles, km)\n",
    "    return result\n",
    "\n",
    "\n",
    "print(convert_distance(12)) # Should be: 12 miles equals 19.2 km\n",
    "print(convert_distance(5.5)) # Should be: 5.5 miles equals 8.8 km\n",
    "print(convert_distance(11)) # Should be: 11 miles equals 17.6 km"
   ]
  },
  {
   "cell_type": "code",
   "execution_count": 26,
   "id": "92c9733a",
   "metadata": {
    "execution": {
     "iopub.execute_input": "2023-06-27T19:26:42.890151Z",
     "iopub.status.busy": "2023-06-27T19:26:42.889766Z",
     "iopub.status.idle": "2023-06-27T19:26:42.896572Z",
     "shell.execute_reply": "2023-06-27T19:26:42.895617Z"
    },
    "papermill": {
     "duration": 0.055522,
     "end_time": "2023-06-27T19:26:42.899353",
     "exception": false,
     "start_time": "2023-06-27T19:26:42.843831",
     "status": "completed"
    },
    "tags": []
   },
   "outputs": [
    {
     "name": "stdout",
     "output_type": "stream",
     "text": [
      "Jane S.\n",
      "Francesco R.\n",
      "Jean-Luc G.\n"
     ]
    }
   ],
   "source": [
    "# Complete the function to generate a namge tag with givene format\n",
    "# Return first_name and the first initial of last_name followed by a period\n",
    "# nametag(\"Jane\", \"Smith\") should return \"Jane S.\"\n",
    "\n",
    "def nametag(first_name, last_name):\n",
    "    return(\"{}{}{}.\".format(first_name, \" \", last_name[0].upper(), \".\"))\n",
    "\n",
    "\n",
    "print(nametag(\"Jane\", \"Smith\")) \n",
    "# Should display \"Jane S.\" \n",
    "print(nametag(\"Francesco\", \"Rinaldi\")) \n",
    "# Should display \"Francesco R.\" \n",
    "print(nametag(\"Jean-Luc\", \"Grand-Pierre\")) \n",
    "# Should display \"Jean-Luc G.\" "
   ]
  },
  {
   "cell_type": "code",
   "execution_count": 27,
   "id": "3430fc95",
   "metadata": {
    "execution": {
     "iopub.execute_input": "2023-06-27T19:26:42.993648Z",
     "iopub.status.busy": "2023-06-27T19:26:42.993201Z",
     "iopub.status.idle": "2023-06-27T19:26:43.003120Z",
     "shell.execute_reply": "2023-06-27T19:26:43.001520Z"
    },
    "papermill": {
     "duration": 0.060442,
     "end_time": "2023-06-27T19:26:43.006466",
     "exception": false,
     "start_time": "2023-06-27T19:26:42.946024",
     "status": "completed"
    },
    "tags": []
   },
   "outputs": [
    {
     "name": "stdout",
     "output_type": "stream",
     "text": [
      "It's raining cats and dogs\n",
      "She sells seashells by the seashore\n",
      "The weather is nice in May\n",
      "The weather is nice in April\n"
     ]
    }
   ],
   "source": [
    "# Complete the replace_ending function\n",
    "# It replaces a specified substing at the end of a given sentence with a new substring\n",
    "# Replace only the substring at the end of the sentence\n",
    "# Maintain the case-sensitivity\n",
    "\n",
    "def replace_ending(sentence, old, new):\n",
    "    # Check if the old substring is at the end of the sentence \n",
    "    if sentence.endswith(old):\n",
    "        # Using i as the slicing index, combine the part\n",
    "        # of the sentence up to the matched string at the \n",
    "        # end with the new string\n",
    "        i = len(old)\n",
    "        #print(sentence[:-i])\n",
    "        new_sentence = sentence[:-i] + new\n",
    "        return new_sentence\n",
    "\n",
    "\n",
    "    # Return the original sentence if there is no match \n",
    "    return sentence\n",
    "    \n",
    "print(replace_ending(\"It's raining cats and cats\", \"cats\", \"dogs\")) \n",
    "# Should display \"It's raining cats and dogs\"\n",
    "print(replace_ending(\"She sells seashells by the seashore\", \"seashells\", \"donuts\")) \n",
    "# Should display \"She sells seashells by the seashore\"\n",
    "print(replace_ending(\"The weather is nice in May\", \"may\", \"april\")) \n",
    "# Should display \"The weather is nice in May\"\n",
    "print(replace_ending(\"The weather is nice in May\", \"May\", \"April\")) \n",
    "# Should display \"The weather is nice in April\""
   ]
  },
  {
   "cell_type": "markdown",
   "id": "34a08b98",
   "metadata": {
    "papermill": {
     "duration": 0.044808,
     "end_time": "2023-06-27T19:26:43.096607",
     "exception": false,
     "start_time": "2023-06-27T19:26:43.051799",
     "status": "completed"
    },
    "tags": []
   },
   "source": [
    "## Lists"
   ]
  },
  {
   "cell_type": "code",
   "execution_count": 28,
   "id": "97c44889",
   "metadata": {
    "execution": {
     "iopub.execute_input": "2023-06-27T19:26:43.187895Z",
     "iopub.status.busy": "2023-06-27T19:26:43.187493Z",
     "iopub.status.idle": "2023-06-27T19:26:43.195866Z",
     "shell.execute_reply": "2023-06-27T19:26:43.194871Z"
    },
    "papermill": {
     "duration": 0.057611,
     "end_time": "2023-06-27T19:26:43.198625",
     "exception": false,
     "start_time": "2023-06-27T19:26:43.141014",
     "status": "completed"
    },
    "tags": []
   },
   "outputs": [
    {
     "name": "stdout",
     "output_type": "stream",
     "text": [
      "lesson\n",
      "None\n",
      "Now\n",
      "\n"
     ]
    }
   ],
   "source": [
    "# Using the \"split\" string method from the preceding lesson in String,\n",
    "# complete the get_word function to return the {n}th word from a passed sentence. \n",
    "# For example, get_word(\"This is a lesson about lists\"), \n",
    "# should return \"lesson\", which is the 4th word in this sentence. \n",
    "# Hint: remember that list indexes start at 0, not 1. \n",
    "\n",
    "def get_word(sentence, n):\n",
    "    # Only proceed if n is positive \n",
    "    if n > 0:\n",
    "        words = sentence.split(\" \")\n",
    "        # Only proceed if n is not more than the number of words \n",
    "        if n <= len(words):\n",
    "            return(words[n-1])\n",
    "        return(\"\")\n",
    "\n",
    "print(get_word(\"This is a lesson about lists\", 4)) # Should print: lesson\n",
    "print(get_word(\"This is a lesson about lists\", -4)) # Nothing\n",
    "print(get_word(\"Now we are cooking!\", 1)) # Should print: Now\n",
    "print(get_word(\"Now we are cooking!\", 5)) # Nothing"
   ]
  },
  {
   "cell_type": "markdown",
   "id": "719513f7",
   "metadata": {
    "papermill": {
     "duration": 0.044662,
     "end_time": "2023-06-27T19:26:43.287335",
     "exception": false,
     "start_time": "2023-06-27T19:26:43.242673",
     "status": "completed"
    },
    "tags": []
   },
   "source": [
    "## Tuples"
   ]
  },
  {
   "cell_type": "code",
   "execution_count": 29,
   "id": "e047277d",
   "metadata": {
    "execution": {
     "iopub.execute_input": "2023-06-27T19:26:43.380064Z",
     "iopub.status.busy": "2023-06-27T19:26:43.379645Z",
     "iopub.status.idle": "2023-06-27T19:26:43.388620Z",
     "shell.execute_reply": "2023-06-27T19:26:43.386834Z"
    },
    "papermill": {
     "duration": 0.060501,
     "end_time": "2023-06-27T19:26:43.391946",
     "exception": false,
     "start_time": "2023-06-27T19:26:43.331445",
     "status": "completed"
    },
    "tags": []
   },
   "outputs": [
    {
     "name": "stdout",
     "output_type": "stream",
     "text": [
      "17.46\n",
      "0.48\n",
      "1.21\n"
     ]
    }
   ],
   "source": [
    "# function unpacking tuple into variables\n",
    "# (here, file name, type, and file size in byte)\n",
    "# then calculate the file size in kilobyte to return\n",
    "\n",
    "def file_size(file_info):\n",
    "    name, type, size = file_info # this called unpacking the tuple\n",
    "    return(\"{:.2f}\".format(size / 1024))\n",
    "\n",
    "print(file_size(('Class Assignment', 'docx', 17875))) # Should print 17.46\n",
    "print(file_size(('Notes', 'txt', 496))) # Should print 0.48\n",
    "print(file_size(('Program', 'py', 1239))) # Should print 1.21"
   ]
  },
  {
   "cell_type": "markdown",
   "id": "f475b407",
   "metadata": {
    "papermill": {
     "duration": 0.042485,
     "end_time": "2023-06-27T19:26:43.478909",
     "exception": false,
     "start_time": "2023-06-27T19:26:43.436424",
     "status": "completed"
    },
    "tags": []
   },
   "source": [
    "## List Comprehension"
   ]
  },
  {
   "cell_type": "code",
   "execution_count": 30,
   "id": "2ca9eb99",
   "metadata": {
    "execution": {
     "iopub.execute_input": "2023-06-27T19:26:43.568533Z",
     "iopub.status.busy": "2023-06-27T19:26:43.568090Z",
     "iopub.status.idle": "2023-06-27T19:26:43.576530Z",
     "shell.execute_reply": "2023-06-27T19:26:43.574991Z"
    },
    "papermill": {
     "duration": 0.057158,
     "end_time": "2023-06-27T19:26:43.579838",
     "exception": false,
     "start_time": "2023-06-27T19:26:43.522680",
     "status": "completed"
    },
    "tags": []
   },
   "outputs": [
    {
     "name": "stdout",
     "output_type": "stream",
     "text": [
      "[1, 3, 5]\n",
      "[1, 3, 5, 7, 9]\n",
      "[1, 3, 5, 7, 9, 11]\n",
      "[1]\n",
      "[]\n"
     ]
    }
   ],
   "source": [
    "# Simple List Comprehension using conditions\n",
    "# Complete the function that takes a number, and return a list of\n",
    "# odd numbers between 1 and n(inclusive)\n",
    "\n",
    "def odd_numbers(n):\n",
    "\treturn [x for x in range(1, n+1) if x % 2 == 1 ]\n",
    "\n",
    "print(odd_numbers(5))  # Should print [1, 3, 5]\n",
    "print(odd_numbers(10)) # Should print [1, 3, 5, 7, 9]\n",
    "print(odd_numbers(11)) # Should print [1, 3, 5, 7, 9, 11]\n",
    "print(odd_numbers(1))  # Should print [1]\n",
    "print(odd_numbers(-1)) # Should print []"
   ]
  },
  {
   "cell_type": "code",
   "execution_count": 31,
   "id": "66be028b",
   "metadata": {
    "execution": {
     "iopub.execute_input": "2023-06-27T19:26:43.674623Z",
     "iopub.status.busy": "2023-06-27T19:26:43.674185Z",
     "iopub.status.idle": "2023-06-27T19:26:43.687087Z",
     "shell.execute_reply": "2023-06-27T19:26:43.685539Z"
    },
    "papermill": {
     "duration": 0.061178,
     "end_time": "2023-06-27T19:26:43.689584",
     "exception": false,
     "start_time": "2023-06-27T19:26:43.628406",
     "status": "completed"
    },
    "tags": []
   },
   "outputs": [
    {
     "name": "stdout",
     "output_type": "stream",
     "text": [
      "List comprehension results:\n",
      "[2, 4, 6, 8, 10, 12, 14, 16, 18, 20]\n",
      "Long form code results: \n",
      "[2, 4, 6, 8, 10, 12, 14, 16, 18, 20]\n",
      "List comprehension result: \n",
      "[10, 20, 30, 40, 50, 60, 70, 80, 90, 100]\n",
      "Long form code result: \n",
      "[10, 20, 30, 40, 50, 60, 70, 80, 90, 100]\n",
      "[4, 9]\n",
      "[1, 4, 9, 16, 25]\n",
      "[0, 1, 4, 9, 16, 25, 36, 49, 64, 81, 100]\n"
     ]
    }
   ],
   "source": [
    "# Examples\n",
    "\n",
    "# Simple list comprehension\n",
    "# For example, [ x*2 for x in range(1,11) ] is a simple list comprehension.\n",
    "# This single line of code iterates over a range from 1 to 10, \n",
    "# multiplies each element in the range by 2, and creates a new list from all multiples of 2 from 2 to 20.\n",
    "\n",
    "### Simple list comprehension ###\n",
    "print(\"List comprehension results:\")\n",
    "\n",
    "# The following list comprehension compact multiple lines of code into one.\n",
    "print([x*2 for x in range(1, 11)])\n",
    "\n",
    "### Long form for loop ###\n",
    "print(\"Long form code results: \")\n",
    "\n",
    "new_list = []\n",
    "for element in range(1, 11):\n",
    "    new_list.append(element*2)\n",
    "print(new_list)\n",
    "\n",
    "\n",
    "# Generate a new list containing all the integers divisible by 10 from 1 to 100\n",
    "### List Comprehension with Conditional Statement ###\n",
    "print(\"List comprehension result: \")\n",
    "# Following list comprehension compacts multiple lines of code into one line.\n",
    "print([ x for x in range(1, 101) if x % 10 == 0 ])\n",
    "\n",
    "### Long for for loop with nested if-statement\n",
    "# the long form version of the code:\n",
    "print(\"Long form code result: \")\n",
    "my_list = []\n",
    "for x in range(1,101):\n",
    "  if x % 10 == 0:\n",
    "    my_list.append(x)\n",
    "print(my_list)\n",
    "\n",
    "### Single body line of function to return the list of squared numbers for the given range\n",
    "def squares(start, end):\n",
    "    return[ n*n for n in range(start, end+1)]\n",
    "\n",
    "print(squares(2, 3))  # Should print [4, 9]\n",
    "print(squares(1, 5))  # Should print [1, 4, 9, 16, 25]\n",
    "print(squares(0, 10)) # Should print [0, 1, 4, 9, 16, 25, 36, 49, 64, 81, 100]"
   ]
  },
  {
   "cell_type": "markdown",
   "id": "4ef8dcff",
   "metadata": {
    "papermill": {
     "duration": 0.044713,
     "end_time": "2023-06-27T19:26:43.778806",
     "exception": false,
     "start_time": "2023-06-27T19:26:43.734093",
     "status": "completed"
    },
    "tags": []
   },
   "source": [
    "## Study Guide: Lists Operations and Methods\n",
    "This study guide provides a quick-reference summary of what you learned in this lesson and serves as a guide for the upcoming practice quiz. \n",
    "\n",
    "In the Lists and Tuples segment, you learned about the differences between lists and tuples, how to modify the contents of a list, how to iterate over lists and tuples, how to use the enumerate() function, and how to create list comprehensions. "
   ]
  },
  {
   "cell_type": "markdown",
   "id": "d6fd9937",
   "metadata": {
    "papermill": {
     "duration": 0.043663,
     "end_time": "2023-06-27T19:26:43.868661",
     "exception": false,
     "start_time": "2023-06-27T19:26:43.824998",
     "status": "completed"
    },
    "tags": []
   },
   "source": [
    "### Knowledge\n",
    "### Common sequence operations\n",
    "Lists and tuples are both **sequences** and they share a number of sequence operations\n",
    "\n",
    "* **len(sequence)** - Returns the length of the sequence.\n",
    "* **for element in sequence** - Iterates over each element in the sequence.\n",
    "* **if element in sequence** - Checks whether the element is part of the sequence.\n",
    "* **sequence[x]** - Accesses the element at **index [x]** of the sequence, starting at zero\n",
    "* **sequence[x:y]** - Accesses a slice starting at **index [x]**, ending at **index [y-1]**. If [x] is omitted, the index will start at 0 by default. If [y] is omitted, the len(sequence) will set the ending index position by default.\n",
    "* for index, **element in enumerate(sequence)** - Iterates over both the **indices** and the **elements** in the sequence at the same time."
   ]
  },
  {
   "cell_type": "markdown",
   "id": "88c48b40",
   "metadata": {
    "papermill": {
     "duration": 0.044435,
     "end_time": "2023-06-27T19:26:43.960837",
     "exception": false,
     "start_time": "2023-06-27T19:26:43.916402",
     "status": "completed"
    },
    "tags": []
   },
   "source": [
    "### List-specific operations and methods\n",
    "One major difference between lists and tuples is that lists are mutable (changeable) and tuples are immutable (not changeable). \n",
    "There are a few operations and methods that are **specific to changing data within lists**:\n",
    "\n",
    "**list[index] = x** - Replaces the element at index [n] with x.\n",
    "\n",
    "**list.append(x)** - Appends x to the end of the list.\n",
    "\n",
    "**list.insert(index, x)** - Inserts x at index position [index].\n",
    "\n",
    "**list.pop(index)** - Returns the element at [index] and removes it from the list. If [index] position is not in the list, the last element in the list is returned and removed.\n",
    "\n",
    "**list.remove(x)** - Removes the **first occurrence** of x in the list.\n",
    "\n",
    "**list.sort()** - Sorts the items in the list.\n",
    "\n",
    "**list.reverse()** - Reverses the order of items of the list.\n",
    "\n",
    "**list.clear()** - **Deletes all** items in the list.\n",
    "\n",
    "**list.copy()** - Creates a copy of the list.\n",
    "\n",
    "**list.extend(other_list)** - **Appends all the elements of other_list at the end of list**\n"
   ]
  },
  {
   "cell_type": "markdown",
   "id": "e977eb58",
   "metadata": {
    "papermill": {
     "duration": 0.045713,
     "end_time": "2023-06-27T19:26:44.050390",
     "exception": false,
     "start_time": "2023-06-27T19:26:44.004677",
     "status": "completed"
    },
    "tags": []
   },
   "source": [
    "### List comprehensions\n",
    "A list comprehension is an efficient method for **creating a new list from a sequence or a range in a single line of code**. \n",
    "It is a best practice to add descriptive comments\n",
    "\n",
    "Examples\n",
    "```\n",
    "my_list = [ x*2 for x in range(1,11) ]   # create a list elements of square(x), with x between 1 - 10\n",
    "my_list = [ x for x in range(1,101) if x % 10 == 0 ]   # create list of elements of x, with x between 1 - 100 if x is divisible by 10\n",
    "\n",
    "```"
   ]
  },
  {
   "cell_type": "markdown",
   "id": "2f98b991",
   "metadata": {
    "papermill": {
     "duration": 0.04645,
     "end_time": "2023-06-27T19:26:44.141129",
     "exception": false,
     "start_time": "2023-06-27T19:26:44.094679",
     "status": "completed"
    },
    "tags": []
   },
   "source": [
    "## Coding skills"
   ]
  },
  {
   "cell_type": "markdown",
   "id": "0c196108",
   "metadata": {
    "papermill": {
     "duration": 0.045751,
     "end_time": "2023-06-27T19:26:44.233416",
     "exception": false,
     "start_time": "2023-06-27T19:26:44.187665",
     "status": "completed"
    },
    "tags": []
   },
   "source": [
    "### Skill Group 1\n",
    "* Use a **for** loop to modify elements of a list.\n",
    "* Use the **list.append(old,new)** method.\n",
    "* Use the **string.endswith()** and **string.replace()** methods to modify the elements within a list."
   ]
  },
  {
   "cell_type": "code",
   "execution_count": 32,
   "id": "32ce81f7",
   "metadata": {
    "execution": {
     "iopub.execute_input": "2023-06-27T19:26:44.330435Z",
     "iopub.status.busy": "2023-06-27T19:26:44.330009Z",
     "iopub.status.idle": "2023-06-27T19:26:44.338262Z",
     "shell.execute_reply": "2023-06-27T19:26:44.337361Z"
    },
    "papermill": {
     "duration": 0.062019,
     "end_time": "2023-06-27T19:26:44.342248",
     "exception": false,
     "start_time": "2023-06-27T19:26:44.280229",
     "status": "completed"
    },
    "tags": []
   },
   "outputs": [
    {
     "name": "stdout",
     "output_type": "stream",
     "text": [
      "['January 2023', 'May 2025', 'April 2023', 'August 2024', 'September 2025', 'December 2023']\n",
      "['January 2024', 'May 2025', 'April 2024', 'August 2024', 'September 2025', 'December 2024']\n"
     ]
    }
   ],
   "source": [
    "# This block of code changes the year on a list of dates.\n",
    "# The \"years\" list is given with existing elements. \n",
    "years = [\"January 2023\", \"May 2025\", \"April 2023\", \"August 2024\", \"September 2025\", \"December 2023\"]\n",
    "\n",
    "\n",
    "# The variable \"updated_years\" is initialized as a list data type \n",
    "# using empty square brackets []. This list will hold the new list\n",
    "# with the updated years. \n",
    "updated_years = []\n",
    "\n",
    "# The for loop checks each \"year\" element in the list \"years\".\n",
    "for year in years:\n",
    "\n",
    "    # The if-statement checks if the \"year\" element ends with the \n",
    "    # substring \"2023\". \n",
    "    if year.endswith(\"2023\"):\n",
    "\n",
    "        # If True, then a temporary variable \"new\" will hold the \n",
    "        # modified \"year\" element where the \"2023\" substring is \n",
    "        # replaced with the substring \"2024\".\n",
    "        new = year.replace(\"2023\",\"2024\")\n",
    "\n",
    "        # Then, the list \"updated_years\" is appended with the changed\n",
    "        # element held in the temporary variable \"new\".\n",
    "        updated_years.append(new)\n",
    "        \n",
    "    # If False, the original \"year\" element will be appended to the \n",
    "    # the \"updated_years\" list unchanged.\n",
    "    else:\n",
    "        updated_years.append(year)\n",
    "\n",
    "\n",
    "print(years) # Print the original list\n",
    "print(updated_years) \n",
    "# Should print [\"January 2024\", \"May 2025\", \"April 2024\", \"August 2024\", \"September 2025\", \"December 2024\"]"
   ]
  },
  {
   "cell_type": "markdown",
   "id": "73367532",
   "metadata": {
    "papermill": {
     "duration": 0.044979,
     "end_time": "2023-06-27T19:26:44.434994",
     "exception": false,
     "start_time": "2023-06-27T19:26:44.390015",
     "status": "completed"
    },
    "tags": []
   },
   "source": [
    "### Skill Group 2\n",
    "Use a **list comprehension** to return values\n"
   ]
  },
  {
   "cell_type": "code",
   "execution_count": 33,
   "id": "c9fde3f5",
   "metadata": {
    "execution": {
     "iopub.execute_input": "2023-06-27T19:26:44.526245Z",
     "iopub.status.busy": "2023-06-27T19:26:44.525811Z",
     "iopub.status.idle": "2023-06-27T19:26:44.533748Z",
     "shell.execute_reply": "2023-06-27T19:26:44.532766Z"
    },
    "papermill": {
     "duration": 0.056488,
     "end_time": "2023-06-27T19:26:44.536954",
     "exception": false,
     "start_time": "2023-06-27T19:26:44.480466",
     "status": "completed"
    },
    "tags": []
   },
   "outputs": [
    {
     "name": "stdout",
     "output_type": "stream",
     "text": [
      "[4, 9]\n",
      "[1, 4, 9, 16, 25]\n",
      "[0, 1, 4, 9, 16, 25, 36, 49, 64, 81, 100]\n"
     ]
    }
   ],
   "source": [
    "# This list comprehension creates a list of squared numbers (n*n). It\n",
    "# accepts two integer variables through the function’s parameters.\n",
    "def squares(start, end):\n",
    "    \n",
    "# The list comprehension calculates the square of a variable integer \n",
    "# \"n\", where \"n\" ranges from the \"start\" to \"end\" variables inclusively.\n",
    "# To be inclusive in a range(), add +1 to the end of range variable.\n",
    "    return [n*n for n in range(start,end+1)] \n",
    "\n",
    "\n",
    "print(squares(2, 3))  # Should print [4, 9]\n",
    "print(squares(1, 5))  # Should print [1, 4, 9, 16, 25]\n",
    "print(squares(0, 10)) # Should print [0, 1, 4, 9, 16, 25, 36, 49, 64, 81, 100]"
   ]
  },
  {
   "cell_type": "markdown",
   "id": "8448e60f",
   "metadata": {
    "papermill": {
     "duration": 0.045072,
     "end_time": "2023-06-27T19:26:44.627867",
     "exception": false,
     "start_time": "2023-06-27T19:26:44.582795",
     "status": "completed"
    },
    "tags": []
   },
   "source": [
    "## Skill Group 3"
   ]
  },
  {
   "cell_type": "markdown",
   "id": "cb27e050",
   "metadata": {
    "papermill": {
     "duration": 0.043947,
     "end_time": "2023-06-27T19:26:44.717603",
     "exception": false,
     "start_time": "2023-06-27T19:26:44.673656",
     "status": "completed"
    },
    "tags": []
   },
   "source": [
    "* Use the **string[index]** method within a list comprehension.  \n",
    "* Use a **list comprehension** to **modify elements** of a list.\n",
    "* Use the **string.replace()** method within a list comprehension."
   ]
  },
  {
   "cell_type": "code",
   "execution_count": 34,
   "id": "37950f5c",
   "metadata": {
    "execution": {
     "iopub.execute_input": "2023-06-27T19:26:44.811986Z",
     "iopub.status.busy": "2023-06-27T19:26:44.811571Z",
     "iopub.status.idle": "2023-06-27T19:26:44.819791Z",
     "shell.execute_reply": "2023-06-27T19:26:44.818504Z"
    },
    "papermill": {
     "duration": 0.059191,
     "end_time": "2023-06-27T19:26:44.822439",
     "exception": false,
     "start_time": "2023-06-27T19:26:44.763248",
     "status": "completed"
    },
    "tags": []
   },
   "outputs": [
    {
     "name": "stdout",
     "output_type": "stream",
     "text": [
      "['January 2023', 'May 2025', 'April 2023', 'August 2024', 'September 2025', 'December 2023']\n",
      "['January 2024', 'May 2025', 'April 2024', 'August 2024', 'September 2025', 'December 2024']\n"
     ]
    }
   ],
   "source": [
    "# This block of code also changes the year on a list of dates using a\n",
    "# different approach than demonstrated in Skill Group 1. By using a \n",
    "# list comprehension, you can see how it is possible to refactor the\n",
    "# code to a shorter, more efficient code block. \n",
    "\n",
    "# The \"years\" list is given with existing elements.\n",
    "years = [\"January 2023\", \"May 2025\", \"April 2023\", \"August 2024\", \"September 2025\", \"December 2023\"]\n",
    "\n",
    "# The list comprehension below creates a new list \"updated_years\" to\n",
    "# hold the command to replace the \"2023\" substring of the \"year\"\n",
    "# element with the substring \"2024\". This action will be executed if\n",
    "# the last 4 indices of the \"year\" string is equal to the substring\n",
    "# \"2023\". If false (else), the \"year\" element will be included in the\n",
    "# new list \"updated_years\" unchanged.\n",
    "updated_years = [year.replace(\"2023\",\"2024\") if year[-4:] == \"2023\" else year for year in years]\n",
    "\n",
    "print(years) # print the original list\n",
    "print(updated_years) \n",
    "# Should print [\"January 2024\", \"May 2025\", \"April 2024\", \"August 2024\", \"September 2025\", \"December 2024\"]"
   ]
  },
  {
   "cell_type": "markdown",
   "id": "c1b686ec",
   "metadata": {
    "papermill": {
     "duration": 0.046562,
     "end_time": "2023-06-27T19:26:44.913426",
     "exception": false,
     "start_time": "2023-06-27T19:26:44.866864",
     "status": "completed"
    },
    "tags": []
   },
   "source": [
    "## Skill Group 4"
   ]
  },
  {
   "cell_type": "markdown",
   "id": "251d8f1c",
   "metadata": {
    "papermill": {
     "duration": 0.046532,
     "end_time": "2023-06-27T19:26:45.006624",
     "exception": false,
     "start_time": "2023-06-27T19:26:44.960092",
     "status": "completed"
    },
    "tags": []
   },
   "source": [
    "1. Use the **string.split()** method to separate a string into a list of individual words.\n",
    "1. Iterate over the new list using a **for** loop.\n",
    "1. Modify each element in the list by slicing the element’s string at a given [1:] index position and appending the substring to the end of the element.\n",
    "1. Convert a list back into a string."
   ]
  },
  {
   "cell_type": "code",
   "execution_count": 35,
   "id": "868fafa1",
   "metadata": {
    "execution": {
     "iopub.execute_input": "2023-06-27T19:26:45.099845Z",
     "iopub.status.busy": "2023-06-27T19:26:45.099461Z",
     "iopub.status.idle": "2023-06-27T19:26:45.109584Z",
     "shell.execute_reply": "2023-06-27T19:26:45.108408Z"
    },
    "papermill": {
     "duration": 0.05946,
     "end_time": "2023-06-27T19:26:45.112828",
     "exception": false,
     "start_time": "2023-06-27T19:26:45.053368",
     "status": "completed"
    },
    "tags": []
   },
   "outputs": [
    {
     "name": "stdout",
     "output_type": "stream",
     "text": [
      "1one 2two 3three 4four 5five\n",
      "['1one', '2two', '3three', '4four', '5five']\n",
      "<class 'list'>\n",
      "one-1 two-2 three-3 four-4 five-5 \n"
     ]
    }
   ],
   "source": [
    "# This function splits a given string into a list of elements. Then, it\n",
    "# modifies each element by moving the first character to the end of the \n",
    "# element and adds a dash between the element and the moved character. \n",
    "# For example, the element \"2two\" will be changed to \"two-2\". Finally,\n",
    "# the function converts the list back to a string, and returns the\n",
    "# new string.\n",
    "def change_string(given_string):\n",
    "\n",
    "# Initialize \"new_string\" as a string data type by using empty quotes.\n",
    "    new_string = \"\"\n",
    "    # Split the \"given_string\" into a \"new_list\", with each \"element\"\n",
    "    # holding an individual word from the string.\n",
    "    new_list = given_string.split() # create a list of splitted strings from the given string\n",
    "    print(new_list) # print the splitted string\n",
    "    print(type(new_list))\n",
    "\n",
    "    # The for loop iterates over each \"element\" in the \"new_list\".\n",
    "    for element in new_list:\n",
    "\n",
    "        # Convert the list into a \"new_string\" by using the assignment\n",
    "        # operator += to concatenate the following items: \n",
    "        # + Each list \"element\" (starting at index position [1:]), \n",
    "        # + a dash \"-\", \n",
    "        # + append the first character of the \"element\" (using the index \n",
    "        # [0]) to the end of the \"element\", and finally,\n",
    "        # + a space \" \" to separate each \"element\" in the \"new_string\".\n",
    "        new_string += element[1:] + \"-\"  + element[0] + \" \"\n",
    "\n",
    "    # Return the list that has been converted back into a string.\n",
    "    return new_string\n",
    "\n",
    "given_string = \"1one 2two 3three 4four 5five\"\n",
    "print(given_string)\n",
    "\n",
    "print(change_string(given_string)) \n",
    "# Should print \"one-1 two-2 three-3 four-4 five-5\"  "
   ]
  },
  {
   "cell_type": "markdown",
   "id": "6e5ed9ab",
   "metadata": {
    "papermill": {
     "duration": 0.042864,
     "end_time": "2023-06-27T19:26:45.201641",
     "exception": false,
     "start_time": "2023-06-27T19:26:45.158777",
     "status": "completed"
    },
    "tags": []
   },
   "source": [
    "## Skill Group 5\n",
    "* Use the **string.join()** method to concatenate a string that provides a list name and its elements"
   ]
  },
  {
   "cell_type": "code",
   "execution_count": 36,
   "id": "3baafa77",
   "metadata": {
    "execution": {
     "iopub.execute_input": "2023-06-27T19:26:45.297106Z",
     "iopub.status.busy": "2023-06-27T19:26:45.296722Z",
     "iopub.status.idle": "2023-06-27T19:26:45.305121Z",
     "shell.execute_reply": "2023-06-27T19:26:45.303196Z"
    },
    "papermill": {
     "duration": 0.060952,
     "end_time": "2023-06-27T19:26:45.308943",
     "exception": false,
     "start_time": "2023-06-27T19:26:45.247991",
     "status": "completed"
    },
    "tags": []
   },
   "outputs": [
    {
     "name": "stdout",
     "output_type": "stream",
     "text": [
      "The Printers list includes: Color Printer, Black and White Printer, 3-D Printer\n"
     ]
    }
   ],
   "source": [
    "# This function accepts a list name and a list of elements, and \n",
    "# returns # a string with the format: \n",
    "# \"The \"list_name\" list includes: element1, element2, element3\". \n",
    "def list_elements(list_name, elements):\n",
    "\n",
    "    # This task can be completed in a single line of code. The \n",
    "    # concatenation of strings, \"list_name\", and the list \"elements\" can\n",
    "    # occur on the return line. In this case, the string \"The \" is added \n",
    "    # to the \"list_name\", plus the string \" list includes: \", then the\n",
    "    # \"elements\" are joined using a comma to separate each element of the \n",
    "    # list.\n",
    "    return \"The \" + list_name + \" list includes: \" + \", \".join(elements)\n",
    "\n",
    "\n",
    "print(list_elements(\"Printers\", [\"Color Printer\", \"Black and White Printer\", \"3-D Printer\"])) \n",
    "# Should print \"The Printers list includes: Color Printer, Black and White Printer, 3-D Printer\""
   ]
  },
  {
   "cell_type": "markdown",
   "id": "b7fa5fdb",
   "metadata": {
    "papermill": {
     "duration": 0.049683,
     "end_time": "2023-06-27T19:26:45.407214",
     "exception": false,
     "start_time": "2023-06-27T19:26:45.357531",
     "status": "completed"
    },
    "tags": []
   },
   "source": [
    "### Official documentations\n",
    "* [Common sequence operations](https://docs.python.org/3/library/stdtypes.html#sequence-types-list-tuple-range)\n",
    "* [Lists](https://docs.python.org/3/library/stdtypes.html#lists)\n",
    "* [Tuples](https://docs.python.org/3/library/stdtypes.html#tuples)\n"
   ]
  },
  {
   "cell_type": "markdown",
   "id": "61469af6",
   "metadata": {
    "papermill": {
     "duration": 0.047382,
     "end_time": "2023-06-27T19:26:45.499362",
     "exception": false,
     "start_time": "2023-06-27T19:26:45.451980",
     "status": "completed"
    },
    "tags": []
   },
   "source": [
    "## Practice Quiz: Lists"
   ]
  },
  {
   "cell_type": "markdown",
   "id": "3a5cff6d",
   "metadata": {
    "papermill": {
     "duration": 0.043659,
     "end_time": "2023-06-27T19:26:45.586984",
     "exception": false,
     "start_time": "2023-06-27T19:26:45.543325",
     "status": "completed"
    },
    "tags": []
   },
   "source": [
    "1. Given a list of filenames, we want to rename all the files with extension hpp to extension h. To do this, we  \n",
    "would like to generate a new list called new filenames, consisiting of the new filenames, FIll in the blanks   \n",
    "in the code using any of the methods you've learned thus far, like a for loop or list comrephension."
   ]
  },
  {
   "cell_type": "code",
   "execution_count": 37,
   "id": "28d81b87",
   "metadata": {
    "execution": {
     "iopub.execute_input": "2023-06-27T19:26:45.679998Z",
     "iopub.status.busy": "2023-06-27T19:26:45.679581Z",
     "iopub.status.idle": "2023-06-27T19:26:45.686953Z",
     "shell.execute_reply": "2023-06-27T19:26:45.685988Z"
    },
    "papermill": {
     "duration": 0.056588,
     "end_time": "2023-06-27T19:26:45.689909",
     "exception": false,
     "start_time": "2023-06-27T19:26:45.633321",
     "status": "completed"
    },
    "tags": []
   },
   "outputs": [
    {
     "name": "stdout",
     "output_type": "stream",
     "text": [
      "['program.c', 'stdio.hpp', 'sample.hpp', 'a.out', 'math.hpp', 'hpp.out']\n",
      "['program.c', 'stdio.h', 'sample.h', 'a.out', 'math.h', 'hpp.out']\n"
     ]
    }
   ],
   "source": [
    "filenames = [\"program.c\", \"stdio.hpp\", \"sample.hpp\", \"a.out\", \"math.hpp\", \"hpp.out\"]\n",
    "# Generate newfilenames as a list containing the new filenames\n",
    "# using as many lines of code as your chosen method requires.\n",
    "\n",
    "newfilenames = [ file.replace(\".hpp\", \".h\") if file.endswith(\".hpp\") else file for file in filenames ]  \n",
    "\n",
    "print(filenames) # original list\n",
    "print(newfilenames) # new list\n",
    "# Should be [\"program.c\", \"stdio.h\", \"sample.h\", \"a.out\", \"math.h\", \"hpp.out\"]"
   ]
  },
  {
   "cell_type": "markdown",
   "id": "baf12ca4",
   "metadata": {
    "papermill": {
     "duration": 0.045449,
     "end_time": "2023-06-27T19:26:45.780857",
     "exception": false,
     "start_time": "2023-06-27T19:26:45.735408",
     "status": "completed"
    },
    "tags": []
   },
   "source": [
    "2. Let's create a function that turns text into pig latin: a simple text transformation that modifies each word wmoving   \n",
    "the first character to the end and appending \"ay\" to the end, For example, python ends up as ythonpay."
   ]
  },
  {
   "cell_type": "code",
   "execution_count": 38,
   "id": "4960484f",
   "metadata": {
    "execution": {
     "iopub.execute_input": "2023-06-27T19:26:45.874538Z",
     "iopub.status.busy": "2023-06-27T19:26:45.873877Z",
     "iopub.status.idle": "2023-06-27T19:26:45.883049Z",
     "shell.execute_reply": "2023-06-27T19:26:45.881455Z"
    },
    "papermill": {
     "duration": 0.05938,
     "end_time": "2023-06-27T19:26:45.886168",
     "exception": false,
     "start_time": "2023-06-27T19:26:45.826788",
     "status": "completed"
    },
    "tags": []
   },
   "outputs": [
    {
     "name": "stdout",
     "output_type": "stream",
     "text": [
      "ellohay owhay reaay ouyay\n",
      "rogrammingpay niay ythonpay siay unfay\n"
     ]
    }
   ],
   "source": [
    "def pig_latin(text):\n",
    "  say = \"\"\n",
    "  pigwords = []\n",
    "  # Separate the text into words\n",
    "  words = text.split()  # list of splitted given text\n",
    "    \n",
    "  for word in words:\n",
    "    # Create the pig latin word and add it to the list\n",
    "    pigword = word[1:] + word[0] + \"ay\"\n",
    "    pigwords.append(pigword)\n",
    "    # Turn the list back into a phrase\n",
    "\n",
    "  say = \" \".join(pigwords)\n",
    "  return say\n",
    "\n",
    "print(pig_latin(\"hello how are you\")) # Should be \"ellohay owhay reaay ouyay\"\n",
    "print(pig_latin(\"programming in python is fun\")) # Should be \"rogrammingpay niay ythonpay siay unfay\""
   ]
  },
  {
   "cell_type": "markdown",
   "id": "ebe1e473",
   "metadata": {
    "papermill": {
     "duration": 0.046371,
     "end_time": "2023-06-27T19:26:45.977976",
     "exception": false,
     "start_time": "2023-06-27T19:26:45.931605",
     "status": "completed"
    },
    "tags": []
   },
   "source": [
    "5. The group_list function accepts a group name and a list of members, and  \n",
    "returns a string with the format: group_name:member1, member2,...   \n",
    "For example, group_list(\"g\",[\"a\",\"b\",\"c\"]] returns  \n",
    "\"g:a,b,c\". FIll in the gaps in this function to do that."
   ]
  },
  {
   "cell_type": "code",
   "execution_count": 39,
   "id": "89bacd5f",
   "metadata": {
    "execution": {
     "iopub.execute_input": "2023-06-27T19:26:46.071443Z",
     "iopub.status.busy": "2023-06-27T19:26:46.069783Z",
     "iopub.status.idle": "2023-06-27T19:26:46.079248Z",
     "shell.execute_reply": "2023-06-27T19:26:46.077965Z"
    },
    "papermill": {
     "duration": 0.058227,
     "end_time": "2023-06-27T19:26:46.082123",
     "exception": false,
     "start_time": "2023-06-27T19:26:46.023896",
     "status": "completed"
    },
    "tags": []
   },
   "outputs": [
    {
     "name": "stdout",
     "output_type": "stream",
     "text": [
      "Marketing:Mike, Karen, Jake, Tasha\n",
      "Engineering:Kim, Jay, Tom\n",
      "Users:\n"
     ]
    }
   ],
   "source": [
    "def group_list(group, users):\n",
    "  members = users\n",
    "  #print(members)\n",
    "  #print(group + \":\" + \", \".join(members))\n",
    "  return group + \":\" + \", \".join(members)\n",
    "\n",
    "print(group_list(\"Marketing\", [\"Mike\", \"Karen\", \"Jake\", \"Tasha\"])) # Should be \"Marketing: Mike, Karen, Jake, Tasha\"\n",
    "print(group_list(\"Engineering\", [\"Kim\", \"Jay\", \"Tom\"])) # Should be \"Engineering: Kim, Jay, Tom\"\n",
    "print(group_list(\"Users\", \"\")) # Should be \"Users:\""
   ]
  },
  {
   "cell_type": "markdown",
   "id": "1ee17ca4",
   "metadata": {
    "papermill": {
     "duration": 0.048028,
     "end_time": "2023-06-27T19:26:46.175843",
     "exception": false,
     "start_time": "2023-06-27T19:26:46.127815",
     "status": "completed"
    },
    "tags": []
   },
   "source": [
    "6. The guest_list function reads in a list of tuples with the name, age, and profession of each party guest,  \n",
    "and prints the sentence \"Guest is X years old and works as ______\" for each one. For example,  \n",
    "guest_list('Ken',30,\"Chef\"), (\"Pat\",35,\"Lawyer\"),('Amanda',25,\"Engineer\")) should print out:   \n",
    "Ken is 30 years old and works as Chef. Pat is 35 years old and works as Lawyer. Amanda is 25 years old and    \n",
    "works as Engineer. Fill in the gaps in this function to do that."
   ]
  },
  {
   "cell_type": "code",
   "execution_count": 40,
   "id": "5b21ef8c",
   "metadata": {
    "execution": {
     "iopub.execute_input": "2023-06-27T19:26:46.267352Z",
     "iopub.status.busy": "2023-06-27T19:26:46.266109Z",
     "iopub.status.idle": "2023-06-27T19:26:46.277780Z",
     "shell.execute_reply": "2023-06-27T19:26:46.276538Z"
    },
    "papermill": {
     "duration": 0.059697,
     "end_time": "2023-06-27T19:26:46.280586",
     "exception": false,
     "start_time": "2023-06-27T19:26:46.220889",
     "status": "completed"
    },
    "tags": []
   },
   "outputs": [
    {
     "name": "stdout",
     "output_type": "stream",
     "text": [
      "Ken is 30 years old and works as Chef\n",
      "Pat is 35 years old and works as Lawyer\n",
      "Amanda is 25 years old and works as Engineer\n"
     ]
    },
    {
     "data": {
      "text/plain": [
       "'\\nOutput should match:\\nKen is 30 years old and works as Chef\\nPat is 35 years old and works as Lawyer\\nAmanda is 25 years old and works as Engineer\\n'"
      ]
     },
     "execution_count": 40,
     "metadata": {},
     "output_type": "execute_result"
    }
   ],
   "source": [
    "def guest_list(guests):\n",
    "    for guest in guests:\n",
    "        name, age, profession = guest  # unpack the guest list to variables\n",
    "        print(\"{} is {} years old and works as {}\".format(name, age, profession))\n",
    "\n",
    "guest_list([('Ken', 30, \"Chef\"), (\"Pat\", 35, 'Lawyer'), ('Amanda', 25, \"Engineer\")])\n",
    "\n",
    "#Click Run to submit code\n",
    "\"\"\"\n",
    "Output should match:\n",
    "Ken is 30 years old and works as Chef\n",
    "Pat is 35 years old and works as Lawyer\n",
    "Amanda is 25 years old and works as Engineer\n",
    "\"\"\""
   ]
  },
  {
   "cell_type": "markdown",
   "id": "eb4e4883",
   "metadata": {
    "papermill": {
     "duration": 0.045087,
     "end_time": "2023-06-27T19:26:46.370466",
     "exception": false,
     "start_time": "2023-06-27T19:26:46.325379",
     "status": "completed"
    },
    "tags": []
   },
   "source": [
    "## Dictionaries\n",
    "* animals = { \"bears\":10, \"lions\":1, \"tigers\":2 } \n",
    "* animals{\"bears\"]\n",
    "* animals[\"zebras\"] = 2\n",
    "* animals[\"bears\"] = 11\n",
    "* del animals[\"lions\"]\n",
    "\n",
    "* dictionary.items()\n",
    "* dictionary.keys()\n",
    "* dictionary.values()"
   ]
  },
  {
   "cell_type": "markdown",
   "id": "aae0196d",
   "metadata": {
    "papermill": {
     "duration": 0.045431,
     "end_time": "2023-06-27T19:26:46.464620",
     "exception": false,
     "start_time": "2023-06-27T19:26:46.419189",
     "status": "completed"
    },
    "tags": []
   },
   "source": [
    "### Knowledge   \n",
    "\n",
    "Operations\n",
    "len(dictionary) - Returns the number of items in a dictionary.\n",
    "for key, in dictionary - Iterates over each key in a dictionary.\n",
    "for key, value in dictionary.items() - Iterates over each key,value pair in a dictionary.\n",
    "if key in dictionary - Checks whether a key is in a dictionary.\n",
    "dictionary[key] - Accesses a value using the associated key from a dictionary.\n",
    "dictionary[key] = value - Sets a value associated with a key.\n",
    "del dictionary[key] - Removes a value using the associated key from a dictionary.\n",
    "\n",
    "Methods\n",
    "dictionary.get(key, default) - Returns the value corresponding to a key, or the default value if the specified key is not present.\n",
    "dictionary.keys() - Returns a sequence containing the keys in a dictionary.\n",
    "dictionary.values() - Returns a sequence containing the values in a dictionary.\n",
    "dictionary[key].append(value) - Appends a new value for an existing key.\n",
    "dictionary.update(other_dictionary) - Updates a dictionary with the items from another dictionary.      \n",
    "Existing entries are updated; new entries are added.\n",
    "dictionary.clear() - Deletes all items from a dictionary.\n",
    "dictionary.copy() - Makes a copy of a dictionary.\n"
   ]
  },
  {
   "cell_type": "code",
   "execution_count": 41,
   "id": "82644369",
   "metadata": {
    "execution": {
     "iopub.execute_input": "2023-06-27T19:26:46.562069Z",
     "iopub.status.busy": "2023-06-27T19:26:46.561682Z",
     "iopub.status.idle": "2023-06-27T19:26:46.569814Z",
     "shell.execute_reply": "2023-06-27T19:26:46.567920Z"
    },
    "papermill": {
     "duration": 0.0615,
     "end_time": "2023-06-27T19:26:46.573299",
     "exception": false,
     "start_time": "2023-06-27T19:26:46.511799",
     "status": "completed"
    },
    "tags": []
   },
   "outputs": [
    {
     "name": "stdout",
     "output_type": "stream",
     "text": [
      "octopuses have tentacles.\n",
      "dolphins have fins.\n",
      "rhinos have horns.\n"
     ]
    }
   ],
   "source": [
    "# simple dictionaries and iteration with key, value tuple\n",
    "cool_beasts = {\"octopuses\":\"tentacles\", \"dolphins\":\"fins\", \"rhinos\":\"horns\"}\n",
    "\n",
    "for key, value in cool_beasts.items():\n",
    "    print(\"{} have {}.\".format(key, value))\n"
   ]
  },
  {
   "cell_type": "code",
   "execution_count": 42,
   "id": "088f622f",
   "metadata": {
    "execution": {
     "iopub.execute_input": "2023-06-27T19:26:46.672839Z",
     "iopub.status.busy": "2023-06-27T19:26:46.672463Z",
     "iopub.status.idle": "2023-06-27T19:26:46.680947Z",
     "shell.execute_reply": "2023-06-27T19:26:46.679376Z"
    },
    "papermill": {
     "duration": 0.060418,
     "end_time": "2023-06-27T19:26:46.684222",
     "exception": false,
     "start_time": "2023-06-27T19:26:46.623804",
     "status": "completed"
    },
    "tags": []
   },
   "outputs": [
    {
     "name": "stdout",
     "output_type": "stream",
     "text": [
      "{'a': 5}\n",
      "{'t': 2, 'e': 1, 'n': 2, 'a': 1}\n",
      "{'a': 2, ' ': 7, 'l': 3, 'o': 3, 'n': 2, 'g': 2, 's': 2, 't': 5, 'r': 2, 'i': 2, 'w': 1, 'h': 1, 'f': 1, 'e': 2, '.': 1}\n"
     ]
    }
   ],
   "source": [
    "# keys are unique in dictionaries, great for counting elements!\n",
    "# Count each letter for the given text, and return a dictionary in 'letter': count format\n",
    "\n",
    "def count_letters(text):\n",
    "    result = {}  # empty dictionary for result\n",
    "    for letter in text:\n",
    "        if letter not in result:\n",
    "            result[letter] = 0  # if the letter not in the result dic, add letter:0 pair\n",
    "        result[letter] += 1     # if the letter exists in the result dic, update the value\n",
    "    return result\n",
    "\n",
    "print(count_letters(\"aaaaa\"))\n",
    "print(count_letters(\"tenant\"))        \n",
    "print(count_letters(\"a long string with a lot of letters.\"))"
   ]
  },
  {
   "cell_type": "markdown",
   "id": "f431b465",
   "metadata": {
    "papermill": {
     "duration": 0.046534,
     "end_time": "2023-06-27T19:26:46.779287",
     "exception": false,
     "start_time": "2023-06-27T19:26:46.732753",
     "status": "completed"
    },
    "tags": []
   },
   "source": [
    "**List vs. Dictionaries**\n",
    "\n",
    "**List**    \n",
    "Need a series of IP addresses to iterate over and ping each    \n",
    "ip_addresses = [\"192.168.0.1\", \"127.0.0.1\", \"8.8.8.8\"]\n",
    "\n",
    "**Dictionary**   \n",
    "You wnat to use dictionaries when you plan on searching for a specific element.   \n",
    "Need a pair of host name and ip address for a given task     \n",
    "host_addresses = { \"router: \"192.168.0.1\", \"localhost\":\"127.0.0.1\", \"google\":\"8.8.8.8\" }    \n",
    "Directory structure in a file system\n",
    "In IT, dictionary is the easiest way to organize data!!\n"
   ]
  },
  {
   "cell_type": "markdown",
   "id": "746879f6",
   "metadata": {
    "papermill": {
     "duration": 0.126457,
     "end_time": "2023-06-27T19:26:46.954209",
     "exception": false,
     "start_time": "2023-06-27T19:26:46.827752",
     "status": "completed"
    },
    "tags": []
   },
   "source": [
    "### Skill Group 1\n",
    "Iterate over the key and value pairs of a dictionary using a for loop   \n",
    "with the **dictionary.items()** method to calculate the sum of the values in a dictionary. "
   ]
  },
  {
   "cell_type": "code",
   "execution_count": 43,
   "id": "97962ba1",
   "metadata": {
    "execution": {
     "iopub.execute_input": "2023-06-27T19:26:47.055024Z",
     "iopub.status.busy": "2023-06-27T19:26:47.054643Z",
     "iopub.status.idle": "2023-06-27T19:26:47.062295Z",
     "shell.execute_reply": "2023-06-27T19:26:47.061354Z"
    },
    "papermill": {
     "duration": 0.060107,
     "end_time": "2023-06-27T19:26:47.064795",
     "exception": false,
     "start_time": "2023-06-27T19:26:47.004688",
     "status": "completed"
    },
    "tags": []
   },
   "outputs": [
    {
     "name": "stdout",
     "output_type": "stream",
     "text": [
      "20.1\n"
     ]
    }
   ],
   "source": [
    "# This function returns the total time, with minutes represented as \n",
    "# decimals (example: 1 hour 30 minutes = 1.5), for all end user time\n",
    "# spent accessing a server in a given day. \n",
    "\n",
    "\n",
    "def sum_server_use_time(Server):\n",
    "\n",
    "    # Initialize the variable as a float data type, which will be used\n",
    "    # to hold the sum of the total hours and minutes of server usage by\n",
    "    # end users in a day.\n",
    "    total_use_time = 0.0\n",
    "\n",
    "    # Iterate through the \"Server\" dictionary’s key and value items \n",
    "    # using a for loop.\n",
    "    for key,value in Server.items():\n",
    "\n",
    "        # For each end user key, add the associated time value to the\n",
    "        # total sum of all end user use time.\n",
    "        total_use_time += Server[key]\n",
    "        \n",
    "    # Round the return value and limit to 2 decimal places.\n",
    "    return round(total_use_time, 2)  \n",
    "\n",
    "FileServer = {\"EndUser1\": 2.25, \"EndUser2\": 4.5, \"EndUser3\": 1, \"EndUser4\": 3.75, \"EndUser5\": 0.6, \"EndUser6\": 8}\n",
    "\n",
    "print(sum_server_use_time(FileServer)) # Should print 20.1"
   ]
  },
  {
   "cell_type": "markdown",
   "id": "b3e2b3ab",
   "metadata": {
    "papermill": {
     "duration": 0.048248,
     "end_time": "2023-06-27T19:26:47.159606",
     "exception": false,
     "start_time": "2023-06-27T19:26:47.111358",
     "status": "completed"
    },
    "tags": []
   },
   "source": [
    "### Skill Group 2\n",
    "* Concatenate a value, a string, and the key for each item in the dictionary and append to    \n",
    "the end of a new list[ ] using the **list.append(x)** method.  \n",
    "* Iterate over keys with multiple values from a dictionary using nested     \n",
    " **for** loops with the dictionary.items() method."
   ]
  },
  {
   "cell_type": "code",
   "execution_count": 44,
   "id": "850acc92",
   "metadata": {
    "execution": {
     "iopub.execute_input": "2023-06-27T19:26:47.264435Z",
     "iopub.status.busy": "2023-06-27T19:26:47.263963Z",
     "iopub.status.idle": "2023-06-27T19:26:47.273601Z",
     "shell.execute_reply": "2023-06-27T19:26:47.272361Z"
    },
    "papermill": {
     "duration": 0.065496,
     "end_time": "2023-06-27T19:26:47.276722",
     "exception": false,
     "start_time": "2023-06-27T19:26:47.211226",
     "status": "completed"
    },
    "tags": []
   },
   "outputs": [
    {
     "name": "stdout",
     "output_type": "stream",
     "text": [
      "['Muhammad Ali', 'Amir Ali', 'Malik Ali', 'Ram Devi', 'Amaira Devi', 'Feng Chen', 'Li Chen']\n"
     ]
    }
   ],
   "source": [
    "# This function receives a dictionary, which contains common employee \n",
    "# last names as keys, and a list of employee first names as values. \n",
    "# The function generates a new list that contains each employees’ full\n",
    "# name (First_name Last_Name). For example, the key \"Garcia\" with the \n",
    "# values [\"Maria\", \"Hugo\", \"Lucia\"] should be converted to a list \n",
    "# that contains [\"Maria Garcia\", \"Hugo Garcia\", \"Lucia Garcia\"].\n",
    "\n",
    "\n",
    "def list_full_names(employee_dictionary):\n",
    "    # Initialize the \"full_names\" variable as a list data type using\n",
    "    # empty [] square brackets.  \n",
    "    full_names = []\n",
    "\n",
    "    # The outer for loop iterates through each \"last_name\" key and \n",
    "    # associated \"first_name\" values, in the \"employee_dictionary\" items.\n",
    "    for last_name, first_names in employee_dictionary.items():\n",
    "\n",
    "        # The inner for loop iterates over each \"first_name\" value in \n",
    "        # the list of \"first_names\" for one \"last_name\" key at a time.\n",
    "        for first_name in first_names:\n",
    "\n",
    "            # Append the new \"full_names\" list with the \"first_name\" value\n",
    "            # concatenated with a space \" \", and the key \"last_name\". \n",
    "            full_names.append(first_name+\" \"+last_name)\n",
    "            \n",
    "    # Return the new \"full_names\" list once the outer for loop has \n",
    "    # completed all iterations. \n",
    "    return(full_names)\n",
    "\n",
    "\n",
    "print(list_full_names({\"Ali\": [\"Muhammad\", \"Amir\", \"Malik\"], \"Devi\": [\"Ram\", \"Amaira\"], \"Chen\": [\"Feng\", \"Li\"]}))\n",
    "# Should print ['Muhammad Ali', 'Amir Ali', 'Malik Ali', 'Ram Devi', 'Amaira Devi', 'Feng Chen', 'Li Chen']\n"
   ]
  },
  {
   "cell_type": "markdown",
   "id": "5c1bdd78",
   "metadata": {
    "papermill": {
     "duration": 0.048437,
     "end_time": "2023-06-27T19:26:47.374975",
     "exception": false,
     "start_time": "2023-06-27T19:26:47.326538",
     "status": "completed"
    },
    "tags": []
   },
   "source": [
    "### Skill Group 3\n",
    "* Use the **dictionary[key] = value** operation to associate a value with a key in a dictionary.   \n",
    "* Iterate over keys with multiple values from a dictionary, using nested for loops and an if-statement, and the **dictionary.items()** method.\n",
    "* Use the **dictionary[key].append(value)** method to add the key, a string, and the key for each item in the dictionary."
   ]
  },
  {
   "cell_type": "code",
   "execution_count": 45,
   "id": "91fef32e",
   "metadata": {
    "execution": {
     "iopub.execute_input": "2023-06-27T19:26:47.479942Z",
     "iopub.status.busy": "2023-06-27T19:26:47.479384Z",
     "iopub.status.idle": "2023-06-27T19:26:47.490458Z",
     "shell.execute_reply": "2023-06-27T19:26:47.489186Z"
    },
    "papermill": {
     "duration": 0.066753,
     "end_time": "2023-06-27T19:26:47.493083",
     "exception": false,
     "start_time": "2023-06-27T19:26:47.426330",
     "status": "completed"
    },
    "tags": []
   },
   "outputs": [
    {
     "name": "stdout",
     "output_type": "stream",
     "text": [
      "{'IDE HDDs': ['Hard Drives', 'PC Parts'], 'SCSI HDDs': ['Hard Drives', 'PC Parts'], 'High-end video cards': ['PC Parts', 'Video Cards'], 'Basic video cards': ['PC Parts', 'Video Cards']}\n"
     ]
    }
   ],
   "source": [
    "# This function receives a dictionary, which contains resource \n",
    "# categories (keys) with a list of available resources (values) for a \n",
    "# company’s IT Department. The resources belong to multiple categories.\n",
    "# The function should reverse the keys and values to show which \n",
    "# categories (values) each resource (key) belongs to. \n",
    "\n",
    "\n",
    "def invert_resource_dict(resource_dictionary):\n",
    "  # Initialize a \"new_dictionary\" variable as a dict data type using\n",
    "  # empty {} curly brackets. \n",
    "    new_dictionary = {}\n",
    "    # The outer for loop iterates through each \"resource_group\" and \n",
    "    # associated \"resources\" in the \"resource_dictionary\" items.\n",
    "    for resource_group, resources in resource_dictionary.items():\n",
    "        # The inner for loop iterates over each \"resource\" value in \n",
    "        # the list of \"resources\" for one \"resource_group\" key at a time.\n",
    "        for resource in resources:\n",
    "            # The if-statement checks if the current \"resource\" value has \n",
    "            # been appended as a key to the \"new_dictionary\" yet.\n",
    "            if resource in new_dictionary:\n",
    "                # If True, then append the \"resource_group\" as a value to the\n",
    "                # \"resource\", which is now the key.\n",
    "                new_dictionary[resource].append(resource_group)\n",
    "            # If False (else), then add the \"resource\" as a new key with the \n",
    "            # \"resource_group\" as a value for that key.\n",
    "            else:\n",
    "                new_dictionary[resource] = [resource_group]\n",
    "    # Return the new dictionary once the outer for loop has completed  \n",
    "    # all iterations.\n",
    "    return(new_dictionary)\n",
    "\n",
    "\n",
    "print(invert_resource_dict({\"Hard Drives\": [\"IDE HDDs\", \"SCSI HDDs\"],\n",
    "        \"PC Parts\":  [\"IDE HDDs\", \"SCSI HDDs\", \"High-end video cards\", \"Basic video cards\"], \"Video Cards\": [\"High-end video cards\", \"Basic video cards\"]}))\n",
    "# Should print {'IDE HDDs': ['Hard Drives', 'PC Parts'], 'SCSI HDDs': ['Hard Drives', 'PC Parts'], 'High-end video cards': ['PC Parts', 'Video Cards'], 'Basic video cards': ['PC Parts', 'Video Cards']}\n"
   ]
  },
  {
   "cell_type": "markdown",
   "id": "de093bb8",
   "metadata": {
    "papermill": {
     "duration": 0.046657,
     "end_time": "2023-06-27T19:26:47.588685",
     "exception": false,
     "start_time": "2023-06-27T19:26:47.542028",
     "status": "completed"
    },
    "tags": []
   },
   "source": [
    "## Practice Quiz Dictionaries"
   ]
  },
  {
   "cell_type": "markdown",
   "id": "64815f65",
   "metadata": {
    "papermill": {
     "duration": 0.04619,
     "end_time": "2023-06-27T19:26:47.681246",
     "exception": false,
     "start_time": "2023-06-27T19:26:47.635056",
     "status": "completed"
    },
    "tags": []
   },
   "source": [
    "1. The email_list function receives a dictionary, which contains domain names as keys, and a list    \n",
    "of users as values. Fill in the blanks to generate a list that contatins complete email addresses   \n",
    "(e.g. diana.prince@gmail.com)"
   ]
  },
  {
   "cell_type": "code",
   "execution_count": 46,
   "id": "6f1270af",
   "metadata": {
    "execution": {
     "iopub.execute_input": "2023-06-27T19:26:47.780396Z",
     "iopub.status.busy": "2023-06-27T19:26:47.779965Z",
     "iopub.status.idle": "2023-06-27T19:26:47.787408Z",
     "shell.execute_reply": "2023-06-27T19:26:47.786185Z"
    },
    "papermill": {
     "duration": 0.06087,
     "end_time": "2023-06-27T19:26:47.790470",
     "exception": false,
     "start_time": "2023-06-27T19:26:47.729600",
     "status": "completed"
    },
    "tags": []
   },
   "outputs": [
    {
     "name": "stdout",
     "output_type": "stream",
     "text": [
      "['clark.kent@gmail.com', 'diana.prince@gmail.com', 'peter.parker@gmail.com', 'barbara.gordon@yahoo.com', 'jean.grey@yahoo.com', 'bruce.wayne@hotmail.com']\n"
     ]
    }
   ],
   "source": [
    "def email_list(domains):\n",
    "    emails = []\n",
    "    for domain, users in domains.items():\n",
    "        for user in users:\n",
    "            emails.append(user + \"@\" + domain)\n",
    "    return(emails)\n",
    "\n",
    "print(email_list({\"gmail.com\": [\"clark.kent\", \"diana.prince\", \"peter.parker\"], \"yahoo.com\": [\"barbara.gordon\", \"jean.grey\"], \"hotmail.com\": [\"bruce.wayne\"]}))\n"
   ]
  },
  {
   "cell_type": "markdown",
   "id": "85670d05",
   "metadata": {
    "papermill": {
     "duration": 0.044412,
     "end_time": "2023-06-27T19:26:47.882826",
     "exception": false,
     "start_time": "2023-06-27T19:26:47.838414",
     "status": "completed"
    },
    "tags": []
   },
   "source": [
    "2. Th**e groups_per_user** function receives a dictionary, which contains group names with the list of users.   \n",
    "Users can belong to multiple groups. Fill in the blanks to return a dictionary with the users as   \n",
    "keys and a list of their groups as values."
   ]
  },
  {
   "cell_type": "code",
   "execution_count": 47,
   "id": "640d4948",
   "metadata": {
    "execution": {
     "iopub.execute_input": "2023-06-27T19:26:47.982525Z",
     "iopub.status.busy": "2023-06-27T19:26:47.982109Z",
     "iopub.status.idle": "2023-06-27T19:26:47.991234Z",
     "shell.execute_reply": "2023-06-27T19:26:47.989579Z"
    },
    "papermill": {
     "duration": 0.064705,
     "end_time": "2023-06-27T19:26:47.995092",
     "exception": false,
     "start_time": "2023-06-27T19:26:47.930387",
     "status": "completed"
    },
    "tags": []
   },
   "outputs": [
    {
     "name": "stdout",
     "output_type": "stream",
     "text": [
      "{'admin': ['local', 'public', 'administrator'], 'userA': ['local'], 'userB': ['public']}\n"
     ]
    }
   ],
   "source": [
    "def groups_per_user(group_dictionary):\n",
    "    user_groups = {}  # Invert dictionary to return\n",
    "    # Go through group_dictionary\n",
    "    for group, users in group_dictionary.items():\n",
    "    # Now go through the users in the group\n",
    "        for user in users:\n",
    "            # Now add the group to the the list of\n",
    "            # groups for this user, creating the entry\n",
    "            # in the dictionary if necessary\n",
    "            if user in user_groups:\n",
    "                user_groups[user].append(group) # add group value to the exisiting user key\t\n",
    "            else:\n",
    "                user_groups[user] = [group] # create a new user:group entry\n",
    "\n",
    "    return(user_groups)\n",
    "\n",
    "print(groups_per_user({\"local\": [\"admin\", \"userA\"], \"public\":  [\"admin\", \"userB\"], \"administrator\": [\"admin\"] }))"
   ]
  },
  {
   "cell_type": "code",
   "execution_count": 48,
   "id": "f1c6fa85",
   "metadata": {
    "execution": {
     "iopub.execute_input": "2023-06-27T19:26:48.099393Z",
     "iopub.status.busy": "2023-06-27T19:26:48.098414Z",
     "iopub.status.idle": "2023-06-27T19:26:48.106515Z",
     "shell.execute_reply": "2023-06-27T19:26:48.105213Z"
    },
    "papermill": {
     "duration": 0.066526,
     "end_time": "2023-06-27T19:26:48.109599",
     "exception": false,
     "start_time": "2023-06-27T19:26:48.043073",
     "status": "completed"
    },
    "tags": []
   },
   "outputs": [
    {
     "name": "stdout",
     "output_type": "stream",
     "text": [
      "{'shirt': ['red', 'blue', 'white'], 'jeans': ['white'], 'scarf': ['yellow'], 'socks': ['black', 'brown']}\n"
     ]
    }
   ],
   "source": [
    "# dictionary update\n",
    "\n",
    "wardrobe = {'shirt': ['red', 'blue', 'white'], 'jeans': ['blue', 'black']}\n",
    "new_items = {'jeans': ['white'], 'scarf': ['yellow'], 'socks': ['black', 'brown']}\n",
    "wardrobe.update(new_items)\n",
    "\n",
    "print(wardrobe)"
   ]
  },
  {
   "cell_type": "markdown",
   "id": "524ca94b",
   "metadata": {
    "papermill": {
     "duration": 0.047083,
     "end_time": "2023-06-27T19:26:48.205288",
     "exception": false,
     "start_time": "2023-06-27T19:26:48.158205",
     "status": "completed"
    },
    "tags": []
   },
   "source": [
    "5. The add_prices function returns the total price of all of the groceries in the dictionary.  \n",
    "Fill in the blanks to complete this function"
   ]
  },
  {
   "cell_type": "code",
   "execution_count": 49,
   "id": "d9019890",
   "metadata": {
    "execution": {
     "iopub.execute_input": "2023-06-27T19:26:48.303237Z",
     "iopub.status.busy": "2023-06-27T19:26:48.302861Z",
     "iopub.status.idle": "2023-06-27T19:26:48.311782Z",
     "shell.execute_reply": "2023-06-27T19:26:48.310553Z"
    },
    "papermill": {
     "duration": 0.060459,
     "end_time": "2023-06-27T19:26:48.314217",
     "exception": false,
     "start_time": "2023-06-27T19:26:48.253758",
     "status": "completed"
    },
    "tags": []
   },
   "outputs": [
    {
     "name": "stdout",
     "output_type": "stream",
     "text": [
      "28.44\n"
     ]
    }
   ],
   "source": [
    "def add_prices(basket):\n",
    "    # Initialize the variable that will be used for the calculation\n",
    "    total = 0\n",
    "    \n",
    "    # Iterate through the dictionary items\n",
    "    for value in basket.values():\n",
    "        # Add each price to the total calculation\n",
    "        # Hint: how do you access the values of\n",
    "        # dictionary items?\n",
    "        total += value\n",
    "    # Limit the return value to 2 decimal places\n",
    "    return round(total, 2)  \n",
    "\n",
    "groceries = {\"bananas\": 1.56, \"apples\": 2.50, \"oranges\": 0.99, \"bread\": 4.59, \n",
    "    \"coffee\": 6.99, \"milk\": 3.39, \"eggs\": 2.98, \"cheese\": 5.44}\n",
    "\n",
    "print(add_prices(groceries)) # Should print 28.44\n"
   ]
  },
  {
   "cell_type": "markdown",
   "id": "7ef48b8c",
   "metadata": {
    "papermill": {
     "duration": 0.050468,
     "end_time": "2023-06-27T19:26:48.412426",
     "exception": false,
     "start_time": "2023-06-27T19:26:48.361958",
     "status": "completed"
    },
    "tags": []
   },
   "source": [
    "## Week 4 Graded Quiz - Strings, Lists, Dictionary\n",
    "### Knowledge:\n",
    "* How to output a list of the keys in a Python dictionary. \n",
    "* How to determine the output of a string index range used on a string.\n",
    "* Determine what a list should contain after the .insert() method is used on the list.\n",
    "* How to replace a specific word in a sentence with the same word in all uppercase letters.\n",
    "* How to use a dictionary to count the frequency of letters in a string.  \n",
    "\n",
    "**Operations, Methods, and Functions**   \n",
    "\n",
    "**String Methods, Operations, and Functions**   \n",
    "\n",
    ".upper()\n",
    ".lower()\n",
    ".split()\n",
    ".format()\n",
    ".isnumeric()\n",
    ".isalpha()\n",
    ".replace()\n",
    "string index [ ]\n",
    "len()\n",
    "\n",
    "**List Operations and Methods**    \n",
    "\n",
    ".reverse()\n",
    ".extend()\n",
    ".insert()\n",
    ".append()\n",
    ".remove()\n",
    ".sort()\n",
    "list comprehensions [ ]\n",
    "list comprehensions [ ] with if condition\n",
    "\n",
    "**Dictionary Operations and Methods**     \n",
    "\n",
    ".items()\n",
    ".update()\n",
    ".keys()\n",
    ".values()\n",
    ".copy()\n",
    "dictionary[key]\n",
    "dictionary[key] = value "
   ]
  },
  {
   "cell_type": "markdown",
   "id": "4c90a80e",
   "metadata": {
    "papermill": {
     "duration": 0.048466,
     "end_time": "2023-06-27T19:26:48.506540",
     "exception": false,
     "start_time": "2023-06-27T19:26:48.458074",
     "status": "completed"
    },
    "tags": []
   },
   "source": [
    "### Coding Skills 1 - 4"
   ]
  },
  {
   "cell_type": "code",
   "execution_count": 50,
   "id": "f17038d6",
   "metadata": {
    "execution": {
     "iopub.execute_input": "2023-06-27T19:26:48.603847Z",
     "iopub.status.busy": "2023-06-27T19:26:48.602540Z",
     "iopub.status.idle": "2023-06-27T19:26:48.611723Z",
     "shell.execute_reply": "2023-06-27T19:26:48.610427Z"
    },
    "papermill": {
     "duration": 0.059335,
     "end_time": "2023-06-27T19:26:48.614619",
     "exception": false,
     "start_time": "2023-06-27T19:26:48.555284",
     "status": "completed"
    },
    "tags": []
   },
   "outputs": [
    {
     "name": "stdout",
     "output_type": "stream",
     "text": [
      "Winter fleece jackets are on sale for $49.99\n"
     ]
    }
   ],
   "source": [
    "# Skill 1\n",
    "\n",
    "# Using string method\n",
    "# Separate numerical values from text values in a string using .split(). \n",
    "# Iterate over the elements in a string.\n",
    "# Test if the element contains letters with .isalpha().\n",
    "# Assign the elements of the split string to new variables.\n",
    "# Trim any extra white space using .strip().\n",
    "# Format a string using .format() and { } variable placeholders.\n",
    "\n",
    "def sales_prices(item_and_price):\n",
    "    # Initialize variables \"item\" and \"price\" as strings\n",
    "    item = \"\"\n",
    "    price = \"\"\n",
    "    # Create a variable \"item_or_price\" to hold the result of the split.\n",
    "    item_or_price = item_and_price.split()\n",
    "    \n",
    "    # For each element \"x\" in the split varialbe \"item_or_price\"\n",
    "    for x in item_or_price:\n",
    "        # Check of the element is a number\n",
    "        if x.isalpha():\n",
    "            item += x + \" \"\n",
    "        else:\n",
    "            price = x\n",
    "    \n",
    "    # Strip the extra space to the right of the last \"item\" word\n",
    "    item = item.strip()\n",
    "    \n",
    "    # Return the item name and price formatted in the requested sentence\n",
    "    return \"{} are on sale for ${}\".format(item, price)\n",
    "    \n",
    "    return\n",
    "\n",
    "# Call to the function\n",
    "print(sales_prices(\"Winter fleece jackets 49.99\"))\n",
    "# Should print \"Winter fleece jackets are on sale for $49.99\"\n"
   ]
  },
  {
   "cell_type": "code",
   "execution_count": 51,
   "id": "d4d37a7a",
   "metadata": {
    "execution": {
     "iopub.execute_input": "2023-06-27T19:26:48.711697Z",
     "iopub.status.busy": "2023-06-27T19:26:48.710297Z",
     "iopub.status.idle": "2023-06-27T19:26:48.718984Z",
     "shell.execute_reply": "2023-06-27T19:26:48.717759Z"
    },
    "papermill": {
     "duration": 0.060126,
     "end_time": "2023-06-27T19:26:48.721673",
     "exception": false,
     "start_time": "2023-06-27T19:26:48.661547",
     "status": "completed"
    },
    "tags": []
   },
   "outputs": [
    {
     "data": {
      "text/plain": [
       "9"
      ]
     },
     "execution_count": 51,
     "metadata": {},
     "output_type": "execute_result"
    }
   ],
   "source": [
    "# Use len() to measure a string\n",
    "# Accept string and return the number of words in the string\n",
    "\n",
    "def count_words(data_field):\n",
    "    return len(data_field.split())\n",
    "\n",
    "# call to the function\n",
    "count_words(\"Catalog item 3523: Organic raw pumpkin seeds in shell\")\n",
    "# Should print 9"
   ]
  },
  {
   "cell_type": "code",
   "execution_count": 52,
   "id": "84720c62",
   "metadata": {
    "execution": {
     "iopub.execute_input": "2023-06-27T19:26:48.817986Z",
     "iopub.status.busy": "2023-06-27T19:26:48.817581Z",
     "iopub.status.idle": "2023-06-27T19:26:48.825951Z",
     "shell.execute_reply": "2023-06-27T19:26:48.824718Z"
    },
    "papermill": {
     "duration": 0.060724,
     "end_time": "2023-06-27T19:26:48.828884",
     "exception": false,
     "start_time": "2023-06-27T19:26:48.768160",
     "status": "completed"
    },
    "tags": []
   },
   "outputs": [
    {
     "name": "stdout",
     "output_type": "stream",
     "text": [
      "[2006, 2011, 2018, 2022]\n",
      "[1989, 1992, 1997, 2001, 2006, 2011, 2018, 2022]\n"
     ]
    }
   ],
   "source": [
    "# Skill 2\n",
    "\n",
    "# Reverse the order of list using .reverse()\n",
    "# Combine two lists using .extend() method\n",
    "\n",
    "# This function accepts two variables, each containing a list of years.\n",
    "# A current \"recent_first\" list contains [2022, 2018, 2011, 2006].\n",
    "# An older \"recent_last\" list contains [1989, 1992, 1997, 2001].\n",
    "# The lists need to be combined with the years in chronological order.\n",
    "\n",
    "def record_profit_years(recent_first, recent_last):\n",
    "    # To create a single chrnological order\n",
    "    # Reverse the recent_first\n",
    "    recent_first.reverse()\n",
    "    print(recent_first)\n",
    "    \n",
    "    # Extende the recent_last by appending recent_first (the reordered list) \n",
    "    recent_last.extend(recent_first)\n",
    "    \n",
    "    return recent_last\n",
    "    \n",
    "    \n",
    "# Assign the two lists to the variables to be passed to the \n",
    "# record_profit_years() function\n",
    "recent_first = [2022, 2018, 2011, 2006]\n",
    "recent_last = [1989, 1992, 1997, 2001]\n",
    "\n",
    "# Call the record_profit_years() function and pass the two lists\n",
    "print(record_profit_years(recent_first, recent_last))\n",
    "# Should print [1989, 1992, 1997, 2001, 2006, 2011, 2018, 2022]"
   ]
  },
  {
   "cell_type": "code",
   "execution_count": 53,
   "id": "f79bec6b",
   "metadata": {
    "execution": {
     "iopub.execute_input": "2023-06-27T19:26:48.927808Z",
     "iopub.status.busy": "2023-06-27T19:26:48.927352Z",
     "iopub.status.idle": "2023-06-27T19:26:48.935163Z",
     "shell.execute_reply": "2023-06-27T19:26:48.933808Z"
    },
    "papermill": {
     "duration": 0.059017,
     "end_time": "2023-06-27T19:26:48.937725",
     "exception": false,
     "start_time": "2023-06-27T19:26:48.878708",
     "status": "completed"
    },
    "tags": []
   },
   "outputs": [
    {
     "name": "stdout",
     "output_type": "stream",
     "text": [
      "[1972, 1973, 1974, 1975]\n"
     ]
    }
   ],
   "source": [
    "# Skill 3 - Using a list comprehension\n",
    "\n",
    "# Use a list comprehension [ ] as a shortcut for creating a new list from a range.\n",
    "# Include a calculation with a for loop in a range with 2 parameters (lower, upper+1). \n",
    "\n",
    "# The function accepts two parameters: a start year and an end year\n",
    "def list_years(start, end):\n",
    "    return [year for year in range(start, end+1)]\n",
    "\n",
    "# Call the list_years() with two parameters\n",
    "print(list_years(1972, 1975))\n",
    "# Should print [1972, 1973, 1974, 1975]"
   ]
  },
  {
   "cell_type": "code",
   "execution_count": 54,
   "id": "c3745b9b",
   "metadata": {
    "execution": {
     "iopub.execute_input": "2023-06-27T19:26:49.037142Z",
     "iopub.status.busy": "2023-06-27T19:26:49.036742Z",
     "iopub.status.idle": "2023-06-27T19:26:49.043245Z",
     "shell.execute_reply": "2023-06-27T19:26:49.041975Z"
    },
    "papermill": {
     "duration": 0.059411,
     "end_time": "2023-06-27T19:26:49.046175",
     "exception": false,
     "start_time": "2023-06-27T19:26:48.986764",
     "status": "completed"
    },
    "tags": []
   },
   "outputs": [
    {
     "name": "stdout",
     "output_type": "stream",
     "text": [
      "[5, 7, 9, 11, 13]\n"
     ]
    }
   ],
   "source": [
    "# Use a list comprehesion with for loop with if condition\n",
    "# Accept two integers x, y and return all odd numbers between x and y-1\n",
    "\n",
    "def odd_numbers(x, y):\n",
    "    return [ num for num in range(x, y) if num % 2 != 0 ]\n",
    "\n",
    "# Call the odd_numbers() with two parameters\n",
    "print(odd_numbers(5, 15))\n",
    "# Should print [5, 7, 9, 11, 13]"
   ]
  },
  {
   "cell_type": "code",
   "execution_count": 55,
   "id": "5c6dba02",
   "metadata": {
    "execution": {
     "iopub.execute_input": "2023-06-27T19:26:49.144314Z",
     "iopub.status.busy": "2023-06-27T19:26:49.143053Z",
     "iopub.status.idle": "2023-06-27T19:26:49.151959Z",
     "shell.execute_reply": "2023-06-27T19:26:49.150587Z"
    },
    "papermill": {
     "duration": 0.06233,
     "end_time": "2023-06-27T19:26:49.155711",
     "exception": false,
     "start_time": "2023-06-27T19:26:49.093381",
     "status": "completed"
    },
    "tags": []
   },
   "outputs": [
    {
     "name": "stdout",
     "output_type": "stream",
     "text": [
      "The IP address of the Domain Name Server server is 8.8.8.8\n",
      "The IP address of the Gateway Server server is 192.168.1.1\n",
      "The IP address of the Print Server server is 192.168.1.33\n",
      "The IP address of the Mail Server server is 192.168.1.190\n",
      "\n"
     ]
    }
   ],
   "source": [
    "# Skill 4 - Using dictionary methods\n",
    "\n",
    "# Iterate through the keys and values of a dictionary.\n",
    "# Return the keys and values in a formatted string using the .format() function.\n",
    "\n",
    "# The network() function accepts a dictionary of servers\n",
    "def network(servers):\n",
    "    \n",
    "    server_ip_desc = \"\"\n",
    "    \n",
    "    for server, ip_addr in servers.items():\n",
    "        server_ip_desc += \"The IP address of the {} server is {}\".format(server, ip_addr) + \"\\n\"\n",
    "    \n",
    "    return server_ip_desc\n",
    "\n",
    "# Call the network funciton with the dictionary of server:ip\n",
    "print(network({\"Domain Name Server\":\"8.8.8.8\", \"Gateway Server\":\"192.168.1.1\", \"Print Server\":\"192.168.1.33\", \"Mail Server\":\"192.168.1.190\"}))\n",
    "\n",
    "# Should print:\n",
    "# The IP address of the Domain Name Server server is 8.8.8.8\n",
    "# The IP address of the Gateway Server server is 192.168.1.1\n",
    "# The IP address of the Print Server server is 192.168.1.33\n",
    "# The IP address of the Mail Server server is 192.168.1.190\n"
   ]
  },
  {
   "cell_type": "code",
   "execution_count": 56,
   "id": "661b6b9c",
   "metadata": {
    "execution": {
     "iopub.execute_input": "2023-06-27T19:26:49.261220Z",
     "iopub.status.busy": "2023-06-27T19:26:49.260828Z",
     "iopub.status.idle": "2023-06-27T19:26:49.269605Z",
     "shell.execute_reply": "2023-06-27T19:26:49.267838Z"
    },
    "papermill": {
     "duration": 0.066827,
     "end_time": "2023-06-27T19:26:49.272595",
     "exception": false,
     "start_time": "2023-06-27T19:26:49.205768",
     "status": "completed"
    },
    "tags": []
   },
   "outputs": [
    {
     "name": "stdout",
     "output_type": "stream",
     "text": [
      "{'Arshi': 0, 'Catalina': 0, 'Diego': 0}\n"
     ]
    }
   ],
   "source": [
    "# Create a copy of a dictionary.\n",
    "# Iterate through the values of the new dictionary.\n",
    "# Change each value in the new dictionary, while keeping the same keys. \n",
    "\n",
    "# The scores() function accepts a dictionary \"game_scores\" as a parameter.\n",
    "\n",
    "def reset_scores(game_scores):\n",
    "    new_game_scores = game_scores.copy()\n",
    "    for player, score in new_game_scores.items():\n",
    "        \n",
    "        new_game_scores[player] = 0 # reset the score to 0\n",
    "        \n",
    "    return new_game_scores\n",
    "\n",
    "# Define a dictionary to be passed to the function\n",
    "game_scores = {\"Arshi\": 3, \"Catalina\": 7, \"Diego\": 6}\n",
    "# Call the \"reset_scores\" function with the \"game_scores\" dictionary\n",
    "print(reset_scores(game_scores))\n",
    "# Should print {'Arshi': 0, 'Catalina': 0, 'Diego': 0}"
   ]
  },
  {
   "cell_type": "markdown",
   "id": "2378fe8f",
   "metadata": {
    "papermill": {
     "duration": 0.045709,
     "end_time": "2023-06-27T19:26:49.364993",
     "exception": false,
     "start_time": "2023-06-27T19:26:49.319284",
     "status": "completed"
    },
    "tags": []
   },
   "source": [
    "## Graded Quiz: Week 4"
   ]
  },
  {
   "cell_type": "markdown",
   "id": "847a2cb2",
   "metadata": {
    "papermill": {
     "duration": 0.047139,
     "end_time": "2023-06-27T19:26:49.459989",
     "exception": false,
     "start_time": "2023-06-27T19:26:49.412850",
     "status": "completed"
    },
    "tags": []
   },
   "source": [
    "### 1.The format of the input variable \"address_string\" is: numeric house number, followed by the street name which may contain numbers and could be several words long (e.g., \"123 Main Street\", \"10011st Ave\", or \"55 North Center Drive\").Complete the string methods needed in this function so that input like \"123 Main Street\" will produce the output \"House number 123 on a street named Main Street\". This function should: \n",
    "1. accept a string through the parameters of the function; \n",
    "1. separate the address string into new strings: house_number and street_name; \n",
    "1. return the variables in the string format: \"House number X on a street named Y\"."
   ]
  },
  {
   "cell_type": "code",
   "execution_count": 57,
   "id": "7502f301",
   "metadata": {
    "execution": {
     "iopub.execute_input": "2023-06-27T19:26:49.561492Z",
     "iopub.status.busy": "2023-06-27T19:26:49.561038Z",
     "iopub.status.idle": "2023-06-27T19:26:49.568338Z",
     "shell.execute_reply": "2023-06-27T19:26:49.567032Z"
    },
    "papermill": {
     "duration": 0.060499,
     "end_time": "2023-06-27T19:26:49.570817",
     "exception": false,
     "start_time": "2023-06-27T19:26:49.510318",
     "status": "completed"
    },
    "tags": []
   },
   "outputs": [
    {
     "name": "stdout",
     "output_type": "stream",
     "text": [
      "[15, 9, 8, 4, 2, 0]\n"
     ]
    }
   ],
   "source": [
    "# function to return the count of alphanumeri \n",
    "\n",
    "def sort_distance(distances):\n",
    "    distances.sort() # Sort the list\n",
    "    distances.reverse() # Reverse the order of the list\n",
    "    return distances\n",
    "\n",
    "print(sort_distance([2,4,0,15,8,9]))\n",
    "# Should print [15, 9, 8, 4, 2, 0]"
   ]
  },
  {
   "cell_type": "code",
   "execution_count": 58,
   "id": "9c789a8f",
   "metadata": {
    "execution": {
     "iopub.execute_input": "2023-06-27T19:26:49.676082Z",
     "iopub.status.busy": "2023-06-27T19:26:49.674788Z",
     "iopub.status.idle": "2023-06-27T19:26:49.684828Z",
     "shell.execute_reply": "2023-06-27T19:26:49.683145Z"
    },
    "papermill": {
     "duration": 0.067223,
     "end_time": "2023-06-27T19:26:49.687724",
     "exception": false,
     "start_time": "2023-06-27T19:26:49.620501",
     "status": "completed"
    },
    "tags": []
   },
   "outputs": [
    {
     "name": "stdout",
     "output_type": "stream",
     "text": [
      "House number 123 on a street named Main Street\n",
      "House number 1001 on a street named 1st Ave\n",
      "House number 55 on a street named North Center Drive\n"
     ]
    }
   ],
   "source": [
    "# function to return a string of addresses in specific format, from agiven address string \n",
    "def format_address(address_string):\n",
    "\n",
    "\n",
    "    house_number = \"\"\n",
    "    street_name = \"\"\n",
    "\n",
    "\n",
    "    # Separate the house number from the street name.\n",
    "    address_parts = address_string.split()\n",
    "    \n",
    "    for address_part in address_parts:\n",
    "       # Complete the if-statement with a string method.  \n",
    "       if address_part.isnumeric():\n",
    "         house_number = address_part\n",
    "       else:\n",
    "         street_name += address_part + \" \"\n",
    "    # Remove the extra space at the end of the last \"street_name\".\n",
    "    street_name = street_name.strip()\n",
    " \n",
    "    # Use a string method to return the required formatted string.\n",
    "    return \"House number {} on a street named {}\".format(house_number, street_name)\n",
    "\n",
    "\n",
    "print(format_address(\"123 Main Street\"))\n",
    "# Should print: \"House number 123 on a street named Main Street\"\n",
    "\n",
    "\n",
    "print(format_address(\"1001 1st Ave\"))\n",
    "# Should print: \"House number 1001 on a street named 1st Ave\"\n",
    "\n",
    "\n",
    "print(format_address(\"55 North Center Drive\"))\n",
    "# Should print \"House number 55 on a street named North Center Drive\"\n"
   ]
  },
  {
   "cell_type": "code",
   "execution_count": 59,
   "id": "3a634e74",
   "metadata": {
    "execution": {
     "iopub.execute_input": "2023-06-27T19:26:49.788335Z",
     "iopub.status.busy": "2023-06-27T19:26:49.787799Z",
     "iopub.status.idle": "2023-06-27T19:26:49.795907Z",
     "shell.execute_reply": "2023-06-27T19:26:49.794602Z"
    },
    "papermill": {
     "duration": 0.061705,
     "end_time": "2023-06-27T19:26:49.798565",
     "exception": false,
     "start_time": "2023-06-27T19:26:49.736860",
     "status": "completed"
    },
    "tags": []
   },
   "outputs": [
    {
     "name": "stdout",
     "output_type": "stream",
     "text": [
      "[4, 9]\n",
      "[1, 4, 9, 16, 25]\n",
      "[0, 1, 4, 9, 16, 25, 36, 49, 64, 81, 100]\n"
     ]
    }
   ],
   "source": [
    "# Return a list of squared numbers between two numbers (inclusive)\n",
    "def squares(start, end):\n",
    "    return [ n**2 for n in range(start, end+1) ] # Create the required list comprehension.\n",
    "\n",
    "\n",
    "print(squares(2, 3)) # Should print [4, 9]\n",
    "print(squares(1, 5)) # Should print [1, 4, 9, 16, 25]\n",
    "print(squares(0, 10)) # Should print [0, 1, 4, 9, 16, 25, 36, 49, 64, 81, 100]"
   ]
  },
  {
   "cell_type": "code",
   "execution_count": 60,
   "id": "c6feb3a3",
   "metadata": {
    "execution": {
     "iopub.execute_input": "2023-06-27T19:26:49.897998Z",
     "iopub.status.busy": "2023-06-27T19:26:49.897544Z",
     "iopub.status.idle": "2023-06-27T19:26:49.906985Z",
     "shell.execute_reply": "2023-06-27T19:26:49.905676Z"
    },
    "papermill": {
     "duration": 0.06298,
     "end_time": "2023-06-27T19:26:49.909732",
     "exception": false,
     "start_time": "2023-06-27T19:26:49.846752",
     "status": "completed"
    },
    "tags": []
   },
   "outputs": [
    {
     "name": "stdout",
     "output_type": "stream",
     "text": [
      "A Kia Soul costs 19000 dollars\n",
      "A Lamborghini Diablo costs 55000 dollars\n",
      "A Ford Fiesta costs 13000 dollars\n",
      "A Toyota Prius costs 24000 dollars\n",
      "\n"
     ]
    }
   ],
   "source": [
    "# Return a string of car model and price information in a given format from a dictionary\n",
    "\n",
    "def car_listing(car_prices):\n",
    "  result = \"\"\n",
    "  # Complete the for loop to iterate through the key and value items \n",
    "  # in the dictionary.\n",
    "  for model, price in car_prices.items(): \n",
    "    result += \"A {} costs {} dollars\".format(model, price) + \"\\n\" # Use a string method to format the required string. \n",
    "  return result\n",
    "\n",
    "print(car_listing({\"Kia Soul\":19000, \"Lamborghini Diablo\":55000, \"Ford Fiesta\":13000, \"Toyota Prius\":24000}))\n",
    "\n",
    "# Should print:\n",
    "# A Kia Soul costs 19000 dollars\n",
    "# A Lamborghini Diablo costs 55000 dollars\n",
    "# A Ford Fiesta costs 13000 dollars\n",
    "# A Toyota Prius costs 24000 dollars"
   ]
  },
  {
   "cell_type": "code",
   "execution_count": 61,
   "id": "5a1b3bf4",
   "metadata": {
    "execution": {
     "iopub.execute_input": "2023-06-27T19:26:50.010426Z",
     "iopub.status.busy": "2023-06-27T19:26:50.009963Z",
     "iopub.status.idle": "2023-06-27T19:26:50.019659Z",
     "shell.execute_reply": "2023-06-27T19:26:50.017870Z"
    },
    "papermill": {
     "duration": 0.062006,
     "end_time": "2023-06-27T19:26:50.022735",
     "exception": false,
     "start_time": "2023-06-27T19:26:49.960729",
     "status": "completed"
    },
    "tags": []
   },
   "outputs": [
    {
     "name": "stdout",
     "output_type": "stream",
     "text": [
      "{'Adam': 0, 'Camila': 0, 'David': 0, 'Jamal': 0, 'Charley': 0, 'Titus': 0, 'Raj': 0, 'Noemi': 0, 'Sakira': 0, 'Chidi': 0}\n"
     ]
    }
   ],
   "source": [
    "# Return a dictionary with keys using the elements from a given list and values set to 0 \n",
    "def setup_guests(guest_list):\n",
    "    # loop over the guest list and add each guest to the dictionary with\n",
    "    # an initial value of 0\n",
    "    result = {} # Initialize a new dictionary \n",
    "    for guest in guest_list: # Iterate over the elements in the list \n",
    "        result[guest] = 0 # Add each list element to the dictionary as a key with \n",
    "            # the starting value of 0\n",
    "    return result\n",
    "\n",
    "guests = [\"Adam\",\"Camila\",\"David\",\"Jamal\",\"Charley\",\"Titus\",\"Raj\",\"Noemi\",\"Sakira\",\"Chidi\"]\n",
    "\n",
    "print(setup_guests(guests))\n",
    "# Should print {'Adam': 0, 'Camila': 0, 'David': 0, 'Jamal': 0, 'Charley': 0, 'Titus': 0, 'Raj': 0, 'Noemi': 0, 'Sakira': 0, 'Chidi': 0}"
   ]
  },
  {
   "cell_type": "code",
   "execution_count": 62,
   "id": "05cc178f",
   "metadata": {
    "execution": {
     "iopub.execute_input": "2023-06-27T19:26:50.126845Z",
     "iopub.status.busy": "2023-06-27T19:26:50.126436Z",
     "iopub.status.idle": "2023-06-27T19:26:50.135752Z",
     "shell.execute_reply": "2023-06-27T19:26:50.134344Z"
    },
    "papermill": {
     "duration": 0.064632,
     "end_time": "2023-06-27T19:26:50.139204",
     "exception": false,
     "start_time": "2023-06-27T19:26:50.074572",
     "status": "completed"
    },
    "tags": []
   },
   "outputs": [
    {
     "name": "stdout",
     "output_type": "stream",
     "text": [
      "{'James': 0, 'Felicity': 0, 'Barakaa': 0}\n"
     ]
    }
   ],
   "source": [
    "# Return a copy of a given grade dictionary with grade reet to 0\n",
    "def setup_gradebook(old_gradebook):\n",
    "    # Use a dictionary method to create a new copy of the \"old_gradebook\".\n",
    "    new_gradebook = old_gradebook.copy() \n",
    "    # Complete the for loop to iterate over the new gradebook. \n",
    "    for student in new_gradebook.keys():\n",
    "      # Use a dictionary operation to reset the grade values to 0.\n",
    "      new_gradebook[student] = 0\n",
    "      \n",
    "    return new_gradebook\n",
    "\n",
    "fall_gradebook = {\"James\": 93, \"Felicity\": 98, \"Barakaa\": 80}\n",
    "print(setup_gradebook(fall_gradebook))\n",
    "# Should output {'James': 0, 'Felicity': 0, 'Barakaa': 0}\n"
   ]
  },
  {
   "cell_type": "markdown",
   "id": "305ee564",
   "metadata": {
    "papermill": {
     "duration": 0.051691,
     "end_time": "2023-06-27T19:26:50.240090",
     "exception": false,
     "start_time": "2023-06-27T19:26:50.188399",
     "status": "completed"
    },
    "tags": []
   },
   "source": [
    "## Object Oriented Programming (OOP)"
   ]
  },
  {
   "cell_type": "code",
   "execution_count": 63,
   "id": "fd09ffb8",
   "metadata": {
    "execution": {
     "iopub.execute_input": "2023-06-27T19:26:50.342218Z",
     "iopub.status.busy": "2023-06-27T19:26:50.341762Z",
     "iopub.status.idle": "2023-06-27T19:26:50.352149Z",
     "shell.execute_reply": "2023-06-27T19:26:50.349937Z"
    },
    "papermill": {
     "duration": 0.066358,
     "end_time": "2023-06-27T19:26:50.355209",
     "exception": false,
     "start_time": "2023-06-27T19:26:50.288851",
     "status": "completed"
    },
    "tags": []
   },
   "outputs": [
    {
     "data": {
      "text/plain": [
       "['__add__',\n",
       " '__class__',\n",
       " '__contains__',\n",
       " '__delattr__',\n",
       " '__dir__',\n",
       " '__doc__',\n",
       " '__eq__',\n",
       " '__format__',\n",
       " '__ge__',\n",
       " '__getattribute__',\n",
       " '__getitem__',\n",
       " '__getnewargs__',\n",
       " '__gt__',\n",
       " '__hash__',\n",
       " '__init__',\n",
       " '__init_subclass__',\n",
       " '__iter__',\n",
       " '__le__',\n",
       " '__len__',\n",
       " '__lt__',\n",
       " '__mod__',\n",
       " '__mul__',\n",
       " '__ne__',\n",
       " '__new__',\n",
       " '__reduce__',\n",
       " '__reduce_ex__',\n",
       " '__repr__',\n",
       " '__rmod__',\n",
       " '__rmul__',\n",
       " '__setattr__',\n",
       " '__sizeof__',\n",
       " '__str__',\n",
       " '__subclasshook__',\n",
       " 'capitalize',\n",
       " 'casefold',\n",
       " 'center',\n",
       " 'count',\n",
       " 'encode',\n",
       " 'endswith',\n",
       " 'expandtabs',\n",
       " 'find',\n",
       " 'format',\n",
       " 'format_map',\n",
       " 'index',\n",
       " 'isalnum',\n",
       " 'isalpha',\n",
       " 'isascii',\n",
       " 'isdecimal',\n",
       " 'isdigit',\n",
       " 'isidentifier',\n",
       " 'islower',\n",
       " 'isnumeric',\n",
       " 'isprintable',\n",
       " 'isspace',\n",
       " 'istitle',\n",
       " 'isupper',\n",
       " 'join',\n",
       " 'ljust',\n",
       " 'lower',\n",
       " 'lstrip',\n",
       " 'maketrans',\n",
       " 'partition',\n",
       " 'removeprefix',\n",
       " 'removesuffix',\n",
       " 'replace',\n",
       " 'rfind',\n",
       " 'rindex',\n",
       " 'rjust',\n",
       " 'rpartition',\n",
       " 'rsplit',\n",
       " 'rstrip',\n",
       " 'split',\n",
       " 'splitlines',\n",
       " 'startswith',\n",
       " 'strip',\n",
       " 'swapcase',\n",
       " 'title',\n",
       " 'translate',\n",
       " 'upper',\n",
       " 'zfill']"
      ]
     },
     "execution_count": 63,
     "metadata": {},
     "output_type": "execute_result"
    }
   ],
   "source": [
    "string = \"The brown fox jumped over the fence\"\n",
    "dir(string)  # list of String class methods including spectial methods (__xxxxx__)"
   ]
  },
  {
   "cell_type": "code",
   "execution_count": 64,
   "id": "d440e7c5",
   "metadata": {
    "_kg_hide-output": true,
    "execution": {
     "iopub.execute_input": "2023-06-27T19:26:50.457889Z",
     "iopub.status.busy": "2023-06-27T19:26:50.456991Z",
     "iopub.status.idle": "2023-06-27T19:26:50.492718Z",
     "shell.execute_reply": "2023-06-27T19:26:50.491611Z"
    },
    "papermill": {
     "duration": 0.093754,
     "end_time": "2023-06-27T19:26:50.496826",
     "exception": false,
     "start_time": "2023-06-27T19:26:50.403072",
     "status": "completed"
    },
    "tags": []
   },
   "outputs": [
    {
     "name": "stdout",
     "output_type": "stream",
     "text": [
      "Help on class str in module builtins:\n",
      "\n",
      "class str(object)\n",
      " |  str(object='') -> str\n",
      " |  str(bytes_or_buffer[, encoding[, errors]]) -> str\n",
      " |  \n",
      " |  Create a new string object from the given object. If encoding or\n",
      " |  errors is specified, then the object must expose a data buffer\n",
      " |  that will be decoded using the given encoding and error handler.\n",
      " |  Otherwise, returns the result of object.__str__() (if defined)\n",
      " |  or repr(object).\n",
      " |  encoding defaults to sys.getdefaultencoding().\n",
      " |  errors defaults to 'strict'.\n",
      " |  \n",
      " |  Methods defined here:\n",
      " |  \n",
      " |  __add__(self, value, /)\n",
      " |      Return self+value.\n",
      " |  \n",
      " |  __contains__(self, key, /)\n",
      " |      Return key in self.\n",
      " |  \n",
      " |  __eq__(self, value, /)\n",
      " |      Return self==value.\n",
      " |  \n",
      " |  __format__(self, format_spec, /)\n",
      " |      Return a formatted version of the string as described by format_spec.\n",
      " |  \n",
      " |  __ge__(self, value, /)\n",
      " |      Return self>=value.\n",
      " |  \n",
      " |  __getattribute__(self, name, /)\n",
      " |      Return getattr(self, name).\n",
      " |  \n",
      " |  __getitem__(self, key, /)\n",
      " |      Return self[key].\n",
      " |  \n",
      " |  __getnewargs__(...)\n",
      " |  \n",
      " |  __gt__(self, value, /)\n",
      " |      Return self>value.\n",
      " |  \n",
      " |  __hash__(self, /)\n",
      " |      Return hash(self).\n",
      " |  \n",
      " |  __iter__(self, /)\n",
      " |      Implement iter(self).\n",
      " |  \n",
      " |  __le__(self, value, /)\n",
      " |      Return self<=value.\n",
      " |  \n",
      " |  __len__(self, /)\n",
      " |      Return len(self).\n",
      " |  \n",
      " |  __lt__(self, value, /)\n",
      " |      Return self<value.\n",
      " |  \n",
      " |  __mod__(self, value, /)\n",
      " |      Return self%value.\n",
      " |  \n",
      " |  __mul__(self, value, /)\n",
      " |      Return self*value.\n",
      " |  \n",
      " |  __ne__(self, value, /)\n",
      " |      Return self!=value.\n",
      " |  \n",
      " |  __repr__(self, /)\n",
      " |      Return repr(self).\n",
      " |  \n",
      " |  __rmod__(self, value, /)\n",
      " |      Return value%self.\n",
      " |  \n",
      " |  __rmul__(self, value, /)\n",
      " |      Return value*self.\n",
      " |  \n",
      " |  __sizeof__(self, /)\n",
      " |      Return the size of the string in memory, in bytes.\n",
      " |  \n",
      " |  __str__(self, /)\n",
      " |      Return str(self).\n",
      " |  \n",
      " |  capitalize(self, /)\n",
      " |      Return a capitalized version of the string.\n",
      " |      \n",
      " |      More specifically, make the first character have upper case and the rest lower\n",
      " |      case.\n",
      " |  \n",
      " |  casefold(self, /)\n",
      " |      Return a version of the string suitable for caseless comparisons.\n",
      " |  \n",
      " |  center(self, width, fillchar=' ', /)\n",
      " |      Return a centered string of length width.\n",
      " |      \n",
      " |      Padding is done using the specified fill character (default is a space).\n",
      " |  \n",
      " |  count(...)\n",
      " |      S.count(sub[, start[, end]]) -> int\n",
      " |      \n",
      " |      Return the number of non-overlapping occurrences of substring sub in\n",
      " |      string S[start:end].  Optional arguments start and end are\n",
      " |      interpreted as in slice notation.\n",
      " |  \n",
      " |  encode(self, /, encoding='utf-8', errors='strict')\n",
      " |      Encode the string using the codec registered for encoding.\n",
      " |      \n",
      " |      encoding\n",
      " |        The encoding in which to encode the string.\n",
      " |      errors\n",
      " |        The error handling scheme to use for encoding errors.\n",
      " |        The default is 'strict' meaning that encoding errors raise a\n",
      " |        UnicodeEncodeError.  Other possible values are 'ignore', 'replace' and\n",
      " |        'xmlcharrefreplace' as well as any other name registered with\n",
      " |        codecs.register_error that can handle UnicodeEncodeErrors.\n",
      " |  \n",
      " |  endswith(...)\n",
      " |      S.endswith(suffix[, start[, end]]) -> bool\n",
      " |      \n",
      " |      Return True if S ends with the specified suffix, False otherwise.\n",
      " |      With optional start, test S beginning at that position.\n",
      " |      With optional end, stop comparing S at that position.\n",
      " |      suffix can also be a tuple of strings to try.\n",
      " |  \n",
      " |  expandtabs(self, /, tabsize=8)\n",
      " |      Return a copy where all tab characters are expanded using spaces.\n",
      " |      \n",
      " |      If tabsize is not given, a tab size of 8 characters is assumed.\n",
      " |  \n",
      " |  find(...)\n",
      " |      S.find(sub[, start[, end]]) -> int\n",
      " |      \n",
      " |      Return the lowest index in S where substring sub is found,\n",
      " |      such that sub is contained within S[start:end].  Optional\n",
      " |      arguments start and end are interpreted as in slice notation.\n",
      " |      \n",
      " |      Return -1 on failure.\n",
      " |  \n",
      " |  format(...)\n",
      " |      S.format(*args, **kwargs) -> str\n",
      " |      \n",
      " |      Return a formatted version of S, using substitutions from args and kwargs.\n",
      " |      The substitutions are identified by braces ('{' and '}').\n",
      " |  \n",
      " |  format_map(...)\n",
      " |      S.format_map(mapping) -> str\n",
      " |      \n",
      " |      Return a formatted version of S, using substitutions from mapping.\n",
      " |      The substitutions are identified by braces ('{' and '}').\n",
      " |  \n",
      " |  index(...)\n",
      " |      S.index(sub[, start[, end]]) -> int\n",
      " |      \n",
      " |      Return the lowest index in S where substring sub is found,\n",
      " |      such that sub is contained within S[start:end].  Optional\n",
      " |      arguments start and end are interpreted as in slice notation.\n",
      " |      \n",
      " |      Raises ValueError when the substring is not found.\n",
      " |  \n",
      " |  isalnum(self, /)\n",
      " |      Return True if the string is an alpha-numeric string, False otherwise.\n",
      " |      \n",
      " |      A string is alpha-numeric if all characters in the string are alpha-numeric and\n",
      " |      there is at least one character in the string.\n",
      " |  \n",
      " |  isalpha(self, /)\n",
      " |      Return True if the string is an alphabetic string, False otherwise.\n",
      " |      \n",
      " |      A string is alphabetic if all characters in the string are alphabetic and there\n",
      " |      is at least one character in the string.\n",
      " |  \n",
      " |  isascii(self, /)\n",
      " |      Return True if all characters in the string are ASCII, False otherwise.\n",
      " |      \n",
      " |      ASCII characters have code points in the range U+0000-U+007F.\n",
      " |      Empty string is ASCII too.\n",
      " |  \n",
      " |  isdecimal(self, /)\n",
      " |      Return True if the string is a decimal string, False otherwise.\n",
      " |      \n",
      " |      A string is a decimal string if all characters in the string are decimal and\n",
      " |      there is at least one character in the string.\n",
      " |  \n",
      " |  isdigit(self, /)\n",
      " |      Return True if the string is a digit string, False otherwise.\n",
      " |      \n",
      " |      A string is a digit string if all characters in the string are digits and there\n",
      " |      is at least one character in the string.\n",
      " |  \n",
      " |  isidentifier(self, /)\n",
      " |      Return True if the string is a valid Python identifier, False otherwise.\n",
      " |      \n",
      " |      Call keyword.iskeyword(s) to test whether string s is a reserved identifier,\n",
      " |      such as \"def\" or \"class\".\n",
      " |  \n",
      " |  islower(self, /)\n",
      " |      Return True if the string is a lowercase string, False otherwise.\n",
      " |      \n",
      " |      A string is lowercase if all cased characters in the string are lowercase and\n",
      " |      there is at least one cased character in the string.\n",
      " |  \n",
      " |  isnumeric(self, /)\n",
      " |      Return True if the string is a numeric string, False otherwise.\n",
      " |      \n",
      " |      A string is numeric if all characters in the string are numeric and there is at\n",
      " |      least one character in the string.\n",
      " |  \n",
      " |  isprintable(self, /)\n",
      " |      Return True if the string is printable, False otherwise.\n",
      " |      \n",
      " |      A string is printable if all of its characters are considered printable in\n",
      " |      repr() or if it is empty.\n",
      " |  \n",
      " |  isspace(self, /)\n",
      " |      Return True if the string is a whitespace string, False otherwise.\n",
      " |      \n",
      " |      A string is whitespace if all characters in the string are whitespace and there\n",
      " |      is at least one character in the string.\n",
      " |  \n",
      " |  istitle(self, /)\n",
      " |      Return True if the string is a title-cased string, False otherwise.\n",
      " |      \n",
      " |      In a title-cased string, upper- and title-case characters may only\n",
      " |      follow uncased characters and lowercase characters only cased ones.\n",
      " |  \n",
      " |  isupper(self, /)\n",
      " |      Return True if the string is an uppercase string, False otherwise.\n",
      " |      \n",
      " |      A string is uppercase if all cased characters in the string are uppercase and\n",
      " |      there is at least one cased character in the string.\n",
      " |  \n",
      " |  join(self, iterable, /)\n",
      " |      Concatenate any number of strings.\n",
      " |      \n",
      " |      The string whose method is called is inserted in between each given string.\n",
      " |      The result is returned as a new string.\n",
      " |      \n",
      " |      Example: '.'.join(['ab', 'pq', 'rs']) -> 'ab.pq.rs'\n",
      " |  \n",
      " |  ljust(self, width, fillchar=' ', /)\n",
      " |      Return a left-justified string of length width.\n",
      " |      \n",
      " |      Padding is done using the specified fill character (default is a space).\n",
      " |  \n",
      " |  lower(self, /)\n",
      " |      Return a copy of the string converted to lowercase.\n",
      " |  \n",
      " |  lstrip(self, chars=None, /)\n",
      " |      Return a copy of the string with leading whitespace removed.\n",
      " |      \n",
      " |      If chars is given and not None, remove characters in chars instead.\n",
      " |  \n",
      " |  partition(self, sep, /)\n",
      " |      Partition the string into three parts using the given separator.\n",
      " |      \n",
      " |      This will search for the separator in the string.  If the separator is found,\n",
      " |      returns a 3-tuple containing the part before the separator, the separator\n",
      " |      itself, and the part after it.\n",
      " |      \n",
      " |      If the separator is not found, returns a 3-tuple containing the original string\n",
      " |      and two empty strings.\n",
      " |  \n",
      " |  removeprefix(self, prefix, /)\n",
      " |      Return a str with the given prefix string removed if present.\n",
      " |      \n",
      " |      If the string starts with the prefix string, return string[len(prefix):].\n",
      " |      Otherwise, return a copy of the original string.\n",
      " |  \n",
      " |  removesuffix(self, suffix, /)\n",
      " |      Return a str with the given suffix string removed if present.\n",
      " |      \n",
      " |      If the string ends with the suffix string and that suffix is not empty,\n",
      " |      return string[:-len(suffix)]. Otherwise, return a copy of the original\n",
      " |      string.\n",
      " |  \n",
      " |  replace(self, old, new, count=-1, /)\n",
      " |      Return a copy with all occurrences of substring old replaced by new.\n",
      " |      \n",
      " |        count\n",
      " |          Maximum number of occurrences to replace.\n",
      " |          -1 (the default value) means replace all occurrences.\n",
      " |      \n",
      " |      If the optional argument count is given, only the first count occurrences are\n",
      " |      replaced.\n",
      " |  \n",
      " |  rfind(...)\n",
      " |      S.rfind(sub[, start[, end]]) -> int\n",
      " |      \n",
      " |      Return the highest index in S where substring sub is found,\n",
      " |      such that sub is contained within S[start:end].  Optional\n",
      " |      arguments start and end are interpreted as in slice notation.\n",
      " |      \n",
      " |      Return -1 on failure.\n",
      " |  \n",
      " |  rindex(...)\n",
      " |      S.rindex(sub[, start[, end]]) -> int\n",
      " |      \n",
      " |      Return the highest index in S where substring sub is found,\n",
      " |      such that sub is contained within S[start:end].  Optional\n",
      " |      arguments start and end are interpreted as in slice notation.\n",
      " |      \n",
      " |      Raises ValueError when the substring is not found.\n",
      " |  \n",
      " |  rjust(self, width, fillchar=' ', /)\n",
      " |      Return a right-justified string of length width.\n",
      " |      \n",
      " |      Padding is done using the specified fill character (default is a space).\n",
      " |  \n",
      " |  rpartition(self, sep, /)\n",
      " |      Partition the string into three parts using the given separator.\n",
      " |      \n",
      " |      This will search for the separator in the string, starting at the end. If\n",
      " |      the separator is found, returns a 3-tuple containing the part before the\n",
      " |      separator, the separator itself, and the part after it.\n",
      " |      \n",
      " |      If the separator is not found, returns a 3-tuple containing two empty strings\n",
      " |      and the original string.\n",
      " |  \n",
      " |  rsplit(self, /, sep=None, maxsplit=-1)\n",
      " |      Return a list of the substrings in the string, using sep as the separator string.\n",
      " |      \n",
      " |        sep\n",
      " |          The separator used to split the string.\n",
      " |      \n",
      " |          When set to None (the default value), will split on any whitespace\n",
      " |          character (including \\\\n \\\\r \\\\t \\\\f and spaces) and will discard\n",
      " |          empty strings from the result.\n",
      " |        maxsplit\n",
      " |          Maximum number of splits (starting from the left).\n",
      " |          -1 (the default value) means no limit.\n",
      " |      \n",
      " |      Splitting starts at the end of the string and works to the front.\n",
      " |  \n",
      " |  rstrip(self, chars=None, /)\n",
      " |      Return a copy of the string with trailing whitespace removed.\n",
      " |      \n",
      " |      If chars is given and not None, remove characters in chars instead.\n",
      " |  \n",
      " |  split(self, /, sep=None, maxsplit=-1)\n",
      " |      Return a list of the substrings in the string, using sep as the separator string.\n",
      " |      \n",
      " |        sep\n",
      " |          The separator used to split the string.\n",
      " |      \n",
      " |          When set to None (the default value), will split on any whitespace\n",
      " |          character (including \\\\n \\\\r \\\\t \\\\f and spaces) and will discard\n",
      " |          empty strings from the result.\n",
      " |        maxsplit\n",
      " |          Maximum number of splits (starting from the left).\n",
      " |          -1 (the default value) means no limit.\n",
      " |      \n",
      " |      Note, str.split() is mainly useful for data that has been intentionally\n",
      " |      delimited.  With natural text that includes punctuation, consider using\n",
      " |      the regular expression module.\n",
      " |  \n",
      " |  splitlines(self, /, keepends=False)\n",
      " |      Return a list of the lines in the string, breaking at line boundaries.\n",
      " |      \n",
      " |      Line breaks are not included in the resulting list unless keepends is given and\n",
      " |      true.\n",
      " |  \n",
      " |  startswith(...)\n",
      " |      S.startswith(prefix[, start[, end]]) -> bool\n",
      " |      \n",
      " |      Return True if S starts with the specified prefix, False otherwise.\n",
      " |      With optional start, test S beginning at that position.\n",
      " |      With optional end, stop comparing S at that position.\n",
      " |      prefix can also be a tuple of strings to try.\n",
      " |  \n",
      " |  strip(self, chars=None, /)\n",
      " |      Return a copy of the string with leading and trailing whitespace removed.\n",
      " |      \n",
      " |      If chars is given and not None, remove characters in chars instead.\n",
      " |  \n",
      " |  swapcase(self, /)\n",
      " |      Convert uppercase characters to lowercase and lowercase characters to uppercase.\n",
      " |  \n",
      " |  title(self, /)\n",
      " |      Return a version of the string where each word is titlecased.\n",
      " |      \n",
      " |      More specifically, words start with uppercased characters and all remaining\n",
      " |      cased characters have lower case.\n",
      " |  \n",
      " |  translate(self, table, /)\n",
      " |      Replace each character in the string using the given translation table.\n",
      " |      \n",
      " |        table\n",
      " |          Translation table, which must be a mapping of Unicode ordinals to\n",
      " |          Unicode ordinals, strings, or None.\n",
      " |      \n",
      " |      The table must implement lookup/indexing via __getitem__, for instance a\n",
      " |      dictionary or list.  If this operation raises LookupError, the character is\n",
      " |      left untouched.  Characters mapped to None are deleted.\n",
      " |  \n",
      " |  upper(self, /)\n",
      " |      Return a copy of the string converted to uppercase.\n",
      " |  \n",
      " |  zfill(self, width, /)\n",
      " |      Pad a numeric string with zeros on the left, to fill a field of the given width.\n",
      " |      \n",
      " |      The string is never truncated.\n",
      " |  \n",
      " |  ----------------------------------------------------------------------\n",
      " |  Static methods defined here:\n",
      " |  \n",
      " |  __new__(*args, **kwargs) from builtins.type\n",
      " |      Create and return a new object.  See help(type) for accurate signature.\n",
      " |  \n",
      " |  maketrans(...)\n",
      " |      Return a translation table usable for str.translate().\n",
      " |      \n",
      " |      If there is only one argument, it must be a dictionary mapping Unicode\n",
      " |      ordinals (integers) or characters to Unicode ordinals, strings or None.\n",
      " |      Character keys will be then converted to ordinals.\n",
      " |      If there are two arguments, they must be strings of equal length, and\n",
      " |      in the resulting dictionary, each character in x will be mapped to the\n",
      " |      character at the same position in y. If there is a third argument, it\n",
      " |      must be a string, whose characters will be mapped to None in the result.\n",
      "\n"
     ]
    }
   ],
   "source": [
    "type(string)  # display Class name. - str\n",
    "help(str)     # documentation for class 'str' withe methods and explanations"
   ]
  },
  {
   "cell_type": "code",
   "execution_count": 65,
   "id": "23fedb94",
   "metadata": {
    "execution": {
     "iopub.execute_input": "2023-06-27T19:26:50.605019Z",
     "iopub.status.busy": "2023-06-27T19:26:50.604513Z",
     "iopub.status.idle": "2023-06-27T19:26:50.614762Z",
     "shell.execute_reply": "2023-06-27T19:26:50.612974Z"
    },
    "papermill": {
     "duration": 0.06757,
     "end_time": "2023-06-27T19:26:50.618399",
     "exception": false,
     "start_time": "2023-06-27T19:26:50.550829",
     "status": "completed"
    },
    "tags": []
   },
   "outputs": [
    {
     "name": "stdout",
     "output_type": "stream",
     "text": [
      "red\n",
      "sweet\n",
      "RED\n",
      "Yellow\n",
      "Soft\n"
     ]
    }
   ],
   "source": [
    "# define a simple no-body class\n",
    "class Apple:\n",
    "    pass  # means the body of the class is empty, can be used as placeholder for any Python block\n",
    "\n",
    "# adding some attributes to the class\n",
    "class Apple:\n",
    "    color = \"\"\n",
    "    flavor = \"\"\n",
    "    \n",
    "# create an instance and set attributes\n",
    "jonagold = Apple()\n",
    "jonagold.color = \"red\"\n",
    "jonagold.flavor = \"sweet\"\n",
    "\n",
    "print(jonagold.color)  # red\n",
    "print(jonagold.flavor) # sweet\n",
    "\n",
    "type(jonagold.color) # know that its class is str.\n",
    "print(jonagold.color.upper()) # utilize the other classes abilities(methods) through dot notations, here the upper() method from str class\n",
    "\n",
    "golden = Apple()\n",
    "golden.color = \"Yellow\"\n",
    "golden.flavor = \"Soft\"\n",
    "print(golden.color)\n",
    "print(golden.flavor)"
   ]
  },
  {
   "cell_type": "code",
   "execution_count": 66,
   "id": "04a3d27e",
   "metadata": {
    "execution": {
     "iopub.execute_input": "2023-06-27T19:26:50.728298Z",
     "iopub.status.busy": "2023-06-27T19:26:50.727736Z",
     "iopub.status.idle": "2023-06-27T19:26:50.740403Z",
     "shell.execute_reply": "2023-06-27T19:26:50.738746Z"
    },
    "papermill": {
     "duration": 0.070031,
     "end_time": "2023-06-27T19:26:50.743052",
     "exception": false,
     "start_time": "2023-06-27T19:26:50.673021",
     "status": "completed"
    },
    "tags": []
   },
   "outputs": [
    {
     "name": "stdout",
     "output_type": "stream",
     "text": [
      "Johanna has 2 apples and Martin has 1 apples\n",
      "Johanna has 2 ideas and Martin has 2 ideas\n"
     ]
    }
   ],
   "source": [
    "# “If you have an apple and I have an apple and we exchange these apples then\n",
    "# you and I will still each have one apple. But if you have an idea and I have\n",
    "# an idea and we exchange these ideas, then each of us will have two ideas.”\n",
    "# George Bernard Shaw\n",
    "\n",
    "class Person:\n",
    "    apples = 0\n",
    "    ideas = 0\n",
    "\n",
    "johanna = Person()\n",
    "johanna.apples = 1\n",
    "johanna.ideas = 1\n",
    "\n",
    "martin = Person()\n",
    "martin.apples = 2\n",
    "martin.ideas = 1\n",
    "\n",
    "def exchange_apples(you, me):\n",
    "#Here, despite G.B. Shaw's quote, our characters have started with       #different amounts of apples so we can better observe the results. \n",
    "#We're going to have Martin and Johanna exchange ALL their apples with #one another.\n",
    "#Hint: how would you switch values of variables, \n",
    "#so that \"you\" and \"me\" will exchange ALL their apples with one another?\n",
    "#Do you need a temporary variable to store one of the values?\n",
    "#You may need more than one line of code to do that, which is OK. \n",
    "    \tyou.apples, me.apples = me.apples, you.apples\n",
    "    \treturn you.apples, me.apples\n",
    "    \n",
    "def exchange_ideas(you, me):\n",
    "    #\"you\" and \"me\" will share our ideas with one another.\n",
    "    #What operations need to be performed, so that each object receives\n",
    "    #the shared number of ideas?\n",
    "    #Hint: how would you assign the total number of ideas to \n",
    "    #each idea attribute? Do you need a temporary variable to store \n",
    "    #the sum of ideas, or can you find another way? \n",
    "    #Use as many lines of code as you need here.\n",
    "    you.ideas += me.ideas\n",
    "    me.ideas = you.ideas\n",
    "    return you.ideas, me.ideas\n",
    "\n",
    "exchange_apples(johanna, martin)\n",
    "print(\"Johanna has {} apples and Martin has {} apples\".format(johanna.apples, martin.apples))\n",
    "exchange_ideas(johanna, martin)\n",
    "print(\"Johanna has {} ideas and Martin has {} ideas\".format(johanna.ideas, martin.ideas))\n"
   ]
  },
  {
   "cell_type": "code",
   "execution_count": 67,
   "id": "c9644f3f",
   "metadata": {
    "execution": {
     "iopub.execute_input": "2023-06-27T19:26:50.845647Z",
     "iopub.status.busy": "2023-06-27T19:26:50.845204Z",
     "iopub.status.idle": "2023-06-27T19:26:50.860847Z",
     "shell.execute_reply": "2023-06-27T19:26:50.859048Z"
    },
    "papermill": {
     "duration": 0.06934,
     "end_time": "2023-06-27T19:26:50.863450",
     "exception": false,
     "start_time": "2023-06-27T19:26:50.794110",
     "status": "completed"
    },
    "tags": []
   },
   "outputs": [
    {
     "name": "stdout",
     "output_type": "stream",
     "text": [
      "Cusco, Peru\n",
      "Sofia, Bulgaria\n",
      "\n"
     ]
    }
   ],
   "source": [
    "# The City class has the following attributes: name, country, elevation (in meteres), and population\n",
    "# Fill the blanks of the max_elevation_city funtion to return the name of the city and its country (separated by a comma),\n",
    "# when comparing the 3 defined instances for a specified minimal population.\n",
    "# For example, calling the function for a minimum population of 1 million: max_elevation_city(1000000) should return\n",
    "# \"Soifa, Bulgaria\"\n",
    "\n",
    "# define a basic city class\n",
    "class City:\n",
    "\tname = \"\"\n",
    "\tcountry = \"\"\n",
    "\televation = 0 \n",
    "\tpopulation = 0\n",
    "\n",
    "# create a new instance of the City class and\n",
    "# define each attribute\n",
    "city1 = City()\n",
    "city1.name = \"Cusco\"\n",
    "city1.country = \"Peru\"\n",
    "city1.elevation = 3399\n",
    "city1.population = 358052\n",
    "\n",
    "# create a new instance of the City class and\n",
    "# define each attribute\n",
    "city2 = City()\n",
    "city2.name = \"Sofia\"\n",
    "city2.country = \"Bulgaria\"\n",
    "city2.elevation = 2290\n",
    "city2.population = 1241675\n",
    "\n",
    "# create a new instance of the City class and\n",
    "# define each attribute\n",
    "city3 = City()\n",
    "city3.name = \"Seoul\"\n",
    "city3.country = \"South Korea\"\n",
    "city3.elevation = 38\n",
    "city3.population = 9733509\n",
    "\n",
    "def max_elevation_city(min_population):\n",
    "\t# Initialize the variable that will hold \n",
    "# the information of the city with \n",
    "# the highest elevation \n",
    "\treturn_city = City()\n",
    "\t#print(return_city.name, return_city.country, return_city.population, return_city.elevation)\n",
    "\n",
    "\n",
    "\t# Evaluate the 1st instance to meet the requirements:\n",
    "\t# does city #1 have at least min_population and\n",
    "\t# is its elevation the highest evaluated so far?\n",
    "\tif city1.population >= min_population and city1.elevation > return_city.elevation:\n",
    "\t\treturn_city = city1\n",
    "\n",
    "\t# Evaluate the 2nd instance to meet the requirements:\n",
    "\t# does city #2 have at least min_population and\n",
    "\t# is its elevation the highest evaluated so far?\n",
    "\tif city2.population >= min_population and city2.elevation > return_city.elevation:\t\t\n",
    "\t\treturn_city = city2\n",
    "\t\t\n",
    "\t# Evaluate the 3rd instance to meet the requirements:\n",
    "\t# does city #3 have at least min_population and\n",
    "\t# is its elevation the highest evaluated so far?\n",
    "\tif city3.population >= min_population and city3.elevation > return_city.elevation:\n",
    "\t\treturn_city = city3\n",
    "\n",
    "\t#Format the return string\n",
    "\tif return_city.name:\n",
    "\t\treturn return_city.name + \", \" + return_city.country\n",
    "\telse:\n",
    "\t\treturn \"\"\n",
    "\n",
    "print(max_elevation_city(100000)) # Should print \"Cusco, Peru\"\n",
    "print(max_elevation_city(1000000)) # Should print \"Sofia, Bulgaria\"\n",
    "print(max_elevation_city(10000000)) # Should print \"\""
   ]
  },
  {
   "cell_type": "code",
   "execution_count": 68,
   "id": "0d6614f0",
   "metadata": {
    "execution": {
     "iopub.execute_input": "2023-06-27T19:26:50.965734Z",
     "iopub.status.busy": "2023-06-27T19:26:50.965315Z",
     "iopub.status.idle": "2023-06-27T19:26:50.973899Z",
     "shell.execute_reply": "2023-06-27T19:26:50.972649Z"
    },
    "papermill": {
     "duration": 0.064281,
     "end_time": "2023-06-27T19:26:50.976544",
     "exception": false,
     "start_time": "2023-06-27T19:26:50.912263",
     "status": "completed"
    },
    "tags": []
   },
   "outputs": [
    {
     "name": "stdout",
     "output_type": "stream",
     "text": [
      "This piece of furniture is made of brown wood\n",
      "This piece of furniture is made of red leather\n"
     ]
    }
   ],
   "source": [
    "# We have two pieces of furniture: a brown wood table and a red leather couch.\n",
    "# Fill in the blanks following the creation of each Furniture class instance, so\n",
    "# that the describ_furniture function can format a sentence that describes these\n",
    "# pieces as follows: \"This piece of furniture is made of [color]:[material]\"\n",
    "\n",
    "class Furniture:\n",
    "\tcolor = \"\"\n",
    "\tmaterial = \"\"\n",
    "\n",
    "table = Furniture()\n",
    "table.color = \"brown\"\n",
    "table.material = \"wood\"\n",
    "\n",
    "couch = Furniture()\n",
    "couch.color = \"red\"\n",
    "couch.material = \"leather\"\n",
    "\n",
    "def describe_furniture(piece):\n",
    "\treturn (\"This piece of furniture is made of {} {}\".format(piece.color, piece.material))\n",
    "\n",
    "print(describe_furniture(table)) \n",
    "# Should be \"This piece of furniture is made of brown wood\"\n",
    "print(describe_furniture(couch)) \n",
    "# Should be \"This piece of furniture is made of red leather\""
   ]
  },
  {
   "cell_type": "markdown",
   "id": "c8bda09c",
   "metadata": {
    "papermill": {
     "duration": 0.052151,
     "end_time": "2023-06-27T19:26:51.077428",
     "exception": false,
     "start_time": "2023-06-27T19:26:51.025277",
     "status": "completed"
    },
    "tags": []
   },
   "source": [
    "### Class methods"
   ]
  },
  {
   "cell_type": "code",
   "execution_count": 69,
   "id": "9391db8d",
   "metadata": {
    "execution": {
     "iopub.execute_input": "2023-06-27T19:26:51.183424Z",
     "iopub.status.busy": "2023-06-27T19:26:51.182981Z",
     "iopub.status.idle": "2023-06-27T19:26:51.195270Z",
     "shell.execute_reply": "2023-06-27T19:26:51.193708Z"
    },
    "papermill": {
     "duration": 0.069214,
     "end_time": "2023-06-27T19:26:51.198141",
     "exception": false,
     "start_time": "2023-06-27T19:26:51.128927",
     "status": "completed"
    },
    "tags": []
   },
   "outputs": [
    {
     "name": "stdout",
     "output_type": "stream",
     "text": [
      "oink oink\n",
      "Oink! I'm Pinkie! Oink!\n",
      "Oink! I'm Petuina! Oink!\n",
      "0\n",
      "36\n"
     ]
    }
   ],
   "source": [
    "# simple non-body class\n",
    "class Piglet:\n",
    "    pass\n",
    "\n",
    "# modify the class and add some methods\n",
    "class Piglet:\n",
    "    def speak(self):  # self -> instance of the method is being executed on \n",
    "        print(\"oink oink\")\n",
    "        \n",
    "# demo\n",
    "hamlet = Piglet()\n",
    "hamlet.speak() # oink oink\n",
    "\n",
    "# modify the method to be a little more interesting, being more specific to the instance\n",
    "class Piglet:\n",
    "    name = \"piglet\" # initialize instance variable 'name'attribute\n",
    "    def speak(self):\n",
    "        print(\"Oink! I'm {}! Oink!\".format(self.name))\n",
    "\n",
    "hamlet = Piglet()\n",
    "hamlet.name = \"Pinkie\"\n",
    "hamlet.speak() # Oink! I'm Pinkie! Oink!\n",
    "\n",
    "petuina = Piglet()\n",
    "petuina.name = \"Petuina\"\n",
    "petuina.speak() # Oink! I'm Petuina! Oink!\n",
    "\n",
    "# methods returning with calculation\n",
    "class Piglet:\n",
    "    years = 0\n",
    "    def pig_years(self):\n",
    "        return self.years * 18   # pig years = human years * 18\n",
    "\n",
    "piggy = Piglet()\n",
    "print(piggy.pig_years())  # 0\n",
    "\n",
    "piggy.years = 2\n",
    "print(piggy.pig_years())  # 36"
   ]
  },
  {
   "cell_type": "markdown",
   "id": "2414e1a4",
   "metadata": {
    "papermill": {
     "duration": 0.050713,
     "end_time": "2023-06-27T19:26:51.302235",
     "exception": false,
     "start_time": "2023-06-27T19:26:51.251522",
     "status": "completed"
    },
    "tags": []
   },
   "source": [
    "## Special method: Constructor __init__, and initialization of instance variables"
   ]
  },
  {
   "cell_type": "code",
   "execution_count": 70,
   "id": "e970d302",
   "metadata": {
    "execution": {
     "iopub.execute_input": "2023-06-27T19:26:51.405098Z",
     "iopub.status.busy": "2023-06-27T19:26:51.404728Z",
     "iopub.status.idle": "2023-06-27T19:26:51.414423Z",
     "shell.execute_reply": "2023-06-27T19:26:51.412411Z"
    },
    "papermill": {
     "duration": 0.064393,
     "end_time": "2023-06-27T19:26:51.417635",
     "exception": false,
     "start_time": "2023-06-27T19:26:51.353242",
     "status": "completed"
    },
    "tags": []
   },
   "outputs": [
    {
     "name": "stdout",
     "output_type": "stream",
     "text": [
      "red\n",
      "sweet\n",
      "This apple is red and its flavor is sweet\n"
     ]
    }
   ],
   "source": [
    "class Apple:\n",
    "    def __init__(self, color, flavor):  # special method __init__ as construtor in Python\n",
    "        self.color = color\n",
    "        self.flavor = flavor\n",
    "    def __str__(self):  # special method to print, in general, about the class when print() is used for the instance\n",
    "        return \"This apple is {} and its flavor is {}\".format(self.color, self.flavor)\n",
    "\n",
    "jonagold = Apple(\"red\", \"sweet\")\n",
    "print(jonagold.color)\n",
    "print(jonagold.flavor)\n",
    "print(jonagold)"
   ]
  },
  {
   "cell_type": "markdown",
   "id": "7eb42a5a",
   "metadata": {
    "papermill": {
     "duration": 0.050135,
     "end_time": "2023-06-27T19:26:51.517907",
     "exception": false,
     "start_time": "2023-06-27T19:26:51.467772",
     "status": "completed"
    },
    "tags": []
   },
   "source": [
    "### Documenting with Docstrings\n",
    "The Python **help** function can be super helpful for easily pulling up documentation for classes and methods. We can call the help function on one of our classes, which will return some basic info about the methods defined in our class:"
   ]
  },
  {
   "cell_type": "code",
   "execution_count": 71,
   "id": "ab056d39",
   "metadata": {
    "execution": {
     "iopub.execute_input": "2023-06-27T19:26:51.623888Z",
     "iopub.status.busy": "2023-06-27T19:26:51.623484Z",
     "iopub.status.idle": "2023-06-27T19:26:51.631971Z",
     "shell.execute_reply": "2023-06-27T19:26:51.630048Z"
    },
    "papermill": {
     "duration": 0.06512,
     "end_time": "2023-06-27T19:26:51.635936",
     "exception": false,
     "start_time": "2023-06-27T19:26:51.570816",
     "status": "completed"
    },
    "tags": []
   },
   "outputs": [
    {
     "name": "stdout",
     "output_type": "stream",
     "text": [
      "Help on class Apple in module __main__:\n",
      "\n",
      "class Apple(builtins.object)\n",
      " |  Apple(color, flavor)\n",
      " |  \n",
      " |  Methods defined here:\n",
      " |  \n",
      " |  __init__(self, color, flavor)\n",
      " |      Initialize self.  See help(type(self)) for accurate signature.\n",
      " |  \n",
      " |  __str__(self)\n",
      " |      Return str(self).\n",
      " |  \n",
      " |  ----------------------------------------------------------------------\n",
      " |  Data descriptors defined here:\n",
      " |  \n",
      " |  __dict__\n",
      " |      dictionary for instance variables (if defined)\n",
      " |  \n",
      " |  __weakref__\n",
      " |      list of weak references to the object (if defined)\n",
      "\n"
     ]
    }
   ],
   "source": [
    "class Apple:\n",
    "    def __init__(self, color, flavor):\n",
    "        self.color = color\n",
    "        self.flavor = flavor\n",
    "    def __str__(self):\n",
    "        return \"This apple is {} and its flavor is {}\".format(self.color, self.flavor)\n",
    "    \n",
    "help(Apple)  # Trying to get more info on class Apple using help(), not much we get more yet..."
   ]
  },
  {
   "cell_type": "markdown",
   "id": "b6473a5c",
   "metadata": {
    "papermill": {
     "duration": 0.053652,
     "end_time": "2023-06-27T19:26:51.740515",
     "exception": false,
     "start_time": "2023-06-27T19:26:51.686863",
     "status": "completed"
    },
    "tags": []
   },
   "source": [
    "We can add documentation to our own classes, methods, and functions using **docstrings**. A docstring is a short text explanation of what something does. You can add a docstring to a method, function, or class by first defining it, then adding a description inside triple quotes. Let's take the example of this function:"
   ]
  },
  {
   "cell_type": "code",
   "execution_count": 72,
   "id": "7cf922d3",
   "metadata": {
    "execution": {
     "iopub.execute_input": "2023-06-27T19:26:51.843361Z",
     "iopub.status.busy": "2023-06-27T19:26:51.842302Z",
     "iopub.status.idle": "2023-06-27T19:26:51.849844Z",
     "shell.execute_reply": "2023-06-27T19:26:51.848377Z"
    },
    "papermill": {
     "duration": 0.062744,
     "end_time": "2023-06-27T19:26:51.852969",
     "exception": false,
     "start_time": "2023-06-27T19:26:51.790225",
     "status": "completed"
    },
    "tags": []
   },
   "outputs": [
    {
     "name": "stdout",
     "output_type": "stream",
     "text": [
      "Help on function to_seconds in module __main__:\n",
      "\n",
      "to_seconds(hours, minutes, seconds)\n",
      "    Returns the amount of seconds in the given hours, minutes and seconds.\n",
      "\n"
     ]
    }
   ],
   "source": [
    "def to_seconds(hours, minutes, seconds):\n",
    "    \"\"\"Returns the amount of seconds in the given hours, minutes and seconds.\"\"\" # adding your info using Docstring to describe the function\n",
    "    return hours*3600+minutes*60+seconds\n",
    "\n",
    "help(to_seconds)  # it prints the the Docstring value for the method\n",
    "\n",
    "# Docstrings are super useful for documenting our custom classes, methods, and functions, \n",
    "# but also when working with new libraries or functions. \n",
    "# You'll be extremely grateful for docstrings when you have to work with code that someone else wrote!"
   ]
  },
  {
   "cell_type": "markdown",
   "id": "c43552e1",
   "metadata": {
    "papermill": {
     "duration": 0.05109,
     "end_time": "2023-06-27T19:26:51.957773",
     "exception": false,
     "start_time": "2023-06-27T19:26:51.906683",
     "status": "completed"
    },
    "tags": []
   },
   "source": [
    "## Classes and Methods Cheat Sheet"
   ]
  },
  {
   "cell_type": "code",
   "execution_count": 73,
   "id": "f38bac2d",
   "metadata": {
    "execution": {
     "iopub.execute_input": "2023-06-27T19:26:52.063274Z",
     "iopub.status.busy": "2023-06-27T19:26:52.062158Z",
     "iopub.status.idle": "2023-06-27T19:26:52.067687Z",
     "shell.execute_reply": "2023-06-27T19:26:52.066867Z"
    },
    "papermill": {
     "duration": 0.062726,
     "end_time": "2023-06-27T19:26:52.070297",
     "exception": false,
     "start_time": "2023-06-27T19:26:52.007571",
     "status": "completed"
    },
    "tags": []
   },
   "outputs": [],
   "source": [
    "# Defining classes and methods\n",
    "class ClassName:\n",
    "    def method_name(self, other_parameters):\n",
    "        body_of_method\n",
    "        \n",
    "# Classes define the behavior of all instances of a specific class.\n",
    "# Each variable of a specific class is an instance or object.\n",
    "# Objects can have attributes, which store information about the object.\n",
    "# You can make objects do work by calling their methods.\n",
    "# The first parameter of the methods (self) represents the current instance.\n",
    "# Methods are just like functions, but they can only be used through a class.\n",
    "\n",
    "\n",
    "# Special methods\n",
    "# Special methods start and end with __.\n",
    "# Special methods have specific names, like __init__ for the constructor or __str__ for the conversion to string."
   ]
  },
  {
   "cell_type": "code",
   "execution_count": 74,
   "id": "825d293f",
   "metadata": {
    "execution": {
     "iopub.execute_input": "2023-06-27T19:26:52.173431Z",
     "iopub.status.busy": "2023-06-27T19:26:52.172566Z",
     "iopub.status.idle": "2023-06-27T19:26:52.179387Z",
     "shell.execute_reply": "2023-06-27T19:26:52.178281Z"
    },
    "papermill": {
     "duration": 0.061571,
     "end_time": "2023-06-27T19:26:52.181900",
     "exception": false,
     "start_time": "2023-06-27T19:26:52.120329",
     "status": "completed"
    },
    "tags": []
   },
   "outputs": [],
   "source": [
    "# Documenting classes, methods and functions\n",
    "# You can add documentation to classes, methods, and functions by using docstrings right after the definition.\n",
    "class ClassName:\n",
    "    \"\"\"Documentation for the class.\"\"\"\n",
    "    def method_name(self, other_parameters):\n",
    "        \"\"\"Documentation for the method.\"\"\"\n",
    "        body_of_method\n",
    "        \n",
    "def function_name(parameters):\n",
    "    \"\"\"Documentation for the function.\"\"\"\n",
    "    body_of_function"
   ]
  },
  {
   "cell_type": "markdown",
   "id": "1cc5c183",
   "metadata": {
    "papermill": {
     "duration": 0.053754,
     "end_time": "2023-06-27T19:26:52.285476",
     "exception": false,
     "start_time": "2023-06-27T19:26:52.231722",
     "status": "completed"
    },
    "tags": []
   },
   "source": [
    "## Object Inheritance"
   ]
  },
  {
   "cell_type": "code",
   "execution_count": 75,
   "id": "310754af",
   "metadata": {
    "execution": {
     "iopub.execute_input": "2023-06-27T19:26:52.392573Z",
     "iopub.status.busy": "2023-06-27T19:26:52.391240Z",
     "iopub.status.idle": "2023-06-27T19:26:52.396137Z",
     "shell.execute_reply": "2023-06-27T19:26:52.395342Z"
    },
    "papermill": {
     "duration": 0.061104,
     "end_time": "2023-06-27T19:26:52.398617",
     "exception": false,
     "start_time": "2023-06-27T19:26:52.337513",
     "status": "completed"
    },
    "tags": []
   },
   "outputs": [],
   "source": [
    "# In object-oriented programming, the concept of inheritance allows you to build relationships between objects, \n",
    "# grouping together similar concepts and reducing code duplication. \n",
    "# Let's create a custom Fruit class with color and flavor attributes:"
   ]
  },
  {
   "cell_type": "code",
   "execution_count": 76,
   "id": "a5f24e4c",
   "metadata": {
    "execution": {
     "iopub.execute_input": "2023-06-27T19:26:52.510084Z",
     "iopub.status.busy": "2023-06-27T19:26:52.508335Z",
     "iopub.status.idle": "2023-06-27T19:26:52.517217Z",
     "shell.execute_reply": "2023-06-27T19:26:52.515982Z"
    },
    "papermill": {
     "duration": 0.069708,
     "end_time": "2023-06-27T19:26:52.520937",
     "exception": false,
     "start_time": "2023-06-27T19:26:52.451229",
     "status": "completed"
    },
    "tags": []
   },
   "outputs": [],
   "source": [
    "class Fruit:  # base class\n",
    "    def __init__(self, color, flavor):\n",
    "        self.color = color\n",
    "        self.flavor = flavor"
   ]
  },
  {
   "cell_type": "code",
   "execution_count": 77,
   "id": "222e84c7",
   "metadata": {
    "execution": {
     "iopub.execute_input": "2023-06-27T19:26:52.643239Z",
     "iopub.status.busy": "2023-06-27T19:26:52.642811Z",
     "iopub.status.idle": "2023-06-27T19:26:52.648361Z",
     "shell.execute_reply": "2023-06-27T19:26:52.646956Z"
    },
    "papermill": {
     "duration": 0.065154,
     "end_time": "2023-06-27T19:26:52.651834",
     "exception": false,
     "start_time": "2023-06-27T19:26:52.586680",
     "status": "completed"
    },
    "tags": []
   },
   "outputs": [],
   "source": [
    "class Apple(Fruit): # inherit from Fruit class\n",
    "    pass\n",
    "\n",
    "class Grape(Fruit): # inherit from Fruit class\n",
    "    pass"
   ]
  },
  {
   "cell_type": "code",
   "execution_count": 78,
   "id": "3e5dcd83",
   "metadata": {
    "execution": {
     "iopub.execute_input": "2023-06-27T19:26:52.756115Z",
     "iopub.status.busy": "2023-06-27T19:26:52.755587Z",
     "iopub.status.idle": "2023-06-27T19:26:52.763200Z",
     "shell.execute_reply": "2023-06-27T19:26:52.761617Z"
    },
    "papermill": {
     "duration": 0.063478,
     "end_time": "2023-06-27T19:26:52.766316",
     "exception": false,
     "start_time": "2023-06-27T19:26:52.702838",
     "status": "completed"
    },
    "tags": []
   },
   "outputs": [
    {
     "name": "stdout",
     "output_type": "stream",
     "text": [
      "tart\n",
      "sweet\n"
     ]
    }
   ],
   "source": [
    "# we’re instructing our computer that both the Apple class and Grape class inherit from the Fruit class. \n",
    "# This means that they both have the same constructor method which sets the color and flavor attributes. \n",
    "# We can now create instances of our Apple and Grape classes:\n",
    "\n",
    "granny_smith = Apple(\"green\", \"tart\")\n",
    "carnelian = Grape(\"purple\", \"sweet\")\n",
    "print(granny_smith.flavor) # tart\n",
    "print(carnelian.flavor) # sweet"
   ]
  },
  {
   "cell_type": "code",
   "execution_count": 79,
   "id": "df8f6bad",
   "metadata": {
    "execution": {
     "iopub.execute_input": "2023-06-27T19:26:52.867698Z",
     "iopub.status.busy": "2023-06-27T19:26:52.867292Z",
     "iopub.status.idle": "2023-06-27T19:26:52.874377Z",
     "shell.execute_reply": "2023-06-27T19:26:52.873051Z"
    },
    "papermill": {
     "duration": 0.061866,
     "end_time": "2023-06-27T19:26:52.877335",
     "exception": false,
     "start_time": "2023-06-27T19:26:52.815469",
     "status": "completed"
    },
    "tags": []
   },
   "outputs": [],
   "source": [
    "# We can then also define specific attributes or methods that are only relevant for a specific type of fruit. \n",
    "# Another example, this time with animals:\n",
    "\n",
    "class Animal:  # base class\n",
    "    sound = \"\"\n",
    "    def __init__(self, name):\n",
    "        self.name = name\n",
    "    def speak(self):\n",
    "        print(\"{sound} I'm {name}! {sound}\".format(name=self.name, sound=self.sound))\n",
    "\n",
    "class Piglet(Animal):\n",
    "    sound = \"Oink!\"\n",
    "    \n",
    "class Cow(Animal):\n",
    "    sound = \"Moooooo\""
   ]
  },
  {
   "cell_type": "code",
   "execution_count": 80,
   "id": "f8bf2c0d",
   "metadata": {
    "execution": {
     "iopub.execute_input": "2023-06-27T19:26:52.980371Z",
     "iopub.status.busy": "2023-06-27T19:26:52.979930Z",
     "iopub.status.idle": "2023-06-27T19:26:52.985915Z",
     "shell.execute_reply": "2023-06-27T19:26:52.984219Z"
    },
    "papermill": {
     "duration": 0.06139,
     "end_time": "2023-06-27T19:26:52.988802",
     "exception": false,
     "start_time": "2023-06-27T19:26:52.927412",
     "status": "completed"
    },
    "tags": []
   },
   "outputs": [
    {
     "name": "stdout",
     "output_type": "stream",
     "text": [
      "Oink! I'm Hamlet! Oink!\n",
      "Moooooo I'm Milky WHhite! Moooooo\n"
     ]
    }
   ],
   "source": [
    "hamlet = Piglet(\"Hamlet\")\n",
    "hamlet.speak()\n",
    "milky = Cow(\"Milky WHhite\")\n",
    "milky.speak()\n"
   ]
  },
  {
   "cell_type": "markdown",
   "id": "db3f0b48",
   "metadata": {
    "papermill": {
     "duration": 0.052754,
     "end_time": "2023-06-27T19:26:53.094215",
     "exception": false,
     "start_time": "2023-06-27T19:26:53.041461",
     "status": "completed"
    },
    "tags": []
   },
   "source": [
    "## Object Composition\n",
    "Class A and B are not quite in **is-a** relationship, but A could **contain** the instances of B, and use its useful attributes and methods.   \n",
    "Thats when the Composition comes in handy - This is not inheritance, It's Object Composition\n",
    "### Always initalize mutable attributes in the constructor.   \n",
    "\n",
    "You can have a situation where two different classes are related, but there is no inheritance going on. This is referred to as composition -- where one class makes use of code contained in another class. For example, imagine we have a Package class which represents a software package. It contains attributes about the software package, like name, version, and size. We also have a Repository class which represents all the packages available for installation. While there’s no inheritance relationship between the two classes, they are related. The Repository class will contain a dictionary or list of Packages that are contained in the repository. Let's take a look at an example Repository class definition:\n",
    "\n",
    "In the constructor method, we initialize the packages dictionary, which will contain the package objects available in this repository instance. We initialize the dictionary in the constructor to ensure that every instance of the Repository class has its own dictionary.\n",
    "\n",
    "We then define the add_package method, which takes a Package object as a parameter, and then adds it to our dictionary, using the package name attribute as the key.\n",
    "\n",
    "Finally, we define a total_size method which computes the total size of all packages contained in our repository. This method iterates through the values in our repository dictionary and adds together the size attributes from each package object contained in the dictionary, returning the total at the end. In this example, we’re making use of Package attributes within our Repository class. We’re also calling the values() method on our packages dictionary instance. Composition allows us to use objects as attributes, as well as access all their attributes and methods."
   ]
  },
  {
   "cell_type": "code",
   "execution_count": 81,
   "id": "625caf38",
   "metadata": {
    "execution": {
     "iopub.execute_input": "2023-06-27T19:26:53.199553Z",
     "iopub.status.busy": "2023-06-27T19:26:53.198174Z",
     "iopub.status.idle": "2023-06-27T19:26:53.218132Z",
     "shell.execute_reply": "2023-06-27T19:26:53.217110Z"
    },
    "papermill": {
     "duration": 0.076634,
     "end_time": "2023-06-27T19:26:53.220835",
     "exception": false,
     "start_time": "2023-06-27T19:26:53.144201",
     "status": "completed"
    },
    "tags": []
   },
   "outputs": [
    {
     "name": "stdout",
     "output_type": "stream",
     "text": [
      "Square 2.1.1 320 23000000\n",
      "{'Square': <__main__.Package object at 0x782b068cdde0>, 'Paypal': <__main__.Package object at 0x782b068cdf60>}\n",
      "dict_keys(['Square', 'Paypal'])\n",
      "dict_items([('Square', <__main__.Package object at 0x782b068cdde0>), ('Paypal', <__main__.Package object at 0x782b068cdf60>)])\n",
      "{'Ubuntu': <__main__.Package object at 0x782b068cdf00>, 'Raspberry': <__main__.Package object at 0x782b068cff40>, 'Windows': <__main__.Package object at 0x782b068cded0>}\n",
      "dict_keys(['Ubuntu', 'Raspberry', 'Windows'])\n",
      "dict_items([('Ubuntu', <__main__.Package object at 0x782b068cdf00>), ('Raspberry', <__main__.Package object at 0x782b068cff40>), ('Windows', <__main__.Package object at 0x782b068cded0>)])\n",
      "42000000\n",
      "57600000000\n"
     ]
    }
   ],
   "source": [
    "# Two Classes\n",
    "# Package - A class for software name, version, size and many other attributes\n",
    "# Repository - A class of collection of Package class\n",
    "# Reposiotory is Not a Package AND Package is Not a Repository\n",
    "# However, Repository can contain many different Packages in terms of software management\n",
    "# Create a Repository Class using Composition\n",
    "\n",
    "class Repository:\n",
    "    def __init__(self):\n",
    "        self.packages = {}  # initialize with empty dictionary, to hold instances of Packages, each Repository will have its own Packages\n",
    "    def add_package(self, package):\n",
    "        self.packages[package.name] = package  # here, using package name as key, value to be the instance of package\n",
    "    def remove_package(self, pacakge):\n",
    "        self.packages.pop(package.name)\n",
    "    def total_size(self):  # getting the total size of all the packages in the repository\n",
    "        result = 0\n",
    "        for package in self.packages.values():  # only need to aceess the size attribues from the list of values\n",
    "            result += package.size\n",
    "        return result\n",
    "        \n",
    "class Package:\n",
    "    def __init__(self, name, ver, num_files, size):\n",
    "        self.name = name\n",
    "        self.ver = ver\n",
    "        self.num_files = num_files\n",
    "        self.size = size\n",
    "        \n",
    "# Test with some instances\n",
    "\n",
    "repo_fin = Repository()\n",
    "repo_os = Repository()\n",
    "\n",
    "pk_square = Package(\"Square\", \"2.1.1\", 320, 23000000)\n",
    "print(pk_square.name, pk_square.ver, pk_square.num_files, pk_square.size)\n",
    "pk_paypal = Package(\"Paypal\", \"1.2.1\", 280, 19000000)\n",
    "pk_ubuntu = Package(\"Ubuntu\", \"LST 2.3.1\", 3700, 12000000000)\n",
    "pk_raspberry = Package(\"Raspberry\", \"LST 3.2.1\", 1700, 600000000)\n",
    "pk_win = Package(\"Windows\", \"11.0.2\", 9800, 45000000000)\n",
    "\n",
    "repo_fin.add_package(pk_square)\n",
    "repo_fin.add_package(pk_paypal)\n",
    "print(repo_fin.packages)\n",
    "print(repo_fin.packages.keys())\n",
    "print(repo_fin.packages.items())\n",
    "\n",
    "repo_os.add_package(pk_ubuntu)\n",
    "repo_os.add_package(pk_raspberry)\n",
    "repo_os.add_package(pk_win)\n",
    "print(repo_os.packages)\n",
    "print(repo_os.packages.keys())\n",
    "print(repo_os.packages.items())\n",
    "\n",
    "print(repo_fin.total_size())\n",
    "print(repo_os.total_size())"
   ]
  },
  {
   "cell_type": "code",
   "execution_count": 82,
   "id": "486ee665",
   "metadata": {
    "execution": {
     "iopub.execute_input": "2023-06-27T19:26:53.323478Z",
     "iopub.status.busy": "2023-06-27T19:26:53.323073Z",
     "iopub.status.idle": "2023-06-27T19:26:53.341621Z",
     "shell.execute_reply": "2023-06-27T19:26:53.339828Z"
    },
    "papermill": {
     "duration": 0.07151,
     "end_time": "2023-06-27T19:26:53.344115",
     "exception": false,
     "start_time": "2023-06-27T19:26:53.272605",
     "status": "completed"
    },
    "tags": []
   },
   "outputs": [
    {
     "name": "stdout",
     "output_type": "stream",
     "text": [
      "Polo\n",
      "Cotton\n",
      "{'name': [], 'material': [], 'amount': []}\n",
      "Sweatpants\n",
      "Cotton\n",
      "{'name': [], 'material': [], 'amount': []}\n",
      "Polo\n",
      "Cotton\n",
      "{'name': ['Polo'], 'material': ['Cotton'], 'amount': [4]}\n",
      "Sweatpants\n",
      "Cotton\n",
      "{'name': ['Polo', 'Sweatpants'], 'material': ['Cotton', 'Cotton'], 'amount': [4, 6]}\n",
      "Accessing with polo instance.............\n",
      "Polo\n",
      "Cotton\n",
      "{'name': ['Polo', 'Sweatpants'], 'material': ['Cotton', 'Cotton'], 'amount': [4, 6]}\n",
      "Accessing with sweatpants instance...............\n",
      "Sweatpants\n",
      "Cotton\n",
      "{'name': ['Polo', 'Sweatpants'], 'material': ['Cotton', 'Cotton'], 'amount': [4, 6]}\n",
      "***** The class level dictionary is shared with all instances - pants, sweatpants. ****\n",
      "Accessing Cotton, n = 0, count = 4\n",
      "Accessing Cotton, n = 1, count = 10\n",
      "10\n"
     ]
    }
   ],
   "source": [
    "# Finish the 'Stock_by_Material' method and iterate over the amount of each item of a given material \n",
    "# that is in stock. When done, the script should add up to 10 cotton clothing items\n",
    "\n",
    "\n",
    "# base class\n",
    "class Clothing:\n",
    "    stock={ 'name': [],'material' :[], 'amount':[]}  # mutable variable defined and changed through at class level, shared by all instances\n",
    "    \n",
    "    def __init__(self,name):\n",
    "        material = \"\"\n",
    "        self.name = name\n",
    "    \n",
    "    def add_item(self, name, material, amount):\n",
    "        Clothing.stock['name'].append(self.name)\n",
    "        Clothing.stock['material'].append(self.material)\n",
    "        Clothing.stock['amount'].append(amount)\n",
    "    \n",
    "    def Stock_by_Material(self, material):\n",
    "        count=0\n",
    "        n=0\n",
    "        for item in Clothing.stock['material']:\n",
    "            #print(Clothing.stock['material'])\n",
    "            if item == material:\n",
    "                count += Clothing.stock['amount'][n]\n",
    "                print(\"Accessing {}, n = {}, count = {}\".format(item, n, count))\n",
    "                n += 1\n",
    "                \n",
    "        return count\n",
    "\n",
    "# two sub-classes\n",
    "class Shirt(Clothing):  # inherit from Clothing, set its own material instance variable 'material'\n",
    "    material=\"Cotton\"\n",
    "\n",
    "class Pants(Clothing):  # inherit from Clothing, set its own material instance variable 'material'\n",
    "    material=\"Cotton\"  \n",
    "\n",
    "\n",
    "polo = Shirt(\"Polo\")  # instance of Shirt, constructing with name = \"Polo\"\n",
    "print(polo.name)\n",
    "print(polo.material)\n",
    "print(polo.stock)\n",
    "\n",
    "sweatpants = Pants(\"Sweatpants\")    # instance of Pants, constructing with name = \"Smartpants\"\n",
    "print(sweatpants.name)\n",
    "print(sweatpants.material)\n",
    "print(sweatpants.stock)\n",
    "\n",
    "polo.add_item(polo.name, polo.material, 4)\n",
    "print(polo.name)\n",
    "print(polo.material)\n",
    "print(polo.stock)\n",
    "\n",
    "sweatpants.add_item(sweatpants.name, sweatpants.material, 6)\n",
    "print(sweatpants.name)\n",
    "print(sweatpants.material)\n",
    "print(sweatpants.stock)\n",
    "\n",
    "print(\"Accessing with polo instance.............\")\n",
    "print(polo.name)\n",
    "print(polo.material)\n",
    "print(polo.stock)\n",
    "\n",
    "print(\"Accessing with sweatpants instance...............\")\n",
    "print(sweatpants.name)\n",
    "print(sweatpants.material)\n",
    "print(sweatpants.stock)\n",
    "\n",
    "print(\"***** The class level dictionary is shared with all instances - pants, sweatpants. ****\")\n",
    "\n",
    "\n",
    "current_stock = polo.Stock_by_Material(\"Cotton\")\n",
    "print(current_stock)"
   ]
  },
  {
   "cell_type": "markdown",
   "id": "1bc0c3dd",
   "metadata": {
    "papermill": {
     "duration": 0.054792,
     "end_time": "2023-06-27T19:26:53.450197",
     "exception": false,
     "start_time": "2023-06-27T19:26:53.395405",
     "status": "completed"
    },
    "tags": []
   },
   "source": [
    "### Code Reuse Summary\n",
    "Using, Animals and Zoo senario\n",
    "\n",
    "* ##### Base class\n",
    "* ##### Subclass\n",
    "* ##### Inheritance & Object Composition\n"
   ]
  },
  {
   "cell_type": "code",
   "execution_count": 83,
   "id": "063e059c",
   "metadata": {
    "execution": {
     "iopub.execute_input": "2023-06-27T19:26:53.556479Z",
     "iopub.status.busy": "2023-06-27T19:26:53.555714Z",
     "iopub.status.idle": "2023-06-27T19:26:53.561631Z",
     "shell.execute_reply": "2023-06-27T19:26:53.560572Z"
    },
    "papermill": {
     "duration": 0.062081,
     "end_time": "2023-06-27T19:26:53.564748",
     "exception": false,
     "start_time": "2023-06-27T19:26:53.502667",
     "status": "completed"
    },
    "tags": []
   },
   "outputs": [],
   "source": [
    "# Animal base class - simple Animal class with constructor\n",
    "\n",
    "# Many can be an Animal with different names and categories.\n",
    "\n",
    "class Animal:\n",
    "    name = \"\"\n",
    "    category = \"\"\n",
    "    \n",
    "    def __init__(self, name):\n",
    "        self.name = name\n",
    "    \n",
    "    def set_category(self, category):\n",
    "        self.category = category"
   ]
  },
  {
   "cell_type": "code",
   "execution_count": 84,
   "id": "526f9af9",
   "metadata": {
    "execution": {
     "iopub.execute_input": "2023-06-27T19:26:53.667512Z",
     "iopub.status.busy": "2023-06-27T19:26:53.666782Z",
     "iopub.status.idle": "2023-06-27T19:26:53.673048Z",
     "shell.execute_reply": "2023-06-27T19:26:53.671676Z"
    },
    "papermill": {
     "duration": 0.060419,
     "end_time": "2023-06-27T19:26:53.676178",
     "exception": false,
     "start_time": "2023-06-27T19:26:53.615759",
     "status": "completed"
    },
    "tags": []
   },
   "outputs": [
    {
     "name": "stdout",
     "output_type": "stream",
     "text": [
      "reptile\n"
     ]
    }
   ],
   "source": [
    "# Turtle IS-AN Animal and reptile, subclass \n",
    "\n",
    "class Turtle(Animal):\n",
    "    category = \"reptile\"\n",
    "\n",
    "print(Turtle.category)"
   ]
  },
  {
   "cell_type": "code",
   "execution_count": 85,
   "id": "b25ea1ec",
   "metadata": {
    "execution": {
     "iopub.execute_input": "2023-06-27T19:26:53.782216Z",
     "iopub.status.busy": "2023-06-27T19:26:53.781799Z",
     "iopub.status.idle": "2023-06-27T19:26:53.789908Z",
     "shell.execute_reply": "2023-06-27T19:26:53.788978Z"
    },
    "papermill": {
     "duration": 0.065615,
     "end_time": "2023-06-27T19:26:53.792630",
     "exception": false,
     "start_time": "2023-06-27T19:26:53.727015",
     "status": "completed"
    },
    "tags": []
   },
   "outputs": [
    {
     "name": "stdout",
     "output_type": "stream",
     "text": [
      "reptile\n"
     ]
    }
   ],
   "source": [
    "# Snake IS-AN Animal and reptile, another subclass and some other animals\n",
    "\n",
    "class Snake(Animal):\n",
    "    category = \"reptile\"\n",
    "\n",
    "print(Snake.category)\n",
    "\n",
    "class Elephant(Animal):\n",
    "    category = \"mammal\"\n",
    "\n",
    "class Whale(Animal):\n",
    "    category = \"mammal\"\n",
    "    \n",
    "class Lion(Animal):\n",
    "    category = \"mammal\"\n",
    "\n",
    "class Sparrow(Animal):\n",
    "    category = \"bird\"\n",
    "\n",
    "class Eagle(Animal):\n",
    "    category = \"bird\"\n",
    "\n",
    "class Owl(Animal):\n",
    "    category = \"bird\"\n",
    "\n"
   ]
  },
  {
   "cell_type": "code",
   "execution_count": 86,
   "id": "cb6425bd",
   "metadata": {
    "execution": {
     "iopub.execute_input": "2023-06-27T19:26:53.896379Z",
     "iopub.status.busy": "2023-06-27T19:26:53.895871Z",
     "iopub.status.idle": "2023-06-27T19:26:53.904966Z",
     "shell.execute_reply": "2023-06-27T19:26:53.903049Z"
    },
    "papermill": {
     "duration": 0.06547,
     "end_time": "2023-06-27T19:26:53.908353",
     "exception": false,
     "start_time": "2023-06-27T19:26:53.842883",
     "status": "completed"
    },
    "tags": []
   },
   "outputs": [],
   "source": [
    "# They decided to build a Zoo to have some animals\n",
    "# Zoo IS-NOT-AN Animal, Animal IS-NOT-AN Zoo, but they are related\n",
    "# Zoo can HAVE / CONTAIN some Animals\n",
    "\n",
    "# Build a simple Zoo that can do:\n",
    "# 1. Take Animals, \n",
    "# 2. Count animals for each category\n",
    "# This class uses the concept of Composition NOT inheritance\n",
    "\n",
    "class Zoo:\n",
    "    def __init__(self):\n",
    "        self.current_animals = {}\n",
    "    \n",
    "    def add_animal(self, animal):\n",
    "        self.current_animals[animal.name] = animal.category      \n",
    "    \n",
    "    def total_of_category(self, category):\n",
    "        count = 0\n",
    "        for animal in self.current_animals.values():\n",
    "            #print(self.current_animals.values())\n",
    "            #print(\"checking: \", animal)\n",
    "            #print(\"count: \" + str(count))\n",
    "            if animal == category:\n",
    "                count += 1\n",
    "        return count\n",
    "        \n",
    "zoo = Zoo()\n",
    "    "
   ]
  },
  {
   "cell_type": "code",
   "execution_count": 87,
   "id": "d698587a",
   "metadata": {
    "execution": {
     "iopub.execute_input": "2023-06-27T19:26:54.015069Z",
     "iopub.status.busy": "2023-06-27T19:26:54.014648Z",
     "iopub.status.idle": "2023-06-27T19:26:54.025717Z",
     "shell.execute_reply": "2023-06-27T19:26:54.024113Z"
    },
    "papermill": {
     "duration": 0.06834,
     "end_time": "2023-06-27T19:26:54.028317",
     "exception": false,
     "start_time": "2023-06-27T19:26:53.959977",
     "status": "completed"
    },
    "tags": []
   },
   "outputs": [
    {
     "name": "stdout",
     "output_type": "stream",
     "text": [
      "3\n",
      "4\n",
      "3\n",
      "{'Turtle': 'reptile', 'Cobra': 'reptile', 'Python': 'reptile', 'Lion': 'mammal', 'Orca': 'mammal', 'Mobi': 'mammal', 'Elephant': 'mammal', 'Bald-head Eagle': 'bird', 'Sparrow': 'bird', 'White Owl': 'bird'}\n"
     ]
    }
   ],
   "source": [
    "# create some individual animal instances and add them to Zoo\n",
    "turtle = Turtle(\"Turtle\")\n",
    "cobra = Snake(\"Cobra\")\n",
    "python = Snake(\"Python\")\n",
    "\n",
    "lion = Lion(\"Lion\")\n",
    "orca = Whale(\"Orca\")\n",
    "mobi = Whale(\"Mobi\")\n",
    "elephant = Elephant(\"Elephant\")\n",
    "\n",
    "eagle = Eagle(\"Bald-head Eagle\")\n",
    "sparrow = Sparrow(\"Sparrow\")\n",
    "owl = Owl(\"White Owl\")\n",
    "\n",
    "\n",
    "# Add the animals to the zoo\n",
    "zoo.add_animal(turtle)\n",
    "zoo.add_animal(cobra)\n",
    "zoo.add_animal(python)\n",
    "#print(zoo.current_animals)\n",
    "\n",
    "zoo.add_animal(lion)\n",
    "zoo.add_animal(orca)\n",
    "zoo.add_animal(mobi)\n",
    "zoo.add_animal(elephant)\n",
    "\n",
    "zoo.add_animal(eagle)\n",
    "zoo.add_animal(sparrow)\n",
    "zoo.add_animal(owl)\n",
    "\n",
    "\n",
    "\n",
    "# Test and find how many animals are in a specific category.\n",
    "print(zoo.total_of_category(\"reptile\")) # 3\n",
    "print(zoo.total_of_category(\"mammal\")) # 4\n",
    "print(zoo.total_of_category(\"bird\")) # 3\n",
    "\n",
    "print(zoo.current_animals)\n"
   ]
  },
  {
   "cell_type": "markdown",
   "id": "c656a843",
   "metadata": {
    "papermill": {
     "duration": 0.048446,
     "end_time": "2023-06-27T19:26:54.126565",
     "exception": false,
     "start_time": "2023-06-27T19:26:54.078119",
     "status": "completed"
    },
    "tags": []
   },
   "source": [
    "## Assessment - Object-oriented programming\n",
    "\n",
    "#### Create a few classes to simulate a server that's taking connections from the outside\n",
    "#### Load balancer that ensures that there are enough servers to serve those connections.\n",
    "\n",
    "### Server class. \n",
    "#### Each connection is represented by an id, that could, for example, be the IP address of the computer connecting to the server. \n",
    "#### Each connection creates a random amount of load in the server, between 1 and 10."
   ]
  },
  {
   "cell_type": "code",
   "execution_count": 88,
   "id": "bca0b872",
   "metadata": {
    "execution": {
     "iopub.execute_input": "2023-06-27T19:26:54.231557Z",
     "iopub.status.busy": "2023-06-27T19:26:54.231103Z",
     "iopub.status.idle": "2023-06-27T19:26:54.237983Z",
     "shell.execute_reply": "2023-06-27T19:26:54.236850Z"
    },
    "papermill": {
     "duration": 0.061514,
     "end_time": "2023-06-27T19:26:54.240982",
     "exception": false,
     "start_time": "2023-06-27T19:26:54.179468",
     "status": "completed"
    },
    "tags": []
   },
   "outputs": [
    {
     "name": "stdout",
     "output_type": "stream",
     "text": [
      "0.49887359569776324\n",
      "4.988735956977632\n",
      "5.988735956977632\n"
     ]
    }
   ],
   "source": [
    "import random\n",
    "\n",
    "r = random.random()\n",
    "print(r)\n",
    "r = r*10\n",
    "print(r)\n",
    "r = r+1\n",
    "print(r)"
   ]
  },
  {
   "cell_type": "markdown",
   "id": "905a9444",
   "metadata": {
    "papermill": {
     "duration": 0.053004,
     "end_time": "2023-06-27T19:26:54.349390",
     "exception": false,
     "start_time": "2023-06-27T19:26:54.296386",
     "status": "completed"
    },
    "tags": []
   },
   "source": [
    "> check out scenario-server-spinup for oop assessment"
   ]
  }
 ],
 "metadata": {
  "kernelspec": {
   "display_name": "Python 3",
   "language": "python",
   "name": "python3"
  },
  "language_info": {
   "codemirror_mode": {
    "name": "ipython",
    "version": 3
   },
   "file_extension": ".py",
   "mimetype": "text/x-python",
   "name": "python",
   "nbconvert_exporter": "python",
   "pygments_lexer": "ipython3",
   "version": "3.10.10"
  },
  "papermill": {
   "default_parameters": {},
   "duration": 31.506801,
   "end_time": "2023-06-27T19:26:55.323896",
   "environment_variables": {},
   "exception": null,
   "input_path": "__notebook__.ipynb",
   "output_path": "__notebook__.ipynb",
   "parameters": {},
   "start_time": "2023-06-27T19:26:23.817095",
   "version": "2.4.0"
  }
 },
 "nbformat": 4,
 "nbformat_minor": 5
}
